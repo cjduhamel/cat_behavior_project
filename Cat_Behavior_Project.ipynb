{
 "cells": [
  {
   "cell_type": "code",
   "execution_count": 3,
   "metadata": {
    "id": "qPeTnsCEQtsH"
   },
   "outputs": [],
   "source": [
    "\n",
    "import pandas as pd\n",
    "import matplotlib.pyplot as plt\n",
    "from sklearn.metrics import classification_report, confusion_matrix\n",
    "from sklearn.model_selection import train_test_split\n",
    "from sklearn.tree import DecisionTreeClassifier, plot_tree\n",
    "from sklearn.preprocessing import LabelEncoder\n",
    "from sklearn.ensemble import RandomForestClassifier\n",
    "import seaborn as sns\n",
    "from scipy.stats import f_oneway\n",
    "from sklearn.decomposition import FactorAnalysis\n",
    "\n"
   ]
  },
  {
   "cell_type": "code",
   "execution_count": 4,
   "metadata": {
    "colab": {
     "base_uri": "https://localhost:8080/",
     "height": 474
    },
    "id": "KbvvWPNES5YD",
    "outputId": "d8d35a88-878c-4105-c6db-5dac85e5a3b4"
   },
   "outputs": [
    {
     "data": {
      "text/html": [
       "<div>\n",
       "<style scoped>\n",
       "    .dataframe tbody tr th:only-of-type {\n",
       "        vertical-align: middle;\n",
       "    }\n",
       "\n",
       "    .dataframe tbody tr th {\n",
       "        vertical-align: top;\n",
       "    }\n",
       "\n",
       "    .dataframe thead th {\n",
       "        text-align: right;\n",
       "    }\n",
       "</style>\n",
       "<table border=\"1\" class=\"dataframe\">\n",
       "  <thead>\n",
       "    <tr style=\"text-align: right;\">\n",
       "      <th></th>\n",
       "      <th>Row.names</th>\n",
       "      <th>Parliament</th>\n",
       "      <th>Sex</th>\n",
       "      <th>Age</th>\n",
       "      <th>Breed</th>\n",
       "      <th>Number</th>\n",
       "      <th>Accommodation</th>\n",
       "      <th>Area</th>\n",
       "      <th>Outdoor</th>\n",
       "      <th>Obs</th>\n",
       "      <th>...</th>\n",
       "      <th>Brutal</th>\n",
       "      <th>Dominant</th>\n",
       "      <th>Aggressive</th>\n",
       "      <th>Impulsive</th>\n",
       "      <th>Predictable</th>\n",
       "      <th>Distracted</th>\n",
       "      <th>Abundance</th>\n",
       "      <th>Predoiseau</th>\n",
       "      <th>Predmamm</th>\n",
       "      <th>More</th>\n",
       "    </tr>\n",
       "  </thead>\n",
       "  <tbody>\n",
       "    <tr>\n",
       "      <th>0</th>\n",
       "      <td>1</td>\n",
       "      <td>2021-02-09 16:36:39</td>\n",
       "      <td>F</td>\n",
       "      <td>Moinsde1</td>\n",
       "      <td>SBI</td>\n",
       "      <td>3</td>\n",
       "      <td>ASB</td>\n",
       "      <td>U</td>\n",
       "      <td>0</td>\n",
       "      <td>0</td>\n",
       "      <td>...</td>\n",
       "      <td>1</td>\n",
       "      <td>1</td>\n",
       "      <td>1</td>\n",
       "      <td>1</td>\n",
       "      <td>1</td>\n",
       "      <td>1</td>\n",
       "      <td>NSP</td>\n",
       "      <td>4</td>\n",
       "      <td>4</td>\n",
       "      <td>NaN</td>\n",
       "    </tr>\n",
       "    <tr>\n",
       "      <th>1</th>\n",
       "      <td>10</td>\n",
       "      <td>2021-02-12 18:25:58</td>\n",
       "      <td>F</td>\n",
       "      <td>Moinsde1</td>\n",
       "      <td>SBI</td>\n",
       "      <td>1</td>\n",
       "      <td>AAB</td>\n",
       "      <td>U</td>\n",
       "      <td>0</td>\n",
       "      <td>2</td>\n",
       "      <td>...</td>\n",
       "      <td>2</td>\n",
       "      <td>2</td>\n",
       "      <td>3</td>\n",
       "      <td>4</td>\n",
       "      <td>4</td>\n",
       "      <td>3</td>\n",
       "      <td>NSP</td>\n",
       "      <td>0</td>\n",
       "      <td>0</td>\n",
       "      <td>NaN</td>\n",
       "    </tr>\n",
       "    <tr>\n",
       "      <th>2</th>\n",
       "      <td>100</td>\n",
       "      <td>2021-03-06 22:04:33</td>\n",
       "      <td>F</td>\n",
       "      <td>2a10</td>\n",
       "      <td>EUR</td>\n",
       "      <td>4</td>\n",
       "      <td>ML</td>\n",
       "      <td>U</td>\n",
       "      <td>0</td>\n",
       "      <td>2</td>\n",
       "      <td>...</td>\n",
       "      <td>1</td>\n",
       "      <td>1</td>\n",
       "      <td>1</td>\n",
       "      <td>2</td>\n",
       "      <td>4</td>\n",
       "      <td>2</td>\n",
       "      <td>NSP</td>\n",
       "      <td>0</td>\n",
       "      <td>0</td>\n",
       "      <td>Elle ne chasse pas car elle ne sort pas, si el...</td>\n",
       "    </tr>\n",
       "    <tr>\n",
       "      <th>3</th>\n",
       "      <td>1000</td>\n",
       "      <td>2021-02-18 16:10:11</td>\n",
       "      <td>F</td>\n",
       "      <td>Moinsde1</td>\n",
       "      <td>EUR</td>\n",
       "      <td>1</td>\n",
       "      <td>ML</td>\n",
       "      <td>R</td>\n",
       "      <td>2</td>\n",
       "      <td>2</td>\n",
       "      <td>...</td>\n",
       "      <td>4</td>\n",
       "      <td>3</td>\n",
       "      <td>3</td>\n",
       "      <td>3</td>\n",
       "      <td>4</td>\n",
       "      <td>4</td>\n",
       "      <td>3</td>\n",
       "      <td>0</td>\n",
       "      <td>0</td>\n",
       "      <td>Elle vient quand je l'appelle</td>\n",
       "    </tr>\n",
       "    <tr>\n",
       "      <th>4</th>\n",
       "      <td>1001</td>\n",
       "      <td>2021-02-18 18:00:51</td>\n",
       "      <td>F</td>\n",
       "      <td>1a2</td>\n",
       "      <td>SBI</td>\n",
       "      <td>2</td>\n",
       "      <td>MI</td>\n",
       "      <td>R</td>\n",
       "      <td>1</td>\n",
       "      <td>2</td>\n",
       "      <td>...</td>\n",
       "      <td>2</td>\n",
       "      <td>4</td>\n",
       "      <td>1</td>\n",
       "      <td>4</td>\n",
       "      <td>3</td>\n",
       "      <td>3</td>\n",
       "      <td>3</td>\n",
       "      <td>0</td>\n",
       "      <td>0</td>\n",
       "      <td>NaN</td>\n",
       "    </tr>\n",
       "  </tbody>\n",
       "</table>\n",
       "<p>5 rows × 29 columns</p>\n",
       "</div>"
      ],
      "text/plain": [
       "   Row.names          Parliament Sex       Age Breed Number Accommodation  \\\n",
       "0          1 2021-02-09 16:36:39   F  Moinsde1   SBI      3           ASB   \n",
       "1         10 2021-02-12 18:25:58   F  Moinsde1   SBI      1           AAB   \n",
       "2        100 2021-03-06 22:04:33   F      2a10   EUR      4            ML   \n",
       "3       1000 2021-02-18 16:10:11   F  Moinsde1   EUR      1            ML   \n",
       "4       1001 2021-02-18 18:00:51   F       1a2   SBI      2            MI   \n",
       "\n",
       "  Area  Outdoor  Obs  ...  Brutal  Dominant  Aggressive  Impulsive  \\\n",
       "0    U        0    0  ...       1         1           1          1   \n",
       "1    U        0    2  ...       2         2           3          4   \n",
       "2    U        0    2  ...       1         1           1          2   \n",
       "3    R        2    2  ...       4         3           3          3   \n",
       "4    R        1    2  ...       2         4           1          4   \n",
       "\n",
       "   Predictable  Distracted  Abundance  Predoiseau  Predmamm  \\\n",
       "0            1           1        NSP           4         4   \n",
       "1            4           3        NSP           0         0   \n",
       "2            4           2        NSP           0         0   \n",
       "3            4           4          3           0         0   \n",
       "4            3           3          3           0         0   \n",
       "\n",
       "                                                More  \n",
       "0                                                NaN  \n",
       "1                                                NaN  \n",
       "2  Elle ne chasse pas car elle ne sort pas, si el...  \n",
       "3                      Elle vient quand je l'appelle  \n",
       "4                                                NaN  \n",
       "\n",
       "[5 rows x 29 columns]"
      ]
     },
     "execution_count": 4,
     "metadata": {},
     "output_type": "execute_result"
    }
   ],
   "source": [
    "df = pd.read_excel('Cat_Data.xlsx')\n",
    "df.head()"
   ]
  },
  {
   "cell_type": "code",
   "execution_count": 5,
   "metadata": {
    "colab": {
     "base_uri": "https://localhost:8080/"
    },
    "id": "lXlAIYPrW_Ef",
    "outputId": "67a2698f-9eae-46a0-d6c7-c48d1ee1f3da"
   },
   "outputs": [
    {
     "data": {
      "text/plain": [
       "(3143, 29)"
      ]
     },
     "execution_count": 5,
     "metadata": {},
     "output_type": "execute_result"
    }
   ],
   "source": [
    "#first we have to understand our data set\n",
    "df.shape"
   ]
  },
  {
   "cell_type": "code",
   "execution_count": 6,
   "metadata": {
    "colab": {
     "base_uri": "https://localhost:8080/"
    },
    "id": "-lMj_7XYb2c1",
    "outputId": "639c1218-a419-4963-9a7a-f2d459aef7fa"
   },
   "outputs": [
    {
     "name": "stdout",
     "output_type": "stream",
     "text": [
      "<class 'pandas.core.frame.DataFrame'>\n",
      "RangeIndex: 3143 entries, 0 to 3142\n",
      "Data columns (total 29 columns):\n",
      " #   Column         Non-Null Count  Dtype         \n",
      "---  ------         --------------  -----         \n",
      " 0   Row.names      3143 non-null   int64         \n",
      " 1   Parliament     3143 non-null   datetime64[ns]\n",
      " 2   Sex            3143 non-null   object        \n",
      " 3   Age            3143 non-null   object        \n",
      " 4   Breed          3143 non-null   object        \n",
      " 5   Number         3143 non-null   object        \n",
      " 6   Accommodation  3143 non-null   object        \n",
      " 7   Area           3143 non-null   object        \n",
      " 8   Outdoor        3143 non-null   int64         \n",
      " 9   Obs            3143 non-null   int64         \n",
      " 10  Timid          3143 non-null   int64         \n",
      " 11  Calm           3143 non-null   int64         \n",
      " 12  Afraid         3143 non-null   int64         \n",
      " 13  Intelligent    3143 non-null   int64         \n",
      " 14  Vigilant       3143 non-null   int64         \n",
      " 15  Perseverant    3143 non-null   int64         \n",
      " 16  Affectionate   3143 non-null   int64         \n",
      " 17  Friendly       3143 non-null   int64         \n",
      " 18  Lonely         3143 non-null   int64         \n",
      " 19  Brutal         3143 non-null   int64         \n",
      " 20  Dominant       3143 non-null   int64         \n",
      " 21  Aggressive     3143 non-null   int64         \n",
      " 22  Impulsive      3143 non-null   int64         \n",
      " 23  Predictable    3143 non-null   int64         \n",
      " 24  Distracted     3143 non-null   int64         \n",
      " 25  Abundance      3143 non-null   object        \n",
      " 26  Predoiseau     3143 non-null   int64         \n",
      " 27  Predmamm       3143 non-null   int64         \n",
      " 28  More           821 non-null    object        \n",
      "dtypes: datetime64[ns](1), int64(20), object(8)\n",
      "memory usage: 712.2+ KB\n"
     ]
    }
   ],
   "source": [
    "df.info()"
   ]
  },
  {
   "cell_type": "code",
   "execution_count": 7,
   "metadata": {
    "colab": {
     "base_uri": "https://localhost:8080/"
    },
    "id": "uYCkIuZ7cGNS",
    "outputId": "a5ad6453-e949-4c21-d053-79d0a506a77d"
   },
   "outputs": [
    {
     "name": "stdout",
     "output_type": "stream",
     "text": [
      "Row.names           0\n",
      "Parliament          0\n",
      "Sex                 0\n",
      "Age                 0\n",
      "Breed               0\n",
      "Number              0\n",
      "Accommodation       0\n",
      "Area                0\n",
      "Outdoor             0\n",
      "Obs                 0\n",
      "Timid               0\n",
      "Calm                0\n",
      "Afraid              0\n",
      "Intelligent         0\n",
      "Vigilant            0\n",
      "Perseverant         0\n",
      "Affectionate        0\n",
      "Friendly            0\n",
      "Lonely              0\n",
      "Brutal              0\n",
      "Dominant            0\n",
      "Aggressive          0\n",
      "Impulsive           0\n",
      "Predictable         0\n",
      "Distracted          0\n",
      "Abundance           0\n",
      "Predoiseau          0\n",
      "Predmamm            0\n",
      "More             2322\n",
      "dtype: int64\n"
     ]
    }
   ],
   "source": [
    "print(df.isnull().sum())  # Total missing values per column"
   ]
  },
  {
   "cell_type": "code",
   "execution_count": 8,
   "metadata": {
    "colab": {
     "base_uri": "https://localhost:8080/"
    },
    "id": "apnnIQ21cSWG",
    "outputId": "51fe9c51-5f98-4266-c8f3-e19e76d7399a"
   },
   "outputs": [
    {
     "name": "stdout",
     "output_type": "stream",
     "text": [
      "Row.names         0.00000\n",
      "Parliament        0.00000\n",
      "Sex               0.00000\n",
      "Age               0.00000\n",
      "Breed             0.00000\n",
      "Number            0.00000\n",
      "Accommodation     0.00000\n",
      "Area              0.00000\n",
      "Outdoor           0.00000\n",
      "Obs               0.00000\n",
      "Timid             0.00000\n",
      "Calm              0.00000\n",
      "Afraid            0.00000\n",
      "Intelligent       0.00000\n",
      "Vigilant          0.00000\n",
      "Perseverant       0.00000\n",
      "Affectionate      0.00000\n",
      "Friendly          0.00000\n",
      "Lonely            0.00000\n",
      "Brutal            0.00000\n",
      "Dominant          0.00000\n",
      "Aggressive        0.00000\n",
      "Impulsive         0.00000\n",
      "Predictable       0.00000\n",
      "Distracted        0.00000\n",
      "Abundance         0.00000\n",
      "Predoiseau        0.00000\n",
      "Predmamm          0.00000\n",
      "More             73.87846\n",
      "dtype: float64\n"
     ]
    }
   ],
   "source": [
    "print(df.isnull().mean() * 100)  # Percentage of missing values per column\n"
   ]
  },
  {
   "cell_type": "code",
   "execution_count": 9,
   "metadata": {
    "id": "Ia7y9hkedAaw"
   },
   "outputs": [],
   "source": [
    "# Dropping columns we know from the start are irrelevant to us\n",
    "columns_to_drop = ['Row.names', 'Parliament', 'More', 'Breed']\n",
    "\n",
    "\n",
    "df = df.drop(columns=columns_to_drop)\n"
   ]
  },
  {
   "cell_type": "code",
   "execution_count": 10,
   "metadata": {
    "id": "UiMNiDT3sYZn"
   },
   "outputs": [],
   "source": [
    "# Row.names: Dropped because it is just an index and does not contribute meaningful information for prediction.\n",
    "# Parliament: Dropped because it represents a timestamp irrelevant to the analysis of predation behavior.\n",
    "# More: Dropped due to having a high proportion of missing values (only 821 non-null out of 3143), making it unreliable for modeling.\n",
    "# Breed: Dropped to avoid introducing bias related to breed, and to further generalize the model since most cat owners might not know the breed of their cat\n"
   ]
  },
  {
   "cell_type": "code",
   "execution_count": 11,
   "metadata": {
    "colab": {
     "base_uri": "https://localhost:8080/"
    },
    "id": "M6Exhpfifgxk",
    "outputId": "27365e5e-a6ed-4fb8-bcd2-52c7d8e2704d"
   },
   "outputs": [
    {
     "data": {
      "text/plain": [
       "(3143, 25)"
      ]
     },
     "execution_count": 11,
     "metadata": {},
     "output_type": "execute_result"
    }
   ],
   "source": [
    "df.shape"
   ]
  },
  {
   "cell_type": "code",
   "execution_count": 12,
   "metadata": {
    "id": "TDuNBRsv7qiL"
   },
   "outputs": [],
   "source": [
    "#further do feature selection. lets test the categorical features\n",
    "\n",
    "\n",
    "# Define the columns to test\n",
    "columns_to_test = ['Sex', 'Age', 'Area', 'Abundance', 'Accommodation', 'Number', 'Outdoor']\n",
    "\n",
    "# Function to run ANOVA for both target variables\n",
    "def run_anova(column, target1, target2):\n",
    "    print(f\"\\nANOVA results for {column}:\")\n",
    "\n",
    "    # ANOVA for Predoiseau\n",
    "    groups_predoiseau = [df[df[column] == cat][target1] for cat in df[column].unique()]\n",
    "    f_stat_predoiseau, p_value_predoiseau = f_oneway(*groups_predoiseau)\n",
    "    print(f\"  {target1} - F-statistic: {f_stat_predoiseau}, p-value: {p_value_predoiseau}\")\n",
    "\n",
    "    # ANOVA for Predmamm\n",
    "    groups_predmamm = [df[df[column] == cat][target2] for cat in df[column].unique()]\n",
    "    f_stat_predmamm, p_value_predmamm = f_oneway(*groups_predmamm)\n",
    "    print(f\"  {target2} - F-statistic: {f_stat_predmamm}, p-value: {p_value_predmamm}\")\n",
    "\n",
    "\n"
   ]
  },
  {
   "cell_type": "code",
   "execution_count": 13,
   "metadata": {
    "colab": {
     "base_uri": "https://localhost:8080/"
    },
    "id": "xa_07PGu7xL7",
    "outputId": "7862f618-2092-4654-bf98-3a7bd2b1e751"
   },
   "outputs": [
    {
     "name": "stdout",
     "output_type": "stream",
     "text": [
      "\n",
      "ANOVA results for Sex:\n",
      "  Predoiseau - F-statistic: 4.508834959682271, p-value: 0.011082666849820458\n",
      "  Predmamm - F-statistic: 4.284369622916389, p-value: 0.013862964312317979\n",
      "\n",
      "ANOVA results for Age:\n",
      "  Predoiseau - F-statistic: 29.98517472036175, p-value: 4.1565333056196377e-19\n",
      "  Predmamm - F-statistic: 31.02133131413673, p-value: 9.329703936251884e-20\n",
      "\n",
      "ANOVA results for Area:\n",
      "  Predoiseau - F-statistic: 89.76018893964755, p-value: 1.2338580065533955e-38\n",
      "  Predmamm - F-statistic: 140.82906608173317, p-value: 2.6795431495641175e-59\n",
      "\n",
      "ANOVA results for Abundance:\n",
      "  Predoiseau - F-statistic: 161.06022116522158, p-value: 4.2100807706120225e-97\n",
      "  Predmamm - F-statistic: 222.14647772092982, p-value: 1.0999712977313105e-130\n",
      "\n",
      "ANOVA results for Accommodation:\n",
      "  Predoiseau - F-statistic: 99.51818867517608, p-value: 1.5541565752845585e-61\n",
      "  Predmamm - F-statistic: 137.85391781628883, p-value: 6.658201535216674e-84\n",
      "\n",
      "ANOVA results for Number:\n",
      "  Predoiseau - F-statistic: 7.821948754326194, p-value: 2.5030666962660364e-07\n",
      "  Predmamm - F-statistic: 7.060280290706884, p-value: 1.4232496319921635e-06\n",
      "\n",
      "ANOVA results for Outdoor:\n",
      "  Predoiseau - F-statistic: 395.6335169613294, p-value: 3.007313057097894e-276\n",
      "  Predmamm - F-statistic: 531.3813173059344, p-value: 0.0\n"
     ]
    }
   ],
   "source": [
    "# Run ANOVA tests for all columns\n",
    "for column in columns_to_test:\n",
    "    run_anova(column, 'Predoiseau', 'Predmamm')"
   ]
  },
  {
   "cell_type": "code",
   "execution_count": 14,
   "metadata": {
    "colab": {
     "base_uri": "https://localhost:8080/",
     "height": 927
    },
    "id": "-0Nljaj48e7e",
    "outputId": "ed084397-f2de-499a-f1b7-ccc1c0a229fa"
   },
   "outputs": [
    {
     "data": {
      "image/png": "[encoded data removed]",
      "text/plain": [
       "<Figure size 640x480 with 1 Axes>"
      ]
     },
     "metadata": {},
     "output_type": "display_data"
    },
    {
     "data": {
      "image/png": "[encoded data removed]",
      "text/plain": [
       "<Figure size 640x480 with 1 Axes>"
      ]
     },
     "metadata": {},
     "output_type": "display_data"
    }
   ],
   "source": [
    "#considering to remove SEX since it shows the weakest significance.\n",
    "\n",
    "#doing box plots to prove point\n",
    "\n",
    "# Box plot for Predoiseau vs Sex\n",
    "sns.boxplot(x='Sex', y='Predoiseau', data=df)\n",
    "plt.title('Predoiseau by Sex')\n",
    "plt.show()\n",
    "\n",
    "# Box plot for Predmamm vs Sex\n",
    "sns.boxplot(x='Sex', y='Predmamm', data=df)\n",
    "plt.title('Predmamm by Sex')\n",
    "plt.show()\n"
   ]
  },
  {
   "cell_type": "markdown",
   "metadata": {
    "id": "UOPfdnqA8Vjw"
   },
   "source": [
    "First feature to drop:\n",
    "**Sex**\n",
    "\n",
    "While **Sex** shows statistical significance, its weaker p-values compared to other features, combined with minimal biological differences in predatory behavior between male and female domestic cats (per the visual) , make it a less impactful predictor"
   ]
  },
  {
   "cell_type": "code",
   "execution_count": 15,
   "metadata": {
    "id": "S5OTW6poFl-o"
   },
   "outputs": [],
   "source": [
    "# Remove Sex\n",
    "df = df.drop(columns=['Sex'])"
   ]
  },
  {
   "cell_type": "code",
   "execution_count": 16,
   "metadata": {
    "colab": {
     "base_uri": "https://localhost:8080/"
    },
    "id": "hpzdK9vl8uTq",
    "outputId": "c936cfde-b080-425a-df67-114c0553dc9c"
   },
   "outputs": [
    {
     "name": "stdout",
     "output_type": "stream",
     "text": [
      "\n",
      "ANOVA results for Age:\n",
      "  Predoiseau - F-statistic: 29.98517472036175, p-value: 4.1565333056196377e-19\n",
      "  Predmamm - F-statistic: 31.02133131413673, p-value: 9.329703936251884e-20\n",
      "\n",
      "ANOVA results for Area:\n",
      "  Predoiseau - F-statistic: 89.76018893964755, p-value: 1.2338580065533955e-38\n",
      "  Predmamm - F-statistic: 140.82906608173317, p-value: 2.6795431495641175e-59\n",
      "\n",
      "ANOVA results for Abundance:\n",
      "  Predoiseau - F-statistic: 161.06022116522158, p-value: 4.2100807706120225e-97\n",
      "  Predmamm - F-statistic: 222.14647772092982, p-value: 1.0999712977313105e-130\n",
      "\n",
      "ANOVA results for Accommodation:\n",
      "  Predoiseau - F-statistic: 99.51818867517608, p-value: 1.5541565752845585e-61\n",
      "  Predmamm - F-statistic: 137.85391781628883, p-value: 6.658201535216674e-84\n",
      "\n",
      "ANOVA results for Number:\n",
      "  Predoiseau - F-statistic: 7.821948754326194, p-value: 2.5030666962660364e-07\n",
      "  Predmamm - F-statistic: 7.060280290706884, p-value: 1.4232496319921635e-06\n",
      "\n",
      "ANOVA results for Outdoor:\n",
      "  Predoiseau - F-statistic: 395.6335169613294, p-value: 3.007313057097894e-276\n",
      "  Predmamm - F-statistic: 531.3813173059344, p-value: 0.0\n"
     ]
    }
   ],
   "source": [
    "\n",
    "\n",
    "# Update columns_to_test\n",
    "columns_to_test = ['Age', 'Area', 'Abundance', 'Accommodation', 'Number','Outdoor']\n",
    "\n",
    "# Re-run ANOVA for remaining columns\n",
    "for column in columns_to_test:\n",
    "    run_anova(column, 'Predoiseau', 'Predmamm')\n"
   ]
  },
  {
   "cell_type": "code",
   "execution_count": 17,
   "metadata": {
    "colab": {
     "base_uri": "https://localhost:8080/"
    },
    "id": "pcIKTmeQFuLc",
    "outputId": "dfe925a5-8b54-441f-8aaa-0bc65f647c6d"
   },
   "outputs": [
    {
     "data": {
      "text/plain": [
       "(3143, 24)"
      ]
     },
     "execution_count": 17,
     "metadata": {},
     "output_type": "execute_result"
    }
   ],
   "source": [
    "df.shape #shape after dropping sex"
   ]
  },
  {
   "cell_type": "code",
   "execution_count": 18,
   "metadata": {
    "colab": {
     "base_uri": "https://localhost:8080/",
     "height": 927
    },
    "id": "LcGS4u9m86Tl",
    "outputId": "c4558b38-2fbf-4208-9e10-355c907fa53d"
   },
   "outputs": [
    {
     "data": {
      "image/png": "[encoded data removed]",
      "text/plain": [
       "<Figure size 640x480 with 1 Axes>"
      ]
     },
     "metadata": {},
     "output_type": "display_data"
    },
    {
     "data": {
      "image/png": "[encoded data removed]",
      "text/plain": [
       "<Figure size 640x480 with 1 Axes>"
      ]
     },
     "metadata": {},
     "output_type": "display_data"
    }
   ],
   "source": [
    "#Now The number of cats in a house hold is the weakest feature.\n",
    "#lets do box plots to further evaluate its significance\n",
    "\n",
    "# Box plot for Predoiseau vs Number\n",
    "sns.boxplot(x='Number', y='Predoiseau', data=df)\n",
    "plt.title('Predoiseau by Number of Cats')\n",
    "plt.show()\n",
    "\n",
    "# Box plot for Predmamm vs Number\n",
    "sns.boxplot(x='Number', y='Predmamm', data=df)\n",
    "plt.title('Predmamm by Number of Cats')\n",
    "plt.show()"
   ]
  },
  {
   "cell_type": "markdown",
   "metadata": {
    "id": "fB3vB5wU9Urp"
   },
   "source": [
    "Second feature to drop:\n",
    "**Number**\n",
    "\n",
    "Although **Number** is statistically significant (per the anova test), the minimal variance observed between categories in the box plots and its relatively weaker contribution compared to other features like Abundance and Area make it a weak predictor for predicting predatory behavior."
   ]
  },
  {
   "cell_type": "code",
   "execution_count": 19,
   "metadata": {
    "id": "haJewPVm9liH"
   },
   "outputs": [],
   "source": [
    "df = df.drop(columns=['Number'])\n",
    "\n"
   ]
  },
  {
   "cell_type": "code",
   "execution_count": 20,
   "metadata": {
    "colab": {
     "base_uri": "https://localhost:8080/"
    },
    "id": "9Izs8G_r_Y2j",
    "outputId": "c2920855-f02f-4533-d33c-7ac27b9adfdc"
   },
   "outputs": [
    {
     "name": "stdout",
     "output_type": "stream",
     "text": [
      "\n",
      "ANOVA results for Age:\n",
      "  Predoiseau - F-statistic: 29.98517472036175, p-value: 4.1565333056196377e-19\n",
      "  Predmamm - F-statistic: 31.02133131413673, p-value: 9.329703936251884e-20\n",
      "\n",
      "ANOVA results for Area:\n",
      "  Predoiseau - F-statistic: 89.76018893964755, p-value: 1.2338580065533955e-38\n",
      "  Predmamm - F-statistic: 140.82906608173317, p-value: 2.6795431495641175e-59\n",
      "\n",
      "ANOVA results for Abundance:\n",
      "  Predoiseau - F-statistic: 161.06022116522158, p-value: 4.2100807706120225e-97\n",
      "  Predmamm - F-statistic: 222.14647772092982, p-value: 1.0999712977313105e-130\n",
      "\n",
      "ANOVA results for Accommodation:\n",
      "  Predoiseau - F-statistic: 99.51818867517608, p-value: 1.5541565752845585e-61\n",
      "  Predmamm - F-statistic: 137.85391781628883, p-value: 6.658201535216674e-84\n",
      "\n",
      "ANOVA results for Outdoor:\n",
      "  Predoiseau - F-statistic: 395.6335169613294, p-value: 3.007313057097894e-276\n",
      "  Predmamm - F-statistic: 531.3813173059344, p-value: 0.0\n"
     ]
    }
   ],
   "source": [
    "\n",
    "columns_to_test = ['Age', 'Area', 'Abundance', 'Accommodation', 'Outdoor']\n",
    "\n",
    "for column in columns_to_test:\n",
    "    run_anova(column, 'Predoiseau', 'Predmamm')"
   ]
  },
  {
   "cell_type": "code",
   "execution_count": 21,
   "metadata": {
    "colab": {
     "base_uri": "https://localhost:8080/"
    },
    "id": "MGIraNyl-W4I",
    "outputId": "7540250d-49d5-41fb-c3a7-8ffed4f2f77d"
   },
   "outputs": [
    {
     "data": {
      "text/plain": [
       "(3143, 23)"
      ]
     },
     "execution_count": 21,
     "metadata": {},
     "output_type": "execute_result"
    }
   ],
   "source": [
    "df.shape #shape after dropping number"
   ]
  },
  {
   "cell_type": "markdown",
   "metadata": {
    "id": "0QIC-JCk-iUQ"
   },
   "source": [
    "Based on the updated ANOVA results, the remaining features (Age, Area, Abundance, outdoor, and Accommodation) show extremely low p-values for both Predoiseau and Predmamm. This indicates that:\n",
    "\n",
    "**These Features Are Statistically Significant:**\n",
    "\n",
    "*  The p-values for all features are much smaller than 0.05, which confirms they are strongly associated with the target variables.\n",
    "\n",
    "**No Immediate Justification for Further Dropping Features:**\n",
    "\n",
    "\n",
    "*  The features exhibit strong differentiation across categories, as shown by their high F-statistics.\n",
    "\n",
    "*  None of these features have weak contributions or overlap to justify removal"
   ]
  },
  {
   "cell_type": "code",
   "execution_count": 22,
   "metadata": {
    "colab": {
     "base_uri": "https://localhost:8080/"
    },
    "id": "XTKTxOMZktUR",
    "outputId": "c92126c9-b8e3-482c-9edb-1faf183e47e1"
   },
   "outputs": [
    {
     "name": "stdout",
     "output_type": "stream",
     "text": [
      "Age              0\n",
      "Accommodation    0\n",
      "Area             0\n",
      "Outdoor          0\n",
      "Obs              0\n",
      "Timid            0\n",
      "Calm             0\n",
      "Afraid           0\n",
      "Intelligent      0\n",
      "Vigilant         0\n",
      "Perseverant      0\n",
      "Affectionate     0\n",
      "Friendly         0\n",
      "Lonely           0\n",
      "Brutal           0\n",
      "Dominant         0\n",
      "Aggressive       0\n",
      "Impulsive        0\n",
      "Predictable      0\n",
      "Distracted       0\n",
      "Abundance        0\n",
      "Predoiseau       0\n",
      "Predmamm         0\n",
      "dtype: int64\n"
     ]
    }
   ],
   "source": [
    "# double checking for potential NAN values\n",
    "print(df.isnull().sum())  # Displays the count of NaN values for each column\n"
   ]
  },
  {
   "cell_type": "code",
   "execution_count": 23,
   "metadata": {
    "colab": {
     "base_uri": "https://localhost:8080/",
     "height": 1000
    },
    "id": "E88OU8_2mY8j",
    "outputId": "6815646e-5c43-4d8b-bd7c-8a89ff4205ae"
   },
   "outputs": [
    {
     "data": {
      "image/png": "[encoded data removed]",
      "text/plain": [
       "<Figure size 1000x600 with 1 Axes>"
      ]
     },
     "metadata": {},
     "output_type": "display_data"
    },
    {
     "data": {
      "image/png": "[encoded data removed]",
      "text/plain": [
       "<Figure size 1000x600 with 1 Axes>"
      ]
     },
     "metadata": {},
     "output_type": "display_data"
    },
    {
     "data": {
      "image/png": "[encoded data removed]",
      "text/plain": [
       "<Figure size 1000x600 with 1 Axes>"
      ]
     },
     "metadata": {},
     "output_type": "display_data"
    },
    {
     "data": {
      "image/png": "[encoded data removed]",
      "text/plain": [
       "<Figure size 1000x600 with 1 Axes>"
      ]
     },
     "metadata": {},
     "output_type": "display_data"
    },
    {
     "data": {
      "image/png": "[encoded data removed]",
      "text/plain": [
       "<Figure size 1000x600 with 1 Axes>"
      ]
     },
     "metadata": {},
     "output_type": "display_data"
    },
    {
     "data": {
      "image/png": "[encoded data removed]",
      "text/plain": [
       "<Figure size 1000x600 with 1 Axes>"
      ]
     },
     "metadata": {},
     "output_type": "display_data"
    },
    {
     "data": {
      "image/png": "[encoded data removed]",
      "text/plain": [
       "<Figure size 1000x600 with 1 Axes>"
      ]
     },
     "metadata": {},
     "output_type": "display_data"
    },
    {
     "data": {
      "image/png": "[encoded data removed]",
      "text/plain": [
       "<Figure size 1000x600 with 1 Axes>"
      ]
     },
     "metadata": {},
     "output_type": "display_data"
    },
    {
     "data": {
      "image/png": "[encoded data removed]",
      "text/plain": [
       "<Figure size 1000x600 with 1 Axes>"
      ]
     },
     "metadata": {},
     "output_type": "display_data"
    },
    {
     "data": {
      "image/png": "[encoded data removed]",
      "text/plain": [
       "<Figure size 1000x600 with 1 Axes>"
      ]
     },
     "metadata": {},
     "output_type": "display_data"
    }
   ],
   "source": [
    "#plotting box plots for age, accomodatiion, area, outdoor and abundance to visually observe variance\n",
    "for column in columns_to_test:\n",
    "\n",
    "    plt.figure(figsize=(10, 6))\n",
    "    sns.boxplot(x=column, y='Predoiseau', data=df)\n",
    "    plt.title(f'Predoiseau by {column}')\n",
    "    plt.xticks(rotation=45)\n",
    "    plt.show()\n",
    "\n",
    "\n",
    "    plt.figure(figsize=(10, 6))\n",
    "    sns.boxplot(x=column, y='Predmamm', data=df)\n",
    "    plt.title(f'Predmamm by {column}')\n",
    "    plt.xticks(rotation=45)\n",
    "    plt.show()"
   ]
  },
  {
   "cell_type": "code",
   "execution_count": 24,
   "metadata": {
    "colab": {
     "base_uri": "https://localhost:8080/"
    },
    "id": "NhRaOpekm6fm",
    "outputId": "89ff1cd6-c4bd-4d1a-d4ed-94b4363ec50a"
   },
   "outputs": [
    {
     "name": "stdout",
     "output_type": "stream",
     "text": [
      "\n",
      "Mean Predoiseau and Predmamm by Age:\n",
      "          Predoiseau  Predmamm\n",
      "Age                           \n",
      "1a2         0.384117  0.585089\n",
      "2a10        0.583333  0.850641\n",
      "Moinsde1    0.200000  0.322951\n",
      "Plusde10    0.547753  0.761236\n",
      "\n",
      "Mean Predoiseau and Predmamm by Area:\n",
      "      Predoiseau  Predmamm\n",
      "Area                      \n",
      "PU      0.495098  0.689951\n",
      "R       0.685412  1.064385\n",
      "U       0.199091  0.260909\n",
      "\n",
      "Mean Predoiseau and Predmamm by Abundance:\n",
      "           Predoiseau  Predmamm\n",
      "Abundance                      \n",
      "1            0.088235  0.134454\n",
      "2            0.326675  0.433608\n",
      "3            0.831839  1.253363\n",
      "NSP          0.041667  0.058333\n",
      "\n",
      "Mean Predoiseau and Predmamm by Accommodation:\n",
      "               Predoiseau  Predmamm\n",
      "Accommodation                      \n",
      "AAB              0.153061  0.207908\n",
      "ASB              0.072973  0.118919\n",
      "MI               0.737263  1.151848\n",
      "ML               0.586032  0.805668\n",
      "\n",
      "Mean Predoiseau and Predmamm by Outdoor:\n",
      "         Predoiseau  Predmamm\n",
      "Outdoor                      \n",
      "0          0.038813  0.068493\n",
      "1          0.222756  0.320513\n",
      "2          0.797992  1.161857\n",
      "3          1.566845  2.334225\n",
      "4          1.529412  1.970588\n"
     ]
    }
   ],
   "source": [
    "#confirm variance and statisical significance\n",
    "for column in columns_to_test:\n",
    "    print(f\"\\nMean Predoiseau and Predmamm by {column}:\")\n",
    "    print(df.groupby(column)[['Predoiseau', 'Predmamm']].mean())"
   ]
  },
  {
   "cell_type": "markdown",
   "metadata": {
    "id": "7SDh2tD5AU80"
   },
   "source": [
    "### **Justifications for Keeping Features**\n",
    "\n",
    "1. **`Age`:**  \n",
    "   Age significantly differentiates predation behavior, as shown by clear variations in mean `Predoiseau` and `Predmamm` across age categories, aligning with biological expectations of hunting proficiency at different life stages.\n",
    "\n",
    "2. **`Area`:**  \n",
    "   Area strongly influences predation preferences, with significant differences in mean `Predoiseau` and `Predmamm` between urban, rural, and peri-urban categories, reflecting environmental availability of prey types.\n",
    "\n",
    "3. **`Abundance`:**  \n",
    "   Abundance is the strongest predictor, with dramatic differences in predation behavior across prey abundance levels, directly tying this feature to hunting opportunities and outcomes.\n",
    "\n",
    "4. **`Accommodation`:**  \n",
    "   Accommodation shapes predation behavior, with substantial variation in mean `Predoiseau` and `Predmamm` between living environments, highlighting how access to outdoor spaces impacts hunting activity.\n",
    "\n",
    "5. **`Outdoor`:**  \n",
    "   Outdoor time demonstrates a very strong relationship with predation behavior, as evidenced by its extremely low p-values in ANOVA. The clear hierarchy in outdoor levels (e.g., \"None\" to \"All the time\") reflects the significant influence of outdoor exposure on a cat's access to prey and hunting activity.\n"
   ]
  },
  {
   "cell_type": "markdown",
   "metadata": {
    "id": "UQLCvxbAAoAv"
   },
   "source": [
    "**Further Feature Selection**\n",
    "\n",
    "Reducing dimensionality based on the research guidelines to personality."
   ]
  },
  {
   "cell_type": "code",
   "execution_count": 25,
   "metadata": {
    "id": "biBDtINiAluS"
   },
   "outputs": [],
   "source": [
    "#further reducing dimensionality based on research\n",
    "# Calculate weighted factors based on the research diagram\n",
    "\n",
    "# Extraversion\n",
    "df['Extraversion'] = (\n",
    "    0.7 * df['Intelligent'] +\n",
    "    0.7 * df['Vigilant'] +\n",
    "    0.7 * df['Perseverant']\n",
    ")\n",
    "\n",
    "# Dominance\n",
    "df['Dominance'] = (\n",
    "    0.8 * df['Impulsive'] +\n",
    "    0.6 * df['Brutal'] +\n",
    "    0.6 * df['Aggressive'] +\n",
    "    0.6 * df['Dominant']\n",
    ")\n",
    "\n",
    "# Neuroticism\n",
    "df['Neuroticism'] = (\n",
    "    0.7 * df['Timid'] +\n",
    "    0.6 * df['Afraid'] +\n",
    "    0.4 * df['Lonely'] +\n",
    "    0.3 * df['Calm']\n",
    ")\n",
    "\n",
    "# Agreeableness\n",
    "df['Agreeableness'] = (\n",
    "    0.5 * df['Affectionate'] +\n",
    "    0.5 * df['Friendly'] +\n",
    "    0.4 * df['Predictable'] +\n",
    "    0.4 * df['Distracted']\n",
    ")\n"
   ]
  },
  {
   "cell_type": "code",
   "execution_count": 26,
   "metadata": {
    "colab": {
     "base_uri": "https://localhost:8080/"
    },
    "id": "bmDFFS8lAyFJ",
    "outputId": "47015f41-c48f-4a3d-b923-08be468e4aa9"
   },
   "outputs": [
    {
     "data": {
      "text/plain": [
       "(3143, 27)"
      ]
     },
     "execution_count": 26,
     "metadata": {},
     "output_type": "execute_result"
    }
   ],
   "source": [
    "df.shape #shape after adding 4 columns"
   ]
  },
  {
   "cell_type": "code",
   "execution_count": 27,
   "metadata": {
    "colab": {
     "base_uri": "https://localhost:8080/"
    },
    "id": "GeEABUuZA1xB",
    "outputId": "315c9f92-e61c-4784-8a59-bf531d317ca1"
   },
   "outputs": [
    {
     "data": {
      "text/plain": [
       "(3143, 12)"
      ]
     },
     "execution_count": 27,
     "metadata": {},
     "output_type": "execute_result"
    }
   ],
   "source": [
    "personality_traits = ['Timid', 'Calm', 'Afraid', 'Intelligent', 'Vigilant', 'Perseverant',\n",
    "                      'Affectionate', 'Friendly', 'Lonely', 'Brutal', 'Dominant',\n",
    "                      'Aggressive', 'Impulsive', 'Predictable', 'Distracted']\n",
    "df = df.drop(columns=personality_traits)\n",
    "\n",
    "df.shape #shape after removing unnecessary personlaity columns"
   ]
  },
  {
   "cell_type": "code",
   "execution_count": 28,
   "metadata": {
    "colab": {
     "base_uri": "https://localhost:8080/",
     "height": 204
    },
    "id": "D5JhInCzA8QG",
    "outputId": "d08a5fb2-ba8a-49eb-87aa-017b37545d11"
   },
   "outputs": [
    {
     "data": {
      "text/html": [
       "<div>\n",
       "<style scoped>\n",
       "    .dataframe tbody tr th:only-of-type {\n",
       "        vertical-align: middle;\n",
       "    }\n",
       "\n",
       "    .dataframe tbody tr th {\n",
       "        vertical-align: top;\n",
       "    }\n",
       "\n",
       "    .dataframe thead th {\n",
       "        text-align: right;\n",
       "    }\n",
       "</style>\n",
       "<table border=\"1\" class=\"dataframe\">\n",
       "  <thead>\n",
       "    <tr style=\"text-align: right;\">\n",
       "      <th></th>\n",
       "      <th>Age</th>\n",
       "      <th>Accommodation</th>\n",
       "      <th>Area</th>\n",
       "      <th>Outdoor</th>\n",
       "      <th>Obs</th>\n",
       "      <th>Abundance</th>\n",
       "      <th>Predoiseau</th>\n",
       "      <th>Predmamm</th>\n",
       "      <th>Extraversion</th>\n",
       "      <th>Dominance</th>\n",
       "      <th>Neuroticism</th>\n",
       "      <th>Agreeableness</th>\n",
       "    </tr>\n",
       "  </thead>\n",
       "  <tbody>\n",
       "    <tr>\n",
       "      <th>0</th>\n",
       "      <td>Moinsde1</td>\n",
       "      <td>ASB</td>\n",
       "      <td>U</td>\n",
       "      <td>0</td>\n",
       "      <td>0</td>\n",
       "      <td>NSP</td>\n",
       "      <td>4</td>\n",
       "      <td>4</td>\n",
       "      <td>2.1</td>\n",
       "      <td>2.6</td>\n",
       "      <td>2.0</td>\n",
       "      <td>1.8</td>\n",
       "    </tr>\n",
       "    <tr>\n",
       "      <th>1</th>\n",
       "      <td>Moinsde1</td>\n",
       "      <td>AAB</td>\n",
       "      <td>U</td>\n",
       "      <td>0</td>\n",
       "      <td>2</td>\n",
       "      <td>NSP</td>\n",
       "      <td>0</td>\n",
       "      <td>0</td>\n",
       "      <td>9.1</td>\n",
       "      <td>7.4</td>\n",
       "      <td>3.2</td>\n",
       "      <td>7.8</td>\n",
       "    </tr>\n",
       "    <tr>\n",
       "      <th>2</th>\n",
       "      <td>2a10</td>\n",
       "      <td>ML</td>\n",
       "      <td>U</td>\n",
       "      <td>0</td>\n",
       "      <td>2</td>\n",
       "      <td>NSP</td>\n",
       "      <td>0</td>\n",
       "      <td>0</td>\n",
       "      <td>9.8</td>\n",
       "      <td>3.4</td>\n",
       "      <td>6.6</td>\n",
       "      <td>6.9</td>\n",
       "    </tr>\n",
       "    <tr>\n",
       "      <th>3</th>\n",
       "      <td>Moinsde1</td>\n",
       "      <td>ML</td>\n",
       "      <td>R</td>\n",
       "      <td>2</td>\n",
       "      <td>2</td>\n",
       "      <td>3</td>\n",
       "      <td>0</td>\n",
       "      <td>0</td>\n",
       "      <td>8.4</td>\n",
       "      <td>8.4</td>\n",
       "      <td>5.1</td>\n",
       "      <td>7.2</td>\n",
       "    </tr>\n",
       "    <tr>\n",
       "      <th>4</th>\n",
       "      <td>1a2</td>\n",
       "      <td>MI</td>\n",
       "      <td>R</td>\n",
       "      <td>1</td>\n",
       "      <td>2</td>\n",
       "      <td>3</td>\n",
       "      <td>0</td>\n",
       "      <td>0</td>\n",
       "      <td>8.4</td>\n",
       "      <td>7.4</td>\n",
       "      <td>2.9</td>\n",
       "      <td>5.4</td>\n",
       "    </tr>\n",
       "  </tbody>\n",
       "</table>\n",
       "</div>"
      ],
      "text/plain": [
       "        Age Accommodation Area  Outdoor  Obs Abundance  Predoiseau  Predmamm  \\\n",
       "0  Moinsde1           ASB    U        0    0       NSP           4         4   \n",
       "1  Moinsde1           AAB    U        0    2       NSP           0         0   \n",
       "2      2a10            ML    U        0    2       NSP           0         0   \n",
       "3  Moinsde1            ML    R        2    2         3           0         0   \n",
       "4       1a2            MI    R        1    2         3           0         0   \n",
       "\n",
       "   Extraversion  Dominance  Neuroticism  Agreeableness  \n",
       "0           2.1        2.6          2.0            1.8  \n",
       "1           9.1        7.4          3.2            7.8  \n",
       "2           9.8        3.4          6.6            6.9  \n",
       "3           8.4        8.4          5.1            7.2  \n",
       "4           8.4        7.4          2.9            5.4  "
      ]
     },
     "execution_count": 28,
     "metadata": {},
     "output_type": "execute_result"
    }
   ],
   "source": [
    "df.head()"
   ]
  },
  {
   "cell_type": "markdown",
   "metadata": {
    "id": "_9ezRMkiAdmF"
   },
   "source": [
    "**Row Filtering**\n",
    "\n"
   ]
  },
  {
   "cell_type": "markdown",
   "metadata": {
    "id": "psqplmR0BgzI"
   },
   "source": [
    "### **Justifications for Removed Data**\n",
    "\n",
    "1. **NSP in `Abundance`:**  \n",
    "   Rows with `NSP` in `Abundance` were removed because they represent \"Not Specified\" values, contributing no meaningful information to the analysis and potentially introducing noise.\n",
    "\n",
    "2. **Cats Less Than 1 Year Old (`Moinsde1` in `Age`):**  \n",
    "   Cats under 1 year of age were removed as their hunting behaviors are likely underdeveloped, making their data less reliable for predicting predation behavior.\n",
    "\n",
    "3. **Rows with `Obs = 0`:**  \n",
    "   Rows where owners reported zero observation time were removed because no reliable data could be collected without adequate time spent observing the cat's behavior.\n",
    "\n",
    "4. **Rows with `Obs = 1`:**  \n",
    "   Rows with minimal observation time (1 hour or equivalent) were removed due to concerns about the accuracy and reliability of the reported behavior data.\n"
   ]
  },
  {
   "cell_type": "code",
   "execution_count": 29,
   "metadata": {
    "colab": {
     "base_uri": "https://localhost:8080/"
    },
    "id": "nlFT_KEqnzqI",
    "outputId": "81e3d1c1-c492-4fd8-faf5-233255297a10"
   },
   "outputs": [
    {
     "name": "stdout",
     "output_type": "stream",
     "text": [
      "Count of NSP in Abundance: 240\n",
      "Count of cats less than 1 year old : 610\n",
      "Count of rows with Obs = 0: 9\n",
      "Count of rows with Obs = 1: 323\n"
     ]
    }
   ],
   "source": [
    "# Check counts of 'NSP' Abundance and cats less than 1 year old\n",
    "print(\"Count of NSP in Abundance:\", df[df['Abundance'] == 'NSP'].shape[0])\n",
    "\n",
    "print(\"Count of cats less than 1 year old :\", df[df[\"Age\"] == \"Moinsde1\"].shape[0])\n",
    "# Count rows where Obs is 0 or 1\n",
    "obs_counts = df[\"Obs\"].value_counts()\n",
    "\n",
    "print(f\"Count of rows with Obs = 0: {obs_counts.get(0, 0)}\")\n",
    "print(f\"Count of rows with Obs = 1: {obs_counts.get(1, 0)}\")\n",
    "\n"
   ]
  },
  {
   "cell_type": "code",
   "execution_count": 30,
   "metadata": {
    "colab": {
     "base_uri": "https://localhost:8080/"
    },
    "id": "2xAq7XG85seK",
    "outputId": "18ec28d4-eb51-4a20-a59c-9ed19fcfcbbc"
   },
   "outputs": [
    {
     "name": "stdout",
     "output_type": "stream",
     "text": [
      "Dataset size after filtering: (2075, 12)\n"
     ]
    }
   ],
   "source": [
    "\n",
    "\n",
    "df = df[df['Abundance'] != 'NSP']\n",
    "\n",
    "df = df[df['Age'] != 'Moinsde1']\n",
    "\n",
    "\n",
    "df = df[~df['Obs'].isin([0, 1])]\n",
    "\n",
    "\n",
    "\n",
    "print(f\"Dataset size after filtering: {df.shape}\")\n"
   ]
  },
  {
   "cell_type": "code",
   "execution_count": 31,
   "metadata": {
    "colab": {
     "base_uri": "https://localhost:8080/"
    },
    "id": "1l_kLAIAGfAP",
    "outputId": "7178ce52-951c-45cb-b54b-476b8904cb7b"
   },
   "outputs": [
    {
     "data": {
      "text/plain": [
       "(2075, 11)"
      ]
     },
     "execution_count": 31,
     "metadata": {},
     "output_type": "execute_result"
    }
   ],
   "source": [
    "#now that we removed rows from owners with low time spent with their cats,\n",
    "# we can further simplify our dataset by removing the obs feature column\n",
    "\n",
    "df = df.drop(columns=['Obs'])\n",
    "\n",
    "df.shape"
   ]
  },
  {
   "cell_type": "code",
   "execution_count": 32,
   "metadata": {
    "colab": {
     "base_uri": "https://localhost:8080/",
     "height": 204
    },
    "id": "kx2WT9S3HORa",
    "outputId": "f555f6d5-bcf7-42b5-e3ff-6e3b97430022"
   },
   "outputs": [
    {
     "data": {
      "text/html": [
       "<div>\n",
       "<style scoped>\n",
       "    .dataframe tbody tr th:only-of-type {\n",
       "        vertical-align: middle;\n",
       "    }\n",
       "\n",
       "    .dataframe tbody tr th {\n",
       "        vertical-align: top;\n",
       "    }\n",
       "\n",
       "    .dataframe thead th {\n",
       "        text-align: right;\n",
       "    }\n",
       "</style>\n",
       "<table border=\"1\" class=\"dataframe\">\n",
       "  <thead>\n",
       "    <tr style=\"text-align: right;\">\n",
       "      <th></th>\n",
       "      <th>Age</th>\n",
       "      <th>Accommodation</th>\n",
       "      <th>Area</th>\n",
       "      <th>Outdoor</th>\n",
       "      <th>Abundance</th>\n",
       "      <th>Predoiseau</th>\n",
       "      <th>Predmamm</th>\n",
       "      <th>Extraversion</th>\n",
       "      <th>Dominance</th>\n",
       "      <th>Neuroticism</th>\n",
       "      <th>Agreeableness</th>\n",
       "    </tr>\n",
       "  </thead>\n",
       "  <tbody>\n",
       "    <tr>\n",
       "      <th>4</th>\n",
       "      <td>1a2</td>\n",
       "      <td>MI</td>\n",
       "      <td>R</td>\n",
       "      <td>1</td>\n",
       "      <td>3</td>\n",
       "      <td>0</td>\n",
       "      <td>0</td>\n",
       "      <td>8.4</td>\n",
       "      <td>7.4</td>\n",
       "      <td>2.9</td>\n",
       "      <td>5.4</td>\n",
       "    </tr>\n",
       "    <tr>\n",
       "      <th>5</th>\n",
       "      <td>Plusde10</td>\n",
       "      <td>MI</td>\n",
       "      <td>R</td>\n",
       "      <td>1</td>\n",
       "      <td>3</td>\n",
       "      <td>0</td>\n",
       "      <td>0</td>\n",
       "      <td>8.4</td>\n",
       "      <td>2.6</td>\n",
       "      <td>6.8</td>\n",
       "      <td>6.0</td>\n",
       "    </tr>\n",
       "    <tr>\n",
       "      <th>7</th>\n",
       "      <td>2a10</td>\n",
       "      <td>MI</td>\n",
       "      <td>R</td>\n",
       "      <td>0</td>\n",
       "      <td>3</td>\n",
       "      <td>0</td>\n",
       "      <td>0</td>\n",
       "      <td>7.0</td>\n",
       "      <td>3.8</td>\n",
       "      <td>6.0</td>\n",
       "      <td>4.3</td>\n",
       "    </tr>\n",
       "    <tr>\n",
       "      <th>8</th>\n",
       "      <td>2a10</td>\n",
       "      <td>MI</td>\n",
       "      <td>R</td>\n",
       "      <td>0</td>\n",
       "      <td>3</td>\n",
       "      <td>0</td>\n",
       "      <td>0</td>\n",
       "      <td>8.4</td>\n",
       "      <td>2.6</td>\n",
       "      <td>4.0</td>\n",
       "      <td>5.6</td>\n",
       "    </tr>\n",
       "    <tr>\n",
       "      <th>11</th>\n",
       "      <td>2a10</td>\n",
       "      <td>MI</td>\n",
       "      <td>R</td>\n",
       "      <td>1</td>\n",
       "      <td>3</td>\n",
       "      <td>0</td>\n",
       "      <td>0</td>\n",
       "      <td>10.5</td>\n",
       "      <td>3.8</td>\n",
       "      <td>9.7</td>\n",
       "      <td>5.7</td>\n",
       "    </tr>\n",
       "  </tbody>\n",
       "</table>\n",
       "</div>"
      ],
      "text/plain": [
       "         Age Accommodation Area  Outdoor Abundance  Predoiseau  Predmamm  \\\n",
       "4        1a2            MI    R        1         3           0         0   \n",
       "5   Plusde10            MI    R        1         3           0         0   \n",
       "7       2a10            MI    R        0         3           0         0   \n",
       "8       2a10            MI    R        0         3           0         0   \n",
       "11      2a10            MI    R        1         3           0         0   \n",
       "\n",
       "    Extraversion  Dominance  Neuroticism  Agreeableness  \n",
       "4            8.4        7.4          2.9            5.4  \n",
       "5            8.4        2.6          6.8            6.0  \n",
       "7            7.0        3.8          6.0            4.3  \n",
       "8            8.4        2.6          4.0            5.6  \n",
       "11          10.5        3.8          9.7            5.7  "
      ]
     },
     "execution_count": 32,
     "metadata": {},
     "output_type": "execute_result"
    }
   ],
   "source": [
    "df.head()"
   ]
  },
  {
   "cell_type": "markdown",
   "metadata": {
    "id": "LmHQoNXxHaiz"
   },
   "source": [
    "Final Step of Preprocessing:\n",
    "\n",
    "**One-hot encoding**\n",
    "\n",
    "We will do this for age, accomodation, area, and abundance,\n",
    "\n",
    "no need to do it for outdoor since it is already encoded in an ordinal encoding"
   ]
  },
  {
   "cell_type": "code",
   "execution_count": 33,
   "metadata": {
    "id": "xWBPepDUCEzL"
   },
   "outputs": [],
   "source": [
    "# List of categorical columns to encode\n",
    "categorical_columns = ['Age', 'Accommodation', 'Area', 'Abundance']\n",
    "\n",
    "# Perform one-hot encoding\n",
    "df_encoded = pd.get_dummies(df, columns=categorical_columns, drop_first=True)\n",
    "\n"
   ]
  },
  {
   "cell_type": "code",
   "execution_count": 34,
   "metadata": {
    "colab": {
     "base_uri": "https://localhost:8080/",
     "height": 224
    },
    "id": "9wDYLSFtI-V2",
    "outputId": "e8b6c30b-9f51-448e-d889-18030ca28735"
   },
   "outputs": [
    {
     "data": {
      "text/html": [
       "<div>\n",
       "<style scoped>\n",
       "    .dataframe tbody tr th:only-of-type {\n",
       "        vertical-align: middle;\n",
       "    }\n",
       "\n",
       "    .dataframe tbody tr th {\n",
       "        vertical-align: top;\n",
       "    }\n",
       "\n",
       "    .dataframe thead th {\n",
       "        text-align: right;\n",
       "    }\n",
       "</style>\n",
       "<table border=\"1\" class=\"dataframe\">\n",
       "  <thead>\n",
       "    <tr style=\"text-align: right;\">\n",
       "      <th></th>\n",
       "      <th>Outdoor</th>\n",
       "      <th>Predoiseau</th>\n",
       "      <th>Predmamm</th>\n",
       "      <th>Extraversion</th>\n",
       "      <th>Dominance</th>\n",
       "      <th>Neuroticism</th>\n",
       "      <th>Agreeableness</th>\n",
       "      <th>Age_2a10</th>\n",
       "      <th>Age_Plusde10</th>\n",
       "      <th>Accommodation_ASB</th>\n",
       "      <th>Accommodation_MI</th>\n",
       "      <th>Accommodation_ML</th>\n",
       "      <th>Area_R</th>\n",
       "      <th>Area_U</th>\n",
       "      <th>Abundance_2</th>\n",
       "      <th>Abundance_3</th>\n",
       "    </tr>\n",
       "  </thead>\n",
       "  <tbody>\n",
       "    <tr>\n",
       "      <th>4</th>\n",
       "      <td>1</td>\n",
       "      <td>0</td>\n",
       "      <td>0</td>\n",
       "      <td>8.4</td>\n",
       "      <td>7.4</td>\n",
       "      <td>2.9</td>\n",
       "      <td>5.4</td>\n",
       "      <td>False</td>\n",
       "      <td>False</td>\n",
       "      <td>False</td>\n",
       "      <td>True</td>\n",
       "      <td>False</td>\n",
       "      <td>True</td>\n",
       "      <td>False</td>\n",
       "      <td>False</td>\n",
       "      <td>True</td>\n",
       "    </tr>\n",
       "    <tr>\n",
       "      <th>5</th>\n",
       "      <td>1</td>\n",
       "      <td>0</td>\n",
       "      <td>0</td>\n",
       "      <td>8.4</td>\n",
       "      <td>2.6</td>\n",
       "      <td>6.8</td>\n",
       "      <td>6.0</td>\n",
       "      <td>False</td>\n",
       "      <td>True</td>\n",
       "      <td>False</td>\n",
       "      <td>True</td>\n",
       "      <td>False</td>\n",
       "      <td>True</td>\n",
       "      <td>False</td>\n",
       "      <td>False</td>\n",
       "      <td>True</td>\n",
       "    </tr>\n",
       "    <tr>\n",
       "      <th>7</th>\n",
       "      <td>0</td>\n",
       "      <td>0</td>\n",
       "      <td>0</td>\n",
       "      <td>7.0</td>\n",
       "      <td>3.8</td>\n",
       "      <td>6.0</td>\n",
       "      <td>4.3</td>\n",
       "      <td>True</td>\n",
       "      <td>False</td>\n",
       "      <td>False</td>\n",
       "      <td>True</td>\n",
       "      <td>False</td>\n",
       "      <td>True</td>\n",
       "      <td>False</td>\n",
       "      <td>False</td>\n",
       "      <td>True</td>\n",
       "    </tr>\n",
       "    <tr>\n",
       "      <th>8</th>\n",
       "      <td>0</td>\n",
       "      <td>0</td>\n",
       "      <td>0</td>\n",
       "      <td>8.4</td>\n",
       "      <td>2.6</td>\n",
       "      <td>4.0</td>\n",
       "      <td>5.6</td>\n",
       "      <td>True</td>\n",
       "      <td>False</td>\n",
       "      <td>False</td>\n",
       "      <td>True</td>\n",
       "      <td>False</td>\n",
       "      <td>True</td>\n",
       "      <td>False</td>\n",
       "      <td>False</td>\n",
       "      <td>True</td>\n",
       "    </tr>\n",
       "    <tr>\n",
       "      <th>11</th>\n",
       "      <td>1</td>\n",
       "      <td>0</td>\n",
       "      <td>0</td>\n",
       "      <td>10.5</td>\n",
       "      <td>3.8</td>\n",
       "      <td>9.7</td>\n",
       "      <td>5.7</td>\n",
       "      <td>True</td>\n",
       "      <td>False</td>\n",
       "      <td>False</td>\n",
       "      <td>True</td>\n",
       "      <td>False</td>\n",
       "      <td>True</td>\n",
       "      <td>False</td>\n",
       "      <td>False</td>\n",
       "      <td>True</td>\n",
       "    </tr>\n",
       "  </tbody>\n",
       "</table>\n",
       "</div>"
      ],
      "text/plain": [
       "    Outdoor  Predoiseau  Predmamm  Extraversion  Dominance  Neuroticism  \\\n",
       "4         1           0         0           8.4        7.4          2.9   \n",
       "5         1           0         0           8.4        2.6          6.8   \n",
       "7         0           0         0           7.0        3.8          6.0   \n",
       "8         0           0         0           8.4        2.6          4.0   \n",
       "11        1           0         0          10.5        3.8          9.7   \n",
       "\n",
       "    Agreeableness  Age_2a10  Age_Plusde10  Accommodation_ASB  \\\n",
       "4             5.4     False         False              False   \n",
       "5             6.0     False          True              False   \n",
       "7             4.3      True         False              False   \n",
       "8             5.6      True         False              False   \n",
       "11            5.7      True         False              False   \n",
       "\n",
       "    Accommodation_MI  Accommodation_ML  Area_R  Area_U  Abundance_2  \\\n",
       "4               True             False    True   False        False   \n",
       "5               True             False    True   False        False   \n",
       "7               True             False    True   False        False   \n",
       "8               True             False    True   False        False   \n",
       "11              True             False    True   False        False   \n",
       "\n",
       "    Abundance_3  \n",
       "4          True  \n",
       "5          True  \n",
       "7          True  \n",
       "8          True  \n",
       "11         True  "
      ]
     },
     "execution_count": 34,
     "metadata": {},
     "output_type": "execute_result"
    }
   ],
   "source": [
    "df_encoded.head()"
   ]
  },
  {
   "cell_type": "markdown",
   "metadata": {
    "id": "CkfkgOQ9Jbtu"
   },
   "source": [
    "\n",
    "**Lets make sure our work is done by double checking everything**"
   ]
  },
  {
   "cell_type": "code",
   "execution_count": 35,
   "metadata": {
    "colab": {
     "base_uri": "https://localhost:8080/"
    },
    "id": "8cZz5vrBLS5k",
    "outputId": "7eb02777-ded7-44b6-e950-32abbd40e580"
   },
   "outputs": [
    {
     "data": {
      "text/plain": [
       "(2075, 16)"
      ]
     },
     "execution_count": 35,
     "metadata": {},
     "output_type": "execute_result"
    }
   ],
   "source": [
    "df_encoded.shape"
   ]
  },
  {
   "cell_type": "code",
   "execution_count": 36,
   "metadata": {
    "colab": {
     "base_uri": "https://localhost:8080/"
    },
    "id": "Hr148gIZJCm6",
    "outputId": "a178e495-5e28-448d-d8fc-3db97f7867a6"
   },
   "outputs": [
    {
     "name": "stdout",
     "output_type": "stream",
     "text": [
      "Missing values per column:\n",
      "Outdoor              0\n",
      "Predoiseau           0\n",
      "Predmamm             0\n",
      "Extraversion         0\n",
      "Dominance            0\n",
      "Neuroticism          0\n",
      "Agreeableness        0\n",
      "Age_2a10             0\n",
      "Age_Plusde10         0\n",
      "Accommodation_ASB    0\n",
      "Accommodation_MI     0\n",
      "Accommodation_ML     0\n",
      "Area_R               0\n",
      "Area_U               0\n",
      "Abundance_2          0\n",
      "Abundance_3          0\n",
      "dtype: int64\n"
     ]
    }
   ],
   "source": [
    "print(\"Missing values per column:\")\n",
    "print(df_encoded.isnull().sum())\n",
    "\n",
    "#no missing valuues\n"
   ]
  },
  {
   "cell_type": "code",
   "execution_count": 37,
   "metadata": {
    "colab": {
     "base_uri": "https://localhost:8080/"
    },
    "id": "9janvbENJXeu",
    "outputId": "702da117-5b95-4b7f-9164-d20969c09e1c"
   },
   "outputs": [
    {
     "name": "stdout",
     "output_type": "stream",
     "text": [
      "Outdoor                int64\n",
      "Predoiseau             int64\n",
      "Predmamm               int64\n",
      "Extraversion         float64\n",
      "Dominance            float64\n",
      "Neuroticism          float64\n",
      "Agreeableness        float64\n",
      "Age_2a10                bool\n",
      "Age_Plusde10            bool\n",
      "Accommodation_ASB       bool\n",
      "Accommodation_MI        bool\n",
      "Accommodation_ML        bool\n",
      "Area_R                  bool\n",
      "Area_U                  bool\n",
      "Abundance_2             bool\n",
      "Abundance_3             bool\n",
      "dtype: object\n"
     ]
    }
   ],
   "source": [
    "print(df_encoded.dtypes)\n",
    "#correct data types\n"
   ]
  },
  {
   "cell_type": "code",
   "execution_count": 38,
   "metadata": {
    "colab": {
     "base_uri": "https://localhost:8080/"
    },
    "id": "y_vMncsVJY0k",
    "outputId": "8575eb8d-aeaa-4f1c-bc5a-9a794b1f45a6"
   },
   "outputs": [
    {
     "name": "stdout",
     "output_type": "stream",
     "text": [
      "Class distribution for Predoiseau:\n",
      "Predoiseau\n",
      "0    68.048193\n",
      "1    19.036145\n",
      "2     6.843373\n",
      "3     4.096386\n",
      "4     1.975904\n",
      "Name: proportion, dtype: float64\n"
     ]
    }
   ],
   "source": [
    "# Check class distribution for Predoiseau\n",
    "print(\"Class distribution for Predoiseau:\")\n",
    "print(df_encoded['Predoiseau'].value_counts(normalize=True) * 100)  # Display percentages\n",
    "\n",
    "\n"
   ]
  },
  {
   "cell_type": "code",
   "execution_count": 39,
   "metadata": {
    "colab": {
     "base_uri": "https://localhost:8080/"
    },
    "id": "5EXqQl-RKC61",
    "outputId": "299d53b5-b3a4-4eb8-c943-03d7e1f0c183"
   },
   "outputs": [
    {
     "name": "stdout",
     "output_type": "stream",
     "text": [
      "\n",
      "Class distribution for Predmamm:\n",
      "Predmamm\n",
      "0    63.614458\n",
      "1    15.325301\n",
      "2     7.277108\n",
      "4     7.228916\n",
      "3     6.554217\n",
      "Name: proportion, dtype: float64\n"
     ]
    }
   ],
   "source": [
    "# Check class distribution for Predmamm\n",
    "print(\"\\nClass distribution for Predmamm:\")\n",
    "print(df_encoded['Predmamm'].value_counts(normalize=True) * 100)  # Display percentages"
   ]
  },
  {
   "cell_type": "code",
   "execution_count": 40,
   "metadata": {
    "colab": {
     "base_uri": "https://localhost:8080/"
    },
    "id": "4XgYeaYvJpEe",
    "outputId": "19fa5cc1-2cbc-49f1-f3de-05d77d7407c2"
   },
   "outputs": [
    {
     "name": "stdout",
     "output_type": "stream",
     "text": [
      "Outdoor\n",
      "0    35.084337\n",
      "2    29.831325\n",
      "1    21.638554\n",
      "3    12.771084\n",
      "4     0.674699\n",
      "Name: proportion, dtype: float64\n"
     ]
    }
   ],
   "source": [
    "\n",
    "print(df_encoded['Outdoor'].value_counts(normalize=True) * 100)  # Display percentages"
   ]
  },
  {
   "cell_type": "markdown",
   "metadata": {
    "id": "Qz9TWHTWLcgq"
   },
   "source": [
    "We run into problems with class imabalance have to decide as team what to do"
   ]
  },
  {
   "cell_type": "code",
   "execution_count": 41,
   "metadata": {
    "colab": {
     "base_uri": "https://localhost:8080/",
     "height": 17
    },
    "id": "UEyMpR5nK5YX",
    "outputId": "96be153e-6915-4c87-ade9-d972c27e4342"
   },
   "outputs": [],
   "source": [
    "# Save the DataFrame as a CSV file\n",
    "df_encoded.to_csv('processed_dataset.csv', index=False)\n",
    "\n",
    "# Split the dataset into features and target variables\n",
    "X = df_encoded.drop(columns=['Predoiseau', 'Predmamm'])\n",
    "y_birds = df_encoded['Predoiseau']\n",
    "y_mice = df_encoded['Predmamm']\n",
    "\n",
    "# Split the dataset into training and testing sets\n",
    "X_train_birds, X_test_birds, y_train_birds, y_test_birds = train_test_split(X, y_birds, test_size=0.2, random_state=42)\n",
    "X_train_mice, X_test_mice, y_train_mice, y_test_mice = train_test_split(X, y_mice, test_size=0.2, random_state=42)\n",
    "\n"
   ]
  },
  {
   "cell_type": "code",
   "execution_count": 42,
   "metadata": {
    "id": "7If_ODL4LpuN"
   },
   "outputs": [
    {
     "name": "stdout",
     "output_type": "stream",
     "text": [
      "Classification report for Predoiseau:\n",
      "              precision    recall  f1-score   support\n",
      "\n",
      "           0       0.83      0.82      0.83       280\n",
      "           1       0.40      0.46      0.43        76\n",
      "           2       0.17      0.12      0.14        34\n",
      "           3       0.11      0.14      0.12        14\n",
      "           4       0.10      0.09      0.10        11\n",
      "\n",
      "    accuracy                           0.66       415\n",
      "   macro avg       0.32      0.33      0.32       415\n",
      "weighted avg       0.66      0.66      0.65       415\n",
      "\n",
      "\n",
      "Classification report for Predmamm:\n",
      "              precision    recall  f1-score   support\n",
      "\n",
      "           0       0.83      0.74      0.78       269\n",
      "           1       0.24      0.33      0.28        57\n",
      "           2       0.14      0.14      0.14        29\n",
      "           3       0.12      0.18      0.14        28\n",
      "           4       0.16      0.12      0.14        32\n",
      "\n",
      "    accuracy                           0.56       415\n",
      "   macro avg       0.30      0.30      0.30       415\n",
      "weighted avg       0.60      0.56      0.58       415\n",
      "\n"
     ]
    }
   ],
   "source": [
    "# Initialize the Decision Tree Classifier\n",
    "decision_tree_birds = DecisionTreeClassifier(random_state=42)\n",
    "decision_tree_mice = DecisionTreeClassifier(random_state=42)\n",
    "\n",
    "# Fit the model to the training data\n",
    "decision_tree_birds.fit(X_train_birds, y_train_birds)\n",
    "decision_tree_mice.fit(X_train_mice, y_train_mice)\n",
    "\n",
    "# Make predictions on the testing data\n",
    "y_pred_birds = decision_tree_birds.predict(X_test_birds)\n",
    "y_pred_mice = decision_tree_mice.predict(X_test_mice)\n",
    "\n",
    "# Classification report for Predoiseau\n",
    "print(\"Classification report for Predoiseau:\")\n",
    "print(classification_report(y_test_birds, y_pred_birds))\n",
    "\n",
    "# Classification report for Predmamm\n",
    "print(\"\\nClassification report for Predmamm:\")\n",
    "print(classification_report(y_test_mice, y_pred_mice))\n"
   ]
  },
  {
   "cell_type": "code",
   "execution_count": 46,
   "metadata": {},
   "outputs": [
    {
     "name": "stdout",
     "output_type": "stream",
     "text": [
      "\n",
      "Average Error for Predoiseau: 0.5566265060240964\n",
      "Average Error for Predmamm: 0.7566265060240964\n"
     ]
    }
   ],
   "source": [
    "#determine standard deviation of the model\n",
    "residuals_birds = y_test_birds - y_pred_birds\n",
    "residuals_mice = y_test_mice - y_pred_mice\n",
    "\n",
    "# Average Error for Predoiseau\n",
    "avg_error_birds = abs(residuals_birds).mean()\n",
    "print(f\"\\nAverage Error for Predoiseau: {avg_error_birds}\")\n",
    "\n",
    "# Average Error for Predmamm\n",
    "avg_error_mice = abs(residuals_mice).mean()\n",
    "print(f\"Average Error for Predmamm: {avg_error_mice}\")\n",
    "\n"
   ]
  },
  {
   "cell_type": "code",
   "execution_count": 44,
   "metadata": {},
   "outputs": [
    {
     "name": "stdout",
     "output_type": "stream",
     "text": [
      "Classification report for Predoiseau (Random Forest):\n",
      "              precision    recall  f1-score   support\n",
      "\n",
      "           0       0.79      0.90      0.84       280\n",
      "           1       0.33      0.36      0.34        76\n",
      "           2       0.50      0.12      0.19        34\n",
      "           3       0.25      0.07      0.11        14\n",
      "           4       0.00      0.00      0.00        11\n",
      "\n",
      "    accuracy                           0.68       415\n",
      "   macro avg       0.37      0.29      0.30       415\n",
      "weighted avg       0.64      0.68      0.65       415\n",
      "\n",
      "\n",
      "Classification report for Predmamm (Random Forest):\n",
      "              precision    recall  f1-score   support\n",
      "\n",
      "           0       0.80      0.91      0.85       269\n",
      "           1       0.19      0.18      0.18        57\n",
      "           2       0.31      0.14      0.19        29\n",
      "           3       0.14      0.11      0.12        28\n",
      "           4       0.45      0.31      0.37        32\n",
      "\n",
      "    accuracy                           0.66       415\n",
      "   macro avg       0.38      0.33      0.34       415\n",
      "weighted avg       0.61      0.66      0.63       415\n",
      "\n"
     ]
    }
   ],
   "source": [
    "#same for random forest\n",
    "# Initialize the Random Forest Classifier\n",
    "random_forest_birds = RandomForestClassifier(random_state=42)\n",
    "random_forest_mice = RandomForestClassifier(random_state=42)\n",
    "\n",
    "# Fit the model to the training data\n",
    "random_forest_birds.fit(X_train_birds, y_train_birds)\n",
    "random_forest_mice.fit(X_train_mice, y_train_mice)\n",
    "\n",
    "# Make predictions on the testing data\n",
    "y_pred_birds_rf = random_forest_birds.predict(X_test_birds)\n",
    "y_pred_mice_rf = random_forest_mice.predict(X_test_mice)\n",
    "\n",
    "# Classification report for Predoiseau\n",
    "print(\"Classification report for Predoiseau (Random Forest):\")\n",
    "print(classification_report(y_test_birds, y_pred_birds_rf))\n",
    "\n",
    "# Classification report for Predmamm\n",
    "print(\"\\nClassification report for Predmamm (Random Forest):\")\n",
    "print(classification_report(y_test_mice, y_pred_mice_rf))"
   ]
  },
  {
   "cell_type": "code",
   "execution_count": 47,
   "metadata": {},
   "outputs": [
    {
     "name": "stdout",
     "output_type": "stream",
     "text": [
      "\n",
      "Average Error for Predoiseau (Random Forest): 0.4650602409638554\n",
      "Average Error for Predmamm (Random Forest): 0.6120481927710844\n"
     ]
    }
   ],
   "source": [
    "#determine standard deviation of the model\n",
    "residuals_birds_rf = y_test_birds - y_pred_birds_rf\n",
    "residuals_mice_rf = y_test_mice - y_pred_mice_rf\n",
    "\n",
    "# Average Error for Predoiseau\n",
    "avg_error_birds_rf = abs(residuals_birds_rf).mean()\n",
    "print(f\"\\nAverage Error for Predoiseau (Random Forest): {avg_error_birds_rf}\")\n",
    "\n",
    "# Average Error for Predmamm\n",
    "avg_error_mice_rf = abs(residuals_mice_rf).mean()\n",
    "print(f\"Average Error for Predmamm (Random Forest): {avg_error_mice_rf}\")\n"
   ]
  }
 ],
 "metadata": {
  "colab": {
   "provenance": []
  },
  "kernelspec": {
   "display_name": "CSC466",
   "language": "python",
   "name": "python3"
  },
  "language_info": {
   "codemirror_mode": {
    "name": "ipython",
    "version": 3
   },
   "file_extension": ".py",
   "mimetype": "text/x-python",
   "name": "python",
   "nbconvert_exporter": "python",
   "pygments_lexer": "ipython3",
   "version": "3.12.5"
  }
 },
 "nbformat": 4,
 "nbformat_minor": 0
}
