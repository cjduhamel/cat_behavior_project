{
  "nbformat": 4,
  "nbformat_minor": 0,
  "metadata": {
    "colab": {
      "provenance": []
    },
    "kernelspec": {
      "name": "python3",
      "display_name": "Python 3"
    },
    "language_info": {
      "name": "python"
    }
  },
  "cells": [
    {
      "cell_type": "code",
      "execution_count": null,
      "metadata": {
        "id": "qPeTnsCEQtsH"
      },
      "outputs": [],
      "source": [
        "\n",
        "import pandas as pd\n",
        "import matplotlib.pyplot as plt\n",
        "from sklearn.metrics import classification_report, confusion_matrix\n",
        "from sklearn.model_selection import train_test_split\n",
        "from sklearn.tree import DecisionTreeClassifier, plot_tree\n",
        "from sklearn.preprocessing import LabelEncoder\n",
        "from sklearn.ensemble import RandomForestClassifier\n",
        "import seaborn as sns\n",
        "from scipy.stats import f_oneway\n",
        "from sklearn.decomposition import FactorAnalysis\n",
        "\n"
      ]
    },
    {
      "cell_type": "code",
      "source": [
        "df = pd.read_excel('Cat_Data.xlsx')\n",
        "df.head()"
      ],
      "metadata": {
        "colab": {
          "base_uri": "https://localhost:8080/",
          "height": 474
        },
        "id": "KbvvWPNES5YD",
        "outputId": "d8d35a88-878c-4105-c6db-5dac85e5a3b4"
      },
      "execution_count": null,
      "outputs": [
        {
          "output_type": "execute_result",
          "data": {
            "text/plain": [
              "   Row.names          Parliament Sex       Age Breed Number Accommodation  \\\n",
              "0          1 2021-02-09 16:36:39   F  Moinsde1   SBI      3           ASB   \n",
              "1         10 2021-02-12 18:25:58   F  Moinsde1   SBI      1           AAB   \n",
              "2        100 2021-03-06 22:04:33   F      2a10   EUR      4            ML   \n",
              "3       1000 2021-02-18 16:10:11   F  Moinsde1   EUR      1            ML   \n",
              "4       1001 2021-02-18 18:00:51   F       1a2   SBI      2            MI   \n",
              "\n",
              "  Area  Outdoor  Obs  ...  Brutal  Dominant  Aggressive  Impulsive  \\\n",
              "0    U        0    0  ...       1         1           1          1   \n",
              "1    U        0    2  ...       2         2           3          4   \n",
              "2    U        0    2  ...       1         1           1          2   \n",
              "3    R        2    2  ...       4         3           3          3   \n",
              "4    R        1    2  ...       2         4           1          4   \n",
              "\n",
              "   Predictable  Distracted  Abundance  Predoiseau  Predmamm  \\\n",
              "0            1           1        NSP           4         4   \n",
              "1            4           3        NSP           0         0   \n",
              "2            4           2        NSP           0         0   \n",
              "3            4           4          3           0         0   \n",
              "4            3           3          3           0         0   \n",
              "\n",
              "                                                More  \n",
              "0                                                NaN  \n",
              "1                                                NaN  \n",
              "2  Elle ne chasse pas car elle ne sort pas, si el...  \n",
              "3                      Elle vient quand je l'appelle  \n",
              "4                                                NaN  \n",
              "\n",
              "[5 rows x 29 columns]"
            ],
            "text/html": [
              "\n",
              "  <div id=\"df-2a1f4add-596d-42be-a0d5-24123210d8ab\" class=\"colab-df-container\">\n",
              "    <div>\n",
              "<style scoped>\n",
              "    .dataframe tbody tr th:only-of-type {\n",
              "        vertical-align: middle;\n",
              "    }\n",
              "\n",
              "    .dataframe tbody tr th {\n",
              "        vertical-align: top;\n",
              "    }\n",
              "\n",
              "    .dataframe thead th {\n",
              "        text-align: right;\n",
              "    }\n",
              "</style>\n",
              "<table border=\"1\" class=\"dataframe\">\n",
              "  <thead>\n",
              "    <tr style=\"text-align: right;\">\n",
              "      <th></th>\n",
              "      <th>Row.names</th>\n",
              "      <th>Parliament</th>\n",
              "      <th>Sex</th>\n",
              "      <th>Age</th>\n",
              "      <th>Breed</th>\n",
              "      <th>Number</th>\n",
              "      <th>Accommodation</th>\n",
              "      <th>Area</th>\n",
              "      <th>Outdoor</th>\n",
              "      <th>Obs</th>\n",
              "      <th>...</th>\n",
              "      <th>Brutal</th>\n",
              "      <th>Dominant</th>\n",
              "      <th>Aggressive</th>\n",
              "      <th>Impulsive</th>\n",
              "      <th>Predictable</th>\n",
              "      <th>Distracted</th>\n",
              "      <th>Abundance</th>\n",
              "      <th>Predoiseau</th>\n",
              "      <th>Predmamm</th>\n",
              "      <th>More</th>\n",
              "    </tr>\n",
              "  </thead>\n",
              "  <tbody>\n",
              "    <tr>\n",
              "      <th>0</th>\n",
              "      <td>1</td>\n",
              "      <td>2021-02-09 16:36:39</td>\n",
              "      <td>F</td>\n",
              "      <td>Moinsde1</td>\n",
              "      <td>SBI</td>\n",
              "      <td>3</td>\n",
              "      <td>ASB</td>\n",
              "      <td>U</td>\n",
              "      <td>0</td>\n",
              "      <td>0</td>\n",
              "      <td>...</td>\n",
              "      <td>1</td>\n",
              "      <td>1</td>\n",
              "      <td>1</td>\n",
              "      <td>1</td>\n",
              "      <td>1</td>\n",
              "      <td>1</td>\n",
              "      <td>NSP</td>\n",
              "      <td>4</td>\n",
              "      <td>4</td>\n",
              "      <td>NaN</td>\n",
              "    </tr>\n",
              "    <tr>\n",
              "      <th>1</th>\n",
              "      <td>10</td>\n",
              "      <td>2021-02-12 18:25:58</td>\n",
              "      <td>F</td>\n",
              "      <td>Moinsde1</td>\n",
              "      <td>SBI</td>\n",
              "      <td>1</td>\n",
              "      <td>AAB</td>\n",
              "      <td>U</td>\n",
              "      <td>0</td>\n",
              "      <td>2</td>\n",
              "      <td>...</td>\n",
              "      <td>2</td>\n",
              "      <td>2</td>\n",
              "      <td>3</td>\n",
              "      <td>4</td>\n",
              "      <td>4</td>\n",
              "      <td>3</td>\n",
              "      <td>NSP</td>\n",
              "      <td>0</td>\n",
              "      <td>0</td>\n",
              "      <td>NaN</td>\n",
              "    </tr>\n",
              "    <tr>\n",
              "      <th>2</th>\n",
              "      <td>100</td>\n",
              "      <td>2021-03-06 22:04:33</td>\n",
              "      <td>F</td>\n",
              "      <td>2a10</td>\n",
              "      <td>EUR</td>\n",
              "      <td>4</td>\n",
              "      <td>ML</td>\n",
              "      <td>U</td>\n",
              "      <td>0</td>\n",
              "      <td>2</td>\n",
              "      <td>...</td>\n",
              "      <td>1</td>\n",
              "      <td>1</td>\n",
              "      <td>1</td>\n",
              "      <td>2</td>\n",
              "      <td>4</td>\n",
              "      <td>2</td>\n",
              "      <td>NSP</td>\n",
              "      <td>0</td>\n",
              "      <td>0</td>\n",
              "      <td>Elle ne chasse pas car elle ne sort pas, si el...</td>\n",
              "    </tr>\n",
              "    <tr>\n",
              "      <th>3</th>\n",
              "      <td>1000</td>\n",
              "      <td>2021-02-18 16:10:11</td>\n",
              "      <td>F</td>\n",
              "      <td>Moinsde1</td>\n",
              "      <td>EUR</td>\n",
              "      <td>1</td>\n",
              "      <td>ML</td>\n",
              "      <td>R</td>\n",
              "      <td>2</td>\n",
              "      <td>2</td>\n",
              "      <td>...</td>\n",
              "      <td>4</td>\n",
              "      <td>3</td>\n",
              "      <td>3</td>\n",
              "      <td>3</td>\n",
              "      <td>4</td>\n",
              "      <td>4</td>\n",
              "      <td>3</td>\n",
              "      <td>0</td>\n",
              "      <td>0</td>\n",
              "      <td>Elle vient quand je l'appelle</td>\n",
              "    </tr>\n",
              "    <tr>\n",
              "      <th>4</th>\n",
              "      <td>1001</td>\n",
              "      <td>2021-02-18 18:00:51</td>\n",
              "      <td>F</td>\n",
              "      <td>1a2</td>\n",
              "      <td>SBI</td>\n",
              "      <td>2</td>\n",
              "      <td>MI</td>\n",
              "      <td>R</td>\n",
              "      <td>1</td>\n",
              "      <td>2</td>\n",
              "      <td>...</td>\n",
              "      <td>2</td>\n",
              "      <td>4</td>\n",
              "      <td>1</td>\n",
              "      <td>4</td>\n",
              "      <td>3</td>\n",
              "      <td>3</td>\n",
              "      <td>3</td>\n",
              "      <td>0</td>\n",
              "      <td>0</td>\n",
              "      <td>NaN</td>\n",
              "    </tr>\n",
              "  </tbody>\n",
              "</table>\n",
              "<p>5 rows × 29 columns</p>\n",
              "</div>\n",
              "    <div class=\"colab-df-buttons\">\n",
              "\n",
              "  <div class=\"colab-df-container\">\n",
              "    <button class=\"colab-df-convert\" onclick=\"convertToInteractive('df-2a1f4add-596d-42be-a0d5-24123210d8ab')\"\n",
              "            title=\"Convert this dataframe to an interactive table.\"\n",
              "            style=\"display:none;\">\n",
              "\n",
              "  <svg xmlns=\"http://www.w3.org/2000/svg\" height=\"24px\" viewBox=\"0 -960 960 960\">\n",
              "    <path d=\"M120-120v-720h720v720H120Zm60-500h600v-160H180v160Zm220 220h160v-160H400v160Zm0 220h160v-160H400v160ZM180-400h160v-160H180v160Zm440 0h160v-160H620v160ZM180-180h160v-160H180v160Zm440 0h160v-160H620v160Z\"/>\n",
              "  </svg>\n",
              "    </button>\n",
              "\n",
              "  <style>\n",
              "    .colab-df-container {\n",
              "      display:flex;\n",
              "      gap: 12px;\n",
              "    }\n",
              "\n",
              "    .colab-df-convert {\n",
              "      background-color: #E8F0FE;\n",
              "      border: none;\n",
              "      border-radius: 50%;\n",
              "      cursor: pointer;\n",
              "      display: none;\n",
              "      fill: #1967D2;\n",
              "      height: 32px;\n",
              "      padding: 0 0 0 0;\n",
              "      width: 32px;\n",
              "    }\n",
              "\n",
              "    .colab-df-convert:hover {\n",
              "      background-color: #E2EBFA;\n",
              "      box-shadow: 0px 1px 2px rgba(60, 64, 67, 0.3), 0px 1px 3px 1px rgba(60, 64, 67, 0.15);\n",
              "      fill: #174EA6;\n",
              "    }\n",
              "\n",
              "    .colab-df-buttons div {\n",
              "      margin-bottom: 4px;\n",
              "    }\n",
              "\n",
              "    [theme=dark] .colab-df-convert {\n",
              "      background-color: #3B4455;\n",
              "      fill: #D2E3FC;\n",
              "    }\n",
              "\n",
              "    [theme=dark] .colab-df-convert:hover {\n",
              "      background-color: #434B5C;\n",
              "      box-shadow: 0px 1px 3px 1px rgba(0, 0, 0, 0.15);\n",
              "      filter: drop-shadow(0px 1px 2px rgba(0, 0, 0, 0.3));\n",
              "      fill: #FFFFFF;\n",
              "    }\n",
              "  </style>\n",
              "\n",
              "    <script>\n",
              "      const buttonEl =\n",
              "        document.querySelector('#df-2a1f4add-596d-42be-a0d5-24123210d8ab button.colab-df-convert');\n",
              "      buttonEl.style.display =\n",
              "        google.colab.kernel.accessAllowed ? 'block' : 'none';\n",
              "\n",
              "      async function convertToInteractive(key) {\n",
              "        const element = document.querySelector('#df-2a1f4add-596d-42be-a0d5-24123210d8ab');\n",
              "        const dataTable =\n",
              "          await google.colab.kernel.invokeFunction('convertToInteractive',\n",
              "                                                    [key], {});\n",
              "        if (!dataTable) return;\n",
              "\n",
              "        const docLinkHtml = 'Like what you see? Visit the ' +\n",
              "          '<a target=\"_blank\" href=https://colab.research.google.com/notebooks/data_table.ipynb>data table notebook</a>'\n",
              "          + ' to learn more about interactive tables.';\n",
              "        element.innerHTML = '';\n",
              "        dataTable['output_type'] = 'display_data';\n",
              "        await google.colab.output.renderOutput(dataTable, element);\n",
              "        const docLink = document.createElement('div');\n",
              "        docLink.innerHTML = docLinkHtml;\n",
              "        element.appendChild(docLink);\n",
              "      }\n",
              "    </script>\n",
              "  </div>\n",
              "\n",
              "\n",
              "<div id=\"df-8f19e06b-5106-4a2e-b742-4d0d250b2f25\">\n",
              "  <button class=\"colab-df-quickchart\" onclick=\"quickchart('df-8f19e06b-5106-4a2e-b742-4d0d250b2f25')\"\n",
              "            title=\"Suggest charts\"\n",
              "            style=\"display:none;\">\n",
              "\n",
              "<svg xmlns=\"http://www.w3.org/2000/svg\" height=\"24px\"viewBox=\"0 0 24 24\"\n",
              "     width=\"24px\">\n",
              "    <g>\n",
              "        <path d=\"M19 3H5c-1.1 0-2 .9-2 2v14c0 1.1.9 2 2 2h14c1.1 0 2-.9 2-2V5c0-1.1-.9-2-2-2zM9 17H7v-7h2v7zm4 0h-2V7h2v10zm4 0h-2v-4h2v4z\"/>\n",
              "    </g>\n",
              "</svg>\n",
              "  </button>\n",
              "\n",
              "<style>\n",
              "  .colab-df-quickchart {\n",
              "      --bg-color: #E8F0FE;\n",
              "      --fill-color: #1967D2;\n",
              "      --hover-bg-color: #E2EBFA;\n",
              "      --hover-fill-color: #174EA6;\n",
              "      --disabled-fill-color: #AAA;\n",
              "      --disabled-bg-color: #DDD;\n",
              "  }\n",
              "\n",
              "  [theme=dark] .colab-df-quickchart {\n",
              "      --bg-color: #3B4455;\n",
              "      --fill-color: #D2E3FC;\n",
              "      --hover-bg-color: #434B5C;\n",
              "      --hover-fill-color: #FFFFFF;\n",
              "      --disabled-bg-color: #3B4455;\n",
              "      --disabled-fill-color: #666;\n",
              "  }\n",
              "\n",
              "  .colab-df-quickchart {\n",
              "    background-color: var(--bg-color);\n",
              "    border: none;\n",
              "    border-radius: 50%;\n",
              "    cursor: pointer;\n",
              "    display: none;\n",
              "    fill: var(--fill-color);\n",
              "    height: 32px;\n",
              "    padding: 0;\n",
              "    width: 32px;\n",
              "  }\n",
              "\n",
              "  .colab-df-quickchart:hover {\n",
              "    background-color: var(--hover-bg-color);\n",
              "    box-shadow: 0 1px 2px rgba(60, 64, 67, 0.3), 0 1px 3px 1px rgba(60, 64, 67, 0.15);\n",
              "    fill: var(--button-hover-fill-color);\n",
              "  }\n",
              "\n",
              "  .colab-df-quickchart-complete:disabled,\n",
              "  .colab-df-quickchart-complete:disabled:hover {\n",
              "    background-color: var(--disabled-bg-color);\n",
              "    fill: var(--disabled-fill-color);\n",
              "    box-shadow: none;\n",
              "  }\n",
              "\n",
              "  .colab-df-spinner {\n",
              "    border: 2px solid var(--fill-color);\n",
              "    border-color: transparent;\n",
              "    border-bottom-color: var(--fill-color);\n",
              "    animation:\n",
              "      spin 1s steps(1) infinite;\n",
              "  }\n",
              "\n",
              "  @keyframes spin {\n",
              "    0% {\n",
              "      border-color: transparent;\n",
              "      border-bottom-color: var(--fill-color);\n",
              "      border-left-color: var(--fill-color);\n",
              "    }\n",
              "    20% {\n",
              "      border-color: transparent;\n",
              "      border-left-color: var(--fill-color);\n",
              "      border-top-color: var(--fill-color);\n",
              "    }\n",
              "    30% {\n",
              "      border-color: transparent;\n",
              "      border-left-color: var(--fill-color);\n",
              "      border-top-color: var(--fill-color);\n",
              "      border-right-color: var(--fill-color);\n",
              "    }\n",
              "    40% {\n",
              "      border-color: transparent;\n",
              "      border-right-color: var(--fill-color);\n",
              "      border-top-color: var(--fill-color);\n",
              "    }\n",
              "    60% {\n",
              "      border-color: transparent;\n",
              "      border-right-color: var(--fill-color);\n",
              "    }\n",
              "    80% {\n",
              "      border-color: transparent;\n",
              "      border-right-color: var(--fill-color);\n",
              "      border-bottom-color: var(--fill-color);\n",
              "    }\n",
              "    90% {\n",
              "      border-color: transparent;\n",
              "      border-bottom-color: var(--fill-color);\n",
              "    }\n",
              "  }\n",
              "</style>\n",
              "\n",
              "  <script>\n",
              "    async function quickchart(key) {\n",
              "      const quickchartButtonEl =\n",
              "        document.querySelector('#' + key + ' button');\n",
              "      quickchartButtonEl.disabled = true;  // To prevent multiple clicks.\n",
              "      quickchartButtonEl.classList.add('colab-df-spinner');\n",
              "      try {\n",
              "        const charts = await google.colab.kernel.invokeFunction(\n",
              "            'suggestCharts', [key], {});\n",
              "      } catch (error) {\n",
              "        console.error('Error during call to suggestCharts:', error);\n",
              "      }\n",
              "      quickchartButtonEl.classList.remove('colab-df-spinner');\n",
              "      quickchartButtonEl.classList.add('colab-df-quickchart-complete');\n",
              "    }\n",
              "    (() => {\n",
              "      let quickchartButtonEl =\n",
              "        document.querySelector('#df-8f19e06b-5106-4a2e-b742-4d0d250b2f25 button');\n",
              "      quickchartButtonEl.style.display =\n",
              "        google.colab.kernel.accessAllowed ? 'block' : 'none';\n",
              "    })();\n",
              "  </script>\n",
              "</div>\n",
              "\n",
              "    </div>\n",
              "  </div>\n"
            ],
            "application/vnd.google.colaboratory.intrinsic+json": {
              "type": "dataframe",
              "variable_name": "df"
            }
          },
          "metadata": {},
          "execution_count": 193
        }
      ]
    },
    {
      "cell_type": "code",
      "source": [
        "#first we have to understand our data set\n",
        "df.shape"
      ],
      "metadata": {
        "colab": {
          "base_uri": "https://localhost:8080/"
        },
        "id": "lXlAIYPrW_Ef",
        "outputId": "67a2698f-9eae-46a0-d6c7-c48d1ee1f3da"
      },
      "execution_count": null,
      "outputs": [
        {
          "output_type": "execute_result",
          "data": {
            "text/plain": [
              "(3143, 29)"
            ]
          },
          "metadata": {},
          "execution_count": 194
        }
      ]
    },
    {
      "cell_type": "code",
      "source": [
        "df.info()"
      ],
      "metadata": {
        "colab": {
          "base_uri": "https://localhost:8080/"
        },
        "id": "-lMj_7XYb2c1",
        "outputId": "639c1218-a419-4963-9a7a-f2d459aef7fa"
      },
      "execution_count": null,
      "outputs": [
        {
          "output_type": "stream",
          "name": "stdout",
          "text": [
            "<class 'pandas.core.frame.DataFrame'>\n",
            "RangeIndex: 3143 entries, 0 to 3142\n",
            "Data columns (total 29 columns):\n",
            " #   Column         Non-Null Count  Dtype         \n",
            "---  ------         --------------  -----         \n",
            " 0   Row.names      3143 non-null   int64         \n",
            " 1   Parliament     3143 non-null   datetime64[ns]\n",
            " 2   Sex            3143 non-null   object        \n",
            " 3   Age            3143 non-null   object        \n",
            " 4   Breed          3143 non-null   object        \n",
            " 5   Number         3143 non-null   object        \n",
            " 6   Accommodation  3143 non-null   object        \n",
            " 7   Area           3143 non-null   object        \n",
            " 8   Outdoor        3143 non-null   int64         \n",
            " 9   Obs            3143 non-null   int64         \n",
            " 10  Timid          3143 non-null   int64         \n",
            " 11  Calm           3143 non-null   int64         \n",
            " 12  Afraid         3143 non-null   int64         \n",
            " 13  Intelligent    3143 non-null   int64         \n",
            " 14  Vigilant       3143 non-null   int64         \n",
            " 15  Perseverant    3143 non-null   int64         \n",
            " 16  Affectionate   3143 non-null   int64         \n",
            " 17  Friendly       3143 non-null   int64         \n",
            " 18  Lonely         3143 non-null   int64         \n",
            " 19  Brutal         3143 non-null   int64         \n",
            " 20  Dominant       3143 non-null   int64         \n",
            " 21  Aggressive     3143 non-null   int64         \n",
            " 22  Impulsive      3143 non-null   int64         \n",
            " 23  Predictable    3143 non-null   int64         \n",
            " 24  Distracted     3143 non-null   int64         \n",
            " 25  Abundance      3143 non-null   object        \n",
            " 26  Predoiseau     3143 non-null   int64         \n",
            " 27  Predmamm       3143 non-null   int64         \n",
            " 28  More           821 non-null    object        \n",
            "dtypes: datetime64[ns](1), int64(20), object(8)\n",
            "memory usage: 712.2+ KB\n"
          ]
        }
      ]
    },
    {
      "cell_type": "code",
      "source": [
        "print(df.isnull().sum())  # Total missing values per column"
      ],
      "metadata": {
        "colab": {
          "base_uri": "https://localhost:8080/"
        },
        "id": "uYCkIuZ7cGNS",
        "outputId": "a5ad6453-e949-4c21-d053-79d0a506a77d"
      },
      "execution_count": null,
      "outputs": [
        {
          "output_type": "stream",
          "name": "stdout",
          "text": [
            "Row.names           0\n",
            "Parliament          0\n",
            "Sex                 0\n",
            "Age                 0\n",
            "Breed               0\n",
            "Number              0\n",
            "Accommodation       0\n",
            "Area                0\n",
            "Outdoor             0\n",
            "Obs                 0\n",
            "Timid               0\n",
            "Calm                0\n",
            "Afraid              0\n",
            "Intelligent         0\n",
            "Vigilant            0\n",
            "Perseverant         0\n",
            "Affectionate        0\n",
            "Friendly            0\n",
            "Lonely              0\n",
            "Brutal              0\n",
            "Dominant            0\n",
            "Aggressive          0\n",
            "Impulsive           0\n",
            "Predictable         0\n",
            "Distracted          0\n",
            "Abundance           0\n",
            "Predoiseau          0\n",
            "Predmamm            0\n",
            "More             2322\n",
            "dtype: int64\n"
          ]
        }
      ]
    },
    {
      "cell_type": "code",
      "source": [
        "print(df.isnull().mean() * 100)  # Percentage of missing values per column\n"
      ],
      "metadata": {
        "colab": {
          "base_uri": "https://localhost:8080/"
        },
        "id": "apnnIQ21cSWG",
        "outputId": "51fe9c51-5f98-4266-c8f3-e19e76d7399a"
      },
      "execution_count": null,
      "outputs": [
        {
          "output_type": "stream",
          "name": "stdout",
          "text": [
            "Row.names         0.00000\n",
            "Parliament        0.00000\n",
            "Sex               0.00000\n",
            "Age               0.00000\n",
            "Breed             0.00000\n",
            "Number            0.00000\n",
            "Accommodation     0.00000\n",
            "Area              0.00000\n",
            "Outdoor           0.00000\n",
            "Obs               0.00000\n",
            "Timid             0.00000\n",
            "Calm              0.00000\n",
            "Afraid            0.00000\n",
            "Intelligent       0.00000\n",
            "Vigilant          0.00000\n",
            "Perseverant       0.00000\n",
            "Affectionate      0.00000\n",
            "Friendly          0.00000\n",
            "Lonely            0.00000\n",
            "Brutal            0.00000\n",
            "Dominant          0.00000\n",
            "Aggressive        0.00000\n",
            "Impulsive         0.00000\n",
            "Predictable       0.00000\n",
            "Distracted        0.00000\n",
            "Abundance         0.00000\n",
            "Predoiseau        0.00000\n",
            "Predmamm          0.00000\n",
            "More             73.87846\n",
            "dtype: float64\n"
          ]
        }
      ]
    },
    {
      "cell_type": "code",
      "source": [
        "# Dropping columns we know from the start are irrelevant to us\n",
        "columns_to_drop = ['Row.names', 'Parliament', 'More', 'Breed']\n",
        "\n",
        "\n",
        "df = df.drop(columns=columns_to_drop)\n"
      ],
      "metadata": {
        "id": "Ia7y9hkedAaw"
      },
      "execution_count": null,
      "outputs": []
    },
    {
      "cell_type": "code",
      "source": [
        "# Row.names: Dropped because it is just an index and does not contribute meaningful information for prediction.\n",
        "# Parliament: Dropped because it represents a timestamp irrelevant to the analysis of predation behavior.\n",
        "# More: Dropped due to having a high proportion of missing values (only 821 non-null out of 3143), making it unreliable for modeling.\n",
        "# Breed: Dropped to avoid introducing bias related to breed, and to further generalize the model since most cat owners might not know the breed of their cat\n"
      ],
      "metadata": {
        "id": "UiMNiDT3sYZn"
      },
      "execution_count": null,
      "outputs": []
    },
    {
      "cell_type": "code",
      "source": [
        "df.shape"
      ],
      "metadata": {
        "colab": {
          "base_uri": "https://localhost:8080/"
        },
        "id": "M6Exhpfifgxk",
        "outputId": "27365e5e-a6ed-4fb8-bcd2-52c7d8e2704d"
      },
      "execution_count": null,
      "outputs": [
        {
          "output_type": "execute_result",
          "data": {
            "text/plain": [
              "(3143, 25)"
            ]
          },
          "metadata": {},
          "execution_count": 200
        }
      ]
    },
    {
      "cell_type": "code",
      "source": [
        "#further do feature selection. lets test the categorical features\n",
        "\n",
        "\n",
        "# Define the columns to test\n",
        "columns_to_test = ['Sex', 'Age', 'Area', 'Abundance', 'Accommodation', 'Number', 'Outdoor']\n",
        "\n",
        "# Function to run ANOVA for both target variables\n",
        "def run_anova(column, target1, target2):\n",
        "    print(f\"\\nANOVA results for {column}:\")\n",
        "\n",
        "    # ANOVA for Predoiseau\n",
        "    groups_predoiseau = [df[df[column] == cat][target1] for cat in df[column].unique()]\n",
        "    f_stat_predoiseau, p_value_predoiseau = f_oneway(*groups_predoiseau)\n",
        "    print(f\"  {target1} - F-statistic: {f_stat_predoiseau}, p-value: {p_value_predoiseau}\")\n",
        "\n",
        "    # ANOVA for Predmamm\n",
        "    groups_predmamm = [df[df[column] == cat][target2] for cat in df[column].unique()]\n",
        "    f_stat_predmamm, p_value_predmamm = f_oneway(*groups_predmamm)\n",
        "    print(f\"  {target2} - F-statistic: {f_stat_predmamm}, p-value: {p_value_predmamm}\")\n",
        "\n",
        "\n"
      ],
      "metadata": {
        "id": "TDuNBRsv7qiL"
      },
      "execution_count": null,
      "outputs": []
    },
    {
      "cell_type": "code",
      "source": [
        "# Run ANOVA tests for all columns\n",
        "for column in columns_to_test:\n",
        "    run_anova(column, 'Predoiseau', 'Predmamm')"
      ],
      "metadata": {
        "colab": {
          "base_uri": "https://localhost:8080/"
        },
        "id": "xa_07PGu7xL7",
        "outputId": "7862f618-2092-4654-bf98-3a7bd2b1e751"
      },
      "execution_count": null,
      "outputs": [
        {
          "output_type": "stream",
          "name": "stdout",
          "text": [
            "\n",
            "ANOVA results for Sex:\n",
            "  Predoiseau - F-statistic: 4.508834959682271, p-value: 0.011082666849819553\n",
            "  Predmamm - F-statistic: 4.284369622916389, p-value: 0.013862964312318399\n",
            "\n",
            "ANOVA results for Age:\n",
            "  Predoiseau - F-statistic: 29.98517472036175, p-value: 4.1565333056196377e-19\n",
            "  Predmamm - F-statistic: 31.02133131413673, p-value: 9.329703936251818e-20\n",
            "\n",
            "ANOVA results for Area:\n",
            "  Predoiseau - F-statistic: 89.76018893964755, p-value: 1.2338580065533955e-38\n",
            "  Predmamm - F-statistic: 140.82906608173317, p-value: 2.6795431495641175e-59\n",
            "\n",
            "ANOVA results for Abundance:\n",
            "  Predoiseau - F-statistic: 161.06022116522158, p-value: 4.2100807706120225e-97\n",
            "  Predmamm - F-statistic: 222.14647772092982, p-value: 1.0999712977313103e-130\n",
            "\n",
            "ANOVA results for Accommodation:\n",
            "  Predoiseau - F-statistic: 99.51818867517608, p-value: 1.5541565752845585e-61\n",
            "  Predmamm - F-statistic: 137.85391781628883, p-value: 6.658201535216674e-84\n",
            "\n",
            "ANOVA results for Number:\n",
            "  Predoiseau - F-statistic: 7.821948754326194, p-value: 2.503066696266081e-07\n",
            "  Predmamm - F-statistic: 7.060280290706884, p-value: 1.423249631992161e-06\n",
            "\n",
            "ANOVA results for Outdoor:\n",
            "  Predoiseau - F-statistic: 395.6335169613294, p-value: 3.007313057097894e-276\n",
            "  Predmamm - F-statistic: 531.3813173059344, p-value: 0.0\n"
          ]
        }
      ]
    },
    {
      "cell_type": "code",
      "source": [
        "#considering to remove SEX since it shows the weakest significance.\n",
        "\n",
        "#doing box plots to prove point\n",
        "\n",
        "# Box plot for Predoiseau vs Sex\n",
        "sns.boxplot(x='Sex', y='Predoiseau', data=df)\n",
        "plt.title('Predoiseau by Sex')\n",
        "plt.show()\n",
        "\n",
        "# Box plot for Predmamm vs Sex\n",
        "sns.boxplot(x='Sex', y='Predmamm', data=df)\n",
        "plt.title('Predmamm by Sex')\n",
        "plt.show()\n"
      ],
      "metadata": {
        "colab": {
          "base_uri": "https://localhost:8080/",
          "height": 927
        },
        "id": "-0Nljaj48e7e",
        "outputId": "ed084397-f2de-499a-f1b7-ccc1c0a229fa"
      },
      "execution_count": null,
      "outputs": [
        {
          "output_type": "display_data",
          "data": {
            "text/plain": [
              "<Figure size 640x480 with 1 Axes>"
            ],
            "image/png": "[encoded data removed]"
          },
          "metadata": {}
        },
        {
          "output_type": "display_data",
          "data": {
            "text/plain": [
              "<Figure size 640x480 with 1 Axes>"
            ],
            "image/png": "[encoded data removed]"
          },
          "metadata": {}
        }
      ]
    },
    {
      "cell_type": "markdown",
      "source": [
        "First feature to drop:\n",
        "**Sex**\n",
        "\n",
        "While **Sex** shows statistical significance, its weaker p-values compared to other features, combined with minimal biological differences in predatory behavior between male and female domestic cats (per the visual) , make it a less impactful predictor"
      ],
      "metadata": {
        "id": "UOPfdnqA8Vjw"
      }
    },
    {
      "cell_type": "code",
      "source": [
        "# Remove Sex\n",
        "df = df.drop(columns=['Sex'])"
      ],
      "metadata": {
        "id": "S5OTW6poFl-o"
      },
      "execution_count": null,
      "outputs": []
    },
    {
      "cell_type": "code",
      "source": [
        "\n",
        "\n",
        "# Update columns_to_test\n",
        "columns_to_test = ['Age', 'Area', 'Abundance', 'Accommodation', 'Number','Outdoor']\n",
        "\n",
        "# Re-run ANOVA for remaining columns\n",
        "for column in columns_to_test:\n",
        "    run_anova(column, 'Predoiseau', 'Predmamm')\n"
      ],
      "metadata": {
        "colab": {
          "base_uri": "https://localhost:8080/"
        },
        "id": "hpzdK9vl8uTq",
        "outputId": "c936cfde-b080-425a-df67-114c0553dc9c"
      },
      "execution_count": null,
      "outputs": [
        {
          "output_type": "stream",
          "name": "stdout",
          "text": [
            "\n",
            "ANOVA results for Age:\n",
            "  Predoiseau - F-statistic: 29.98517472036175, p-value: 4.1565333056196377e-19\n",
            "  Predmamm - F-statistic: 31.02133131413673, p-value: 9.329703936251818e-20\n",
            "\n",
            "ANOVA results for Area:\n",
            "  Predoiseau - F-statistic: 89.76018893964755, p-value: 1.2338580065533955e-38\n",
            "  Predmamm - F-statistic: 140.82906608173317, p-value: 2.6795431495641175e-59\n",
            "\n",
            "ANOVA results for Abundance:\n",
            "  Predoiseau - F-statistic: 161.06022116522158, p-value: 4.2100807706120225e-97\n",
            "  Predmamm - F-statistic: 222.14647772092982, p-value: 1.0999712977313103e-130\n",
            "\n",
            "ANOVA results for Accommodation:\n",
            "  Predoiseau - F-statistic: 99.51818867517608, p-value: 1.5541565752845585e-61\n",
            "  Predmamm - F-statistic: 137.85391781628883, p-value: 6.658201535216674e-84\n",
            "\n",
            "ANOVA results for Number:\n",
            "  Predoiseau - F-statistic: 7.821948754326194, p-value: 2.503066696266081e-07\n",
            "  Predmamm - F-statistic: 7.060280290706884, p-value: 1.423249631992161e-06\n",
            "\n",
            "ANOVA results for Outdoor:\n",
            "  Predoiseau - F-statistic: 395.6335169613294, p-value: 3.007313057097894e-276\n",
            "  Predmamm - F-statistic: 531.3813173059344, p-value: 0.0\n"
          ]
        }
      ]
    },
    {
      "cell_type": "code",
      "source": [
        "df.shape #shape after dropping sex"
      ],
      "metadata": {
        "colab": {
          "base_uri": "https://localhost:8080/"
        },
        "id": "pcIKTmeQFuLc",
        "outputId": "dfe925a5-8b54-441f-8aaa-0bc65f647c6d"
      },
      "execution_count": null,
      "outputs": [
        {
          "output_type": "execute_result",
          "data": {
            "text/plain": [
              "(3143, 24)"
            ]
          },
          "metadata": {},
          "execution_count": 206
        }
      ]
    },
    {
      "cell_type": "code",
      "source": [
        "#Now The number of cats in a house hold is the weakest feature.\n",
        "#lets do box plots to further evaluate its significance\n",
        "\n",
        "# Box plot for Predoiseau vs Number\n",
        "sns.boxplot(x='Number', y='Predoiseau', data=df)\n",
        "plt.title('Predoiseau by Number of Cats')\n",
        "plt.show()\n",
        "\n",
        "# Box plot for Predmamm vs Number\n",
        "sns.boxplot(x='Number', y='Predmamm', data=df)\n",
        "plt.title('Predmamm by Number of Cats')\n",
        "plt.show()"
      ],
      "metadata": {
        "colab": {
          "base_uri": "https://localhost:8080/",
          "height": 927
        },
        "id": "LcGS4u9m86Tl",
        "outputId": "c4558b38-2fbf-4208-9e10-355c907fa53d"
      },
      "execution_count": null,
      "outputs": [
        {
          "output_type": "display_data",
          "data": {
            "text/plain": [
              "<Figure size 640x480 with 1 Axes>"
            ],
            "image/png": "[encoded data removed]"
          },
          "metadata": {}
        },
        {
          "output_type": "display_data",
          "data": {
            "text/plain": [
              "<Figure size 640x480 with 1 Axes>"
            ],
            "image/png": "[encoded data removed]"
          },
          "metadata": {}
        }
      ]
    },
    {
      "cell_type": "markdown",
      "source": [
        "Second feature to drop:\n",
        "**Number**\n",
        "\n",
        "Although **Number** is statistically significant (per the anova test), the minimal variance observed between categories in the box plots and its relatively weaker contribution compared to other features like Abundance and Area make it a weak predictor for predicting predatory behavior."
      ],
      "metadata": {
        "id": "fB3vB5wU9Urp"
      }
    },
    {
      "cell_type": "code",
      "source": [
        "df = df.drop(columns=['Number'])\n",
        "\n"
      ],
      "metadata": {
        "id": "haJewPVm9liH"
      },
      "execution_count": null,
      "outputs": []
    },
    {
      "cell_type": "code",
      "source": [
        "\n",
        "columns_to_test = ['Age', 'Area', 'Abundance', 'Accommodation', 'Outdoor']\n",
        "\n",
        "for column in columns_to_test:\n",
        "    run_anova(column, 'Predoiseau', 'Predmamm')"
      ],
      "metadata": {
        "colab": {
          "base_uri": "https://localhost:8080/"
        },
        "id": "9Izs8G_r_Y2j",
        "outputId": "c2920855-f02f-4533-d33c-7ac27b9adfdc"
      },
      "execution_count": null,
      "outputs": [
        {
          "output_type": "stream",
          "name": "stdout",
          "text": [
            "\n",
            "ANOVA results for Age:\n",
            "  Predoiseau - F-statistic: 29.98517472036175, p-value: 4.1565333056196377e-19\n",
            "  Predmamm - F-statistic: 31.02133131413673, p-value: 9.329703936251818e-20\n",
            "\n",
            "ANOVA results for Area:\n",
            "  Predoiseau - F-statistic: 89.76018893964755, p-value: 1.2338580065533955e-38\n",
            "  Predmamm - F-statistic: 140.82906608173317, p-value: 2.6795431495641175e-59\n",
            "\n",
            "ANOVA results for Abundance:\n",
            "  Predoiseau - F-statistic: 161.06022116522158, p-value: 4.2100807706120225e-97\n",
            "  Predmamm - F-statistic: 222.14647772092982, p-value: 1.0999712977313103e-130\n",
            "\n",
            "ANOVA results for Accommodation:\n",
            "  Predoiseau - F-statistic: 99.51818867517608, p-value: 1.5541565752845585e-61\n",
            "  Predmamm - F-statistic: 137.85391781628883, p-value: 6.658201535216674e-84\n",
            "\n",
            "ANOVA results for Outdoor:\n",
            "  Predoiseau - F-statistic: 395.6335169613294, p-value: 3.007313057097894e-276\n",
            "  Predmamm - F-statistic: 531.3813173059344, p-value: 0.0\n"
          ]
        }
      ]
    },
    {
      "cell_type": "code",
      "source": [
        "df.shape #shape after dropping number"
      ],
      "metadata": {
        "colab": {
          "base_uri": "https://localhost:8080/"
        },
        "id": "MGIraNyl-W4I",
        "outputId": "7540250d-49d5-41fb-c3a7-8ffed4f2f77d"
      },
      "execution_count": null,
      "outputs": [
        {
          "output_type": "execute_result",
          "data": {
            "text/plain": [
              "(3143, 23)"
            ]
          },
          "metadata": {},
          "execution_count": 210
        }
      ]
    },
    {
      "cell_type": "markdown",
      "source": [
        "Based on the updated ANOVA results, the remaining features (Age, Area, Abundance, outdoor, and Accommodation) show extremely low p-values for both Predoiseau and Predmamm. This indicates that:\n",
        "\n",
        "**These Features Are Statistically Significant:**\n",
        "\n",
        "*  The p-values for all features are much smaller than 0.05, which confirms they are strongly associated with the target variables.\n",
        "\n",
        "**No Immediate Justification for Further Dropping Features:**\n",
        "\n",
        "\n",
        "*  The features exhibit strong differentiation across categories, as shown by their high F-statistics.\n",
        "\n",
        "*  None of these features have weak contributions or overlap to justify removal"
      ],
      "metadata": {
        "id": "0QIC-JCk-iUQ"
      }
    },
    {
      "cell_type": "code",
      "source": [
        "# double checking for potential NAN values\n",
        "print(df.isnull().sum())  # Displays the count of NaN values for each column\n"
      ],
      "metadata": {
        "colab": {
          "base_uri": "https://localhost:8080/"
        },
        "id": "XTKTxOMZktUR",
        "outputId": "c92126c9-b8e3-482c-9edb-1faf183e47e1"
      },
      "execution_count": null,
      "outputs": [
        {
          "output_type": "stream",
          "name": "stdout",
          "text": [
            "Age              0\n",
            "Accommodation    0\n",
            "Area             0\n",
            "Outdoor          0\n",
            "Obs              0\n",
            "Timid            0\n",
            "Calm             0\n",
            "Afraid           0\n",
            "Intelligent      0\n",
            "Vigilant         0\n",
            "Perseverant      0\n",
            "Affectionate     0\n",
            "Friendly         0\n",
            "Lonely           0\n",
            "Brutal           0\n",
            "Dominant         0\n",
            "Aggressive       0\n",
            "Impulsive        0\n",
            "Predictable      0\n",
            "Distracted       0\n",
            "Abundance        0\n",
            "Predoiseau       0\n",
            "Predmamm         0\n",
            "dtype: int64\n"
          ]
        }
      ]
    },
    {
      "cell_type": "code",
      "source": [
        "#plotting box plots for age, accomodatiion, area, outdoor and abundance to visually observe variance\n",
        "for column in columns_to_test:\n",
        "\n",
        "    plt.figure(figsize=(10, 6))\n",
        "    sns.boxplot(x=column, y='Predoiseau', data=df)\n",
        "    plt.title(f'Predoiseau by {column}')\n",
        "    plt.xticks(rotation=45)\n",
        "    plt.show()\n",
        "\n",
        "\n",
        "    plt.figure(figsize=(10, 6))\n",
        "    sns.boxplot(x=column, y='Predmamm', data=df)\n",
        "    plt.title(f'Predmamm by {column}')\n",
        "    plt.xticks(rotation=45)\n",
        "    plt.show()"
      ],
      "metadata": {
        "colab": {
          "base_uri": "https://localhost:8080/",
          "height": 1000
        },
        "id": "E88OU8_2mY8j",
        "outputId": "6815646e-5c43-4d8b-bd7c-8a89ff4205ae"
      },
      "execution_count": null,
      "outputs": [
        {
          "output_type": "display_data",
          "data": {
            "text/plain": [
              "<Figure size 1000x600 with 1 Axes>"
            ],
            "image/png": "[encoded data removed]"
          },
          "metadata": {}
        },
        {
          "output_type": "display_data",
          "data": {
            "text/plain": [
              "<Figure size 1000x600 with 1 Axes>"
            ],
            "image/png": "[encoded data removed]"
          },
          "metadata": {}
        },
        {
          "output_type": "display_data",
          "data": {
            "text/plain": [
              "<Figure size 1000x600 with 1 Axes>"
            ],
            "image/png": "[encoded data removed]"
          },
          "metadata": {}
        },
        {
          "output_type": "display_data",
          "data": {
            "text/plain": [
              "<Figure size 1000x600 with 1 Axes>"
            ],
            "image/png": "[encoded data removed]"
          },
          "metadata": {}
        },
        {
          "output_type": "display_data",
          "data": {
            "text/plain": [
              "<Figure size 1000x600 with 1 Axes>"
            ],
            "image/png": "[encoded data removed]"
          },
          "metadata": {}
        },
        {
          "output_type": "display_data",
          "data": {
            "text/plain": [
              "<Figure size 1000x600 with 1 Axes>"
            ],
            "image/png": "[encoded data removed]"
          },
          "metadata": {}
        },
        {
          "output_type": "display_data",
          "data": {
            "text/plain": [
              "<Figure size 1000x600 with 1 Axes>"
            ],
            "image/png": "[encoded data removed]"
          },
          "metadata": {}
        },
        {
          "output_type": "display_data",
          "data": {
            "text/plain": [
              "<Figure size 1000x600 with 1 Axes>"
            ],
            "image/png": "[encoded data removed]"
          },
          "metadata": {}
        },
        {
          "output_type": "display_data",
          "data": {
            "text/plain": [
              "<Figure size 1000x600 with 1 Axes>"
            ],
            "image/png": "[encoded data removed]"
          },
          "metadata": {}
        },
        {
          "output_type": "display_data",
          "data": {
            "text/plain": [
              "<Figure size 1000x600 with 1 Axes>"
            ],
            "image/png": "[encoded data removed]"
          },
          "metadata": {}
        }
      ]
    },
    {
      "cell_type": "code",
      "source": [
        "#confirm variance and statisical significance\n",
        "for column in columns_to_test:\n",
        "    print(f\"\\nMean Predoiseau and Predmamm by {column}:\")\n",
        "    print(df.groupby(column)[['Predoiseau', 'Predmamm']].mean())"
      ],
      "metadata": {
        "colab": {
          "base_uri": "https://localhost:8080/"
        },
        "id": "NhRaOpekm6fm",
        "outputId": "89ff1cd6-c4bd-4d1a-d4ed-94b4363ec50a"
      },
      "execution_count": null,
      "outputs": [
        {
          "output_type": "stream",
          "name": "stdout",
          "text": [
            "\n",
            "Mean Predoiseau and Predmamm by Age:\n",
            "          Predoiseau  Predmamm\n",
            "Age                           \n",
            "1a2         0.384117  0.585089\n",
            "2a10        0.583333  0.850641\n",
            "Moinsde1    0.200000  0.322951\n",
            "Plusde10    0.547753  0.761236\n",
            "\n",
            "Mean Predoiseau and Predmamm by Area:\n",
            "      Predoiseau  Predmamm\n",
            "Area                      \n",
            "PU      0.495098  0.689951\n",
            "R       0.685412  1.064385\n",
            "U       0.199091  0.260909\n",
            "\n",
            "Mean Predoiseau and Predmamm by Abundance:\n",
            "           Predoiseau  Predmamm\n",
            "Abundance                      \n",
            "1            0.088235  0.134454\n",
            "2            0.326675  0.433608\n",
            "3            0.831839  1.253363\n",
            "NSP          0.041667  0.058333\n",
            "\n",
            "Mean Predoiseau and Predmamm by Accommodation:\n",
            "               Predoiseau  Predmamm\n",
            "Accommodation                      \n",
            "AAB              0.153061  0.207908\n",
            "ASB              0.072973  0.118919\n",
            "MI               0.737263  1.151848\n",
            "ML               0.586032  0.805668\n",
            "\n",
            "Mean Predoiseau and Predmamm by Outdoor:\n",
            "         Predoiseau  Predmamm\n",
            "Outdoor                      \n",
            "0          0.038813  0.068493\n",
            "1          0.222756  0.320513\n",
            "2          0.797992  1.161857\n",
            "3          1.566845  2.334225\n",
            "4          1.529412  1.970588\n"
          ]
        }
      ]
    },
    {
      "cell_type": "markdown",
      "source": [
        "### **Justifications for Keeping Features**\n",
        "\n",
        "1. **`Age`:**  \n",
        "   Age significantly differentiates predation behavior, as shown by clear variations in mean `Predoiseau` and `Predmamm` across age categories, aligning with biological expectations of hunting proficiency at different life stages.\n",
        "\n",
        "2. **`Area`:**  \n",
        "   Area strongly influences predation preferences, with significant differences in mean `Predoiseau` and `Predmamm` between urban, rural, and peri-urban categories, reflecting environmental availability of prey types.\n",
        "\n",
        "3. **`Abundance`:**  \n",
        "   Abundance is the strongest predictor, with dramatic differences in predation behavior across prey abundance levels, directly tying this feature to hunting opportunities and outcomes.\n",
        "\n",
        "4. **`Accommodation`:**  \n",
        "   Accommodation shapes predation behavior, with substantial variation in mean `Predoiseau` and `Predmamm` between living environments, highlighting how access to outdoor spaces impacts hunting activity.\n",
        "\n",
        "5. **`Outdoor`:**  \n",
        "   Outdoor time demonstrates a very strong relationship with predation behavior, as evidenced by its extremely low p-values in ANOVA. The clear hierarchy in outdoor levels (e.g., \"None\" to \"All the time\") reflects the significant influence of outdoor exposure on a cat's access to prey and hunting activity.\n"
      ],
      "metadata": {
        "id": "7SDh2tD5AU80"
      }
    },
    {
      "cell_type": "markdown",
      "source": [
        "**Further Feature Selection**\n",
        "\n",
        "Reducing dimensionality based on the research guidelines to personality."
      ],
      "metadata": {
        "id": "UQLCvxbAAoAv"
      }
    },
    {
      "cell_type": "code",
      "source": [
        "#further reducing dimensionality based on research\n",
        "# Calculate weighted factors based on the research diagram\n",
        "\n",
        "# Extraversion\n",
        "df['Extraversion'] = (\n",
        "    0.7 * df['Intelligent'] +\n",
        "    0.7 * df['Vigilant'] +\n",
        "    0.7 * df['Perseverant']\n",
        ")\n",
        "\n",
        "# Dominance\n",
        "df['Dominance'] = (\n",
        "    0.8 * df['Impulsive'] +\n",
        "    0.6 * df['Brutal'] +\n",
        "    0.6 * df['Aggressive'] +\n",
        "    0.6 * df['Dominant']\n",
        ")\n",
        "\n",
        "# Neuroticism\n",
        "df['Neuroticism'] = (\n",
        "    0.7 * df['Timid'] +\n",
        "    0.6 * df['Afraid'] +\n",
        "    0.4 * df['Lonely'] +\n",
        "    0.3 * df['Calm']\n",
        ")\n",
        "\n",
        "# Agreeableness\n",
        "df['Agreeableness'] = (\n",
        "    0.5 * df['Affectionate'] +\n",
        "    0.5 * df['Friendly'] +\n",
        "    0.4 * df['Predictable'] +\n",
        "    0.4 * df['Distracted']\n",
        ")\n"
      ],
      "metadata": {
        "id": "biBDtINiAluS"
      },
      "execution_count": null,
      "outputs": []
    },
    {
      "cell_type": "code",
      "source": [
        "df.shape #shape after adding 4 columns"
      ],
      "metadata": {
        "colab": {
          "base_uri": "https://localhost:8080/"
        },
        "id": "bmDFFS8lAyFJ",
        "outputId": "47015f41-c48f-4a3d-b923-08be468e4aa9"
      },
      "execution_count": null,
      "outputs": [
        {
          "output_type": "execute_result",
          "data": {
            "text/plain": [
              "(3143, 27)"
            ]
          },
          "metadata": {},
          "execution_count": 216
        }
      ]
    },
    {
      "cell_type": "code",
      "source": [
        "personality_traits = ['Timid', 'Calm', 'Afraid', 'Intelligent', 'Vigilant', 'Perseverant',\n",
        "                      'Affectionate', 'Friendly', 'Lonely', 'Brutal', 'Dominant',\n",
        "                      'Aggressive', 'Impulsive', 'Predictable', 'Distracted']\n",
        "df = df.drop(columns=personality_traits)\n",
        "\n",
        "df.shape #shape after removing unnecessary personlaity columns"
      ],
      "metadata": {
        "colab": {
          "base_uri": "https://localhost:8080/"
        },
        "id": "GeEABUuZA1xB",
        "outputId": "315c9f92-e61c-4784-8a59-bf531d317ca1"
      },
      "execution_count": null,
      "outputs": [
        {
          "output_type": "execute_result",
          "data": {
            "text/plain": [
              "(3143, 12)"
            ]
          },
          "metadata": {},
          "execution_count": 217
        }
      ]
    },
    {
      "cell_type": "code",
      "source": [
        "df.head()"
      ],
      "metadata": {
        "colab": {
          "base_uri": "https://localhost:8080/",
          "height": 204
        },
        "id": "D5JhInCzA8QG",
        "outputId": "d08a5fb2-ba8a-49eb-87aa-017b37545d11"
      },
      "execution_count": null,
      "outputs": [
        {
          "output_type": "execute_result",
          "data": {
            "text/plain": [
              "        Age Accommodation Area  Outdoor  Obs Abundance  Predoiseau  Predmamm  \\\n",
              "0  Moinsde1           ASB    U        0    0       NSP           4         4   \n",
              "1  Moinsde1           AAB    U        0    2       NSP           0         0   \n",
              "2      2a10            ML    U        0    2       NSP           0         0   \n",
              "3  Moinsde1            ML    R        2    2         3           0         0   \n",
              "4       1a2            MI    R        1    2         3           0         0   \n",
              "\n",
              "   Extraversion  Dominance  Neuroticism  Agreeableness  \n",
              "0           2.1        2.6          2.0            1.8  \n",
              "1           9.1        7.4          3.2            7.8  \n",
              "2           9.8        3.4          6.6            6.9  \n",
              "3           8.4        8.4          5.1            7.2  \n",
              "4           8.4        7.4          2.9            5.4  "
            ],
            "text/html": [
              "\n",
              "  <div id=\"df-68ce1da4-ca23-4b09-bebf-ff93647f4e88\" class=\"colab-df-container\">\n",
              "    <div>\n",
              "<style scoped>\n",
              "    .dataframe tbody tr th:only-of-type {\n",
              "        vertical-align: middle;\n",
              "    }\n",
              "\n",
              "    .dataframe tbody tr th {\n",
              "        vertical-align: top;\n",
              "    }\n",
              "\n",
              "    .dataframe thead th {\n",
              "        text-align: right;\n",
              "    }\n",
              "</style>\n",
              "<table border=\"1\" class=\"dataframe\">\n",
              "  <thead>\n",
              "    <tr style=\"text-align: right;\">\n",
              "      <th></th>\n",
              "      <th>Age</th>\n",
              "      <th>Accommodation</th>\n",
              "      <th>Area</th>\n",
              "      <th>Outdoor</th>\n",
              "      <th>Obs</th>\n",
              "      <th>Abundance</th>\n",
              "      <th>Predoiseau</th>\n",
              "      <th>Predmamm</th>\n",
              "      <th>Extraversion</th>\n",
              "      <th>Dominance</th>\n",
              "      <th>Neuroticism</th>\n",
              "      <th>Agreeableness</th>\n",
              "    </tr>\n",
              "  </thead>\n",
              "  <tbody>\n",
              "    <tr>\n",
              "      <th>0</th>\n",
              "      <td>Moinsde1</td>\n",
              "      <td>ASB</td>\n",
              "      <td>U</td>\n",
              "      <td>0</td>\n",
              "      <td>0</td>\n",
              "      <td>NSP</td>\n",
              "      <td>4</td>\n",
              "      <td>4</td>\n",
              "      <td>2.1</td>\n",
              "      <td>2.6</td>\n",
              "      <td>2.0</td>\n",
              "      <td>1.8</td>\n",
              "    </tr>\n",
              "    <tr>\n",
              "      <th>1</th>\n",
              "      <td>Moinsde1</td>\n",
              "      <td>AAB</td>\n",
              "      <td>U</td>\n",
              "      <td>0</td>\n",
              "      <td>2</td>\n",
              "      <td>NSP</td>\n",
              "      <td>0</td>\n",
              "      <td>0</td>\n",
              "      <td>9.1</td>\n",
              "      <td>7.4</td>\n",
              "      <td>3.2</td>\n",
              "      <td>7.8</td>\n",
              "    </tr>\n",
              "    <tr>\n",
              "      <th>2</th>\n",
              "      <td>2a10</td>\n",
              "      <td>ML</td>\n",
              "      <td>U</td>\n",
              "      <td>0</td>\n",
              "      <td>2</td>\n",
              "      <td>NSP</td>\n",
              "      <td>0</td>\n",
              "      <td>0</td>\n",
              "      <td>9.8</td>\n",
              "      <td>3.4</td>\n",
              "      <td>6.6</td>\n",
              "      <td>6.9</td>\n",
              "    </tr>\n",
              "    <tr>\n",
              "      <th>3</th>\n",
              "      <td>Moinsde1</td>\n",
              "      <td>ML</td>\n",
              "      <td>R</td>\n",
              "      <td>2</td>\n",
              "      <td>2</td>\n",
              "      <td>3</td>\n",
              "      <td>0</td>\n",
              "      <td>0</td>\n",
              "      <td>8.4</td>\n",
              "      <td>8.4</td>\n",
              "      <td>5.1</td>\n",
              "      <td>7.2</td>\n",
              "    </tr>\n",
              "    <tr>\n",
              "      <th>4</th>\n",
              "      <td>1a2</td>\n",
              "      <td>MI</td>\n",
              "      <td>R</td>\n",
              "      <td>1</td>\n",
              "      <td>2</td>\n",
              "      <td>3</td>\n",
              "      <td>0</td>\n",
              "      <td>0</td>\n",
              "      <td>8.4</td>\n",
              "      <td>7.4</td>\n",
              "      <td>2.9</td>\n",
              "      <td>5.4</td>\n",
              "    </tr>\n",
              "  </tbody>\n",
              "</table>\n",
              "</div>\n",
              "    <div class=\"colab-df-buttons\">\n",
              "\n",
              "  <div class=\"colab-df-container\">\n",
              "    <button class=\"colab-df-convert\" onclick=\"convertToInteractive('df-68ce1da4-ca23-4b09-bebf-ff93647f4e88')\"\n",
              "            title=\"Convert this dataframe to an interactive table.\"\n",
              "            style=\"display:none;\">\n",
              "\n",
              "  <svg xmlns=\"http://www.w3.org/2000/svg\" height=\"24px\" viewBox=\"0 -960 960 960\">\n",
              "    <path d=\"M120-120v-720h720v720H120Zm60-500h600v-160H180v160Zm220 220h160v-160H400v160Zm0 220h160v-160H400v160ZM180-400h160v-160H180v160Zm440 0h160v-160H620v160ZM180-180h160v-160H180v160Zm440 0h160v-160H620v160Z\"/>\n",
              "  </svg>\n",
              "    </button>\n",
              "\n",
              "  <style>\n",
              "    .colab-df-container {\n",
              "      display:flex;\n",
              "      gap: 12px;\n",
              "    }\n",
              "\n",
              "    .colab-df-convert {\n",
              "      background-color: #E8F0FE;\n",
              "      border: none;\n",
              "      border-radius: 50%;\n",
              "      cursor: pointer;\n",
              "      display: none;\n",
              "      fill: #1967D2;\n",
              "      height: 32px;\n",
              "      padding: 0 0 0 0;\n",
              "      width: 32px;\n",
              "    }\n",
              "\n",
              "    .colab-df-convert:hover {\n",
              "      background-color: #E2EBFA;\n",
              "      box-shadow: 0px 1px 2px rgba(60, 64, 67, 0.3), 0px 1px 3px 1px rgba(60, 64, 67, 0.15);\n",
              "      fill: #174EA6;\n",
              "    }\n",
              "\n",
              "    .colab-df-buttons div {\n",
              "      margin-bottom: 4px;\n",
              "    }\n",
              "\n",
              "    [theme=dark] .colab-df-convert {\n",
              "      background-color: #3B4455;\n",
              "      fill: #D2E3FC;\n",
              "    }\n",
              "\n",
              "    [theme=dark] .colab-df-convert:hover {\n",
              "      background-color: #434B5C;\n",
              "      box-shadow: 0px 1px 3px 1px rgba(0, 0, 0, 0.15);\n",
              "      filter: drop-shadow(0px 1px 2px rgba(0, 0, 0, 0.3));\n",
              "      fill: #FFFFFF;\n",
              "    }\n",
              "  </style>\n",
              "\n",
              "    <script>\n",
              "      const buttonEl =\n",
              "        document.querySelector('#df-68ce1da4-ca23-4b09-bebf-ff93647f4e88 button.colab-df-convert');\n",
              "      buttonEl.style.display =\n",
              "        google.colab.kernel.accessAllowed ? 'block' : 'none';\n",
              "\n",
              "      async function convertToInteractive(key) {\n",
              "        const element = document.querySelector('#df-68ce1da4-ca23-4b09-bebf-ff93647f4e88');\n",
              "        const dataTable =\n",
              "          await google.colab.kernel.invokeFunction('convertToInteractive',\n",
              "                                                    [key], {});\n",
              "        if (!dataTable) return;\n",
              "\n",
              "        const docLinkHtml = 'Like what you see? Visit the ' +\n",
              "          '<a target=\"_blank\" href=https://colab.research.google.com/notebooks/data_table.ipynb>data table notebook</a>'\n",
              "          + ' to learn more about interactive tables.';\n",
              "        element.innerHTML = '';\n",
              "        dataTable['output_type'] = 'display_data';\n",
              "        await google.colab.output.renderOutput(dataTable, element);\n",
              "        const docLink = document.createElement('div');\n",
              "        docLink.innerHTML = docLinkHtml;\n",
              "        element.appendChild(docLink);\n",
              "      }\n",
              "    </script>\n",
              "  </div>\n",
              "\n",
              "\n",
              "<div id=\"df-eb503cb6-8cad-4928-a311-c2313e665320\">\n",
              "  <button class=\"colab-df-quickchart\" onclick=\"quickchart('df-eb503cb6-8cad-4928-a311-c2313e665320')\"\n",
              "            title=\"Suggest charts\"\n",
              "            style=\"display:none;\">\n",
              "\n",
              "<svg xmlns=\"http://www.w3.org/2000/svg\" height=\"24px\"viewBox=\"0 0 24 24\"\n",
              "     width=\"24px\">\n",
              "    <g>\n",
              "        <path d=\"M19 3H5c-1.1 0-2 .9-2 2v14c0 1.1.9 2 2 2h14c1.1 0 2-.9 2-2V5c0-1.1-.9-2-2-2zM9 17H7v-7h2v7zm4 0h-2V7h2v10zm4 0h-2v-4h2v4z\"/>\n",
              "    </g>\n",
              "</svg>\n",
              "  </button>\n",
              "\n",
              "<style>\n",
              "  .colab-df-quickchart {\n",
              "      --bg-color: #E8F0FE;\n",
              "      --fill-color: #1967D2;\n",
              "      --hover-bg-color: #E2EBFA;\n",
              "      --hover-fill-color: #174EA6;\n",
              "      --disabled-fill-color: #AAA;\n",
              "      --disabled-bg-color: #DDD;\n",
              "  }\n",
              "\n",
              "  [theme=dark] .colab-df-quickchart {\n",
              "      --bg-color: #3B4455;\n",
              "      --fill-color: #D2E3FC;\n",
              "      --hover-bg-color: #434B5C;\n",
              "      --hover-fill-color: #FFFFFF;\n",
              "      --disabled-bg-color: #3B4455;\n",
              "      --disabled-fill-color: #666;\n",
              "  }\n",
              "\n",
              "  .colab-df-quickchart {\n",
              "    background-color: var(--bg-color);\n",
              "    border: none;\n",
              "    border-radius: 50%;\n",
              "    cursor: pointer;\n",
              "    display: none;\n",
              "    fill: var(--fill-color);\n",
              "    height: 32px;\n",
              "    padding: 0;\n",
              "    width: 32px;\n",
              "  }\n",
              "\n",
              "  .colab-df-quickchart:hover {\n",
              "    background-color: var(--hover-bg-color);\n",
              "    box-shadow: 0 1px 2px rgba(60, 64, 67, 0.3), 0 1px 3px 1px rgba(60, 64, 67, 0.15);\n",
              "    fill: var(--button-hover-fill-color);\n",
              "  }\n",
              "\n",
              "  .colab-df-quickchart-complete:disabled,\n",
              "  .colab-df-quickchart-complete:disabled:hover {\n",
              "    background-color: var(--disabled-bg-color);\n",
              "    fill: var(--disabled-fill-color);\n",
              "    box-shadow: none;\n",
              "  }\n",
              "\n",
              "  .colab-df-spinner {\n",
              "    border: 2px solid var(--fill-color);\n",
              "    border-color: transparent;\n",
              "    border-bottom-color: var(--fill-color);\n",
              "    animation:\n",
              "      spin 1s steps(1) infinite;\n",
              "  }\n",
              "\n",
              "  @keyframes spin {\n",
              "    0% {\n",
              "      border-color: transparent;\n",
              "      border-bottom-color: var(--fill-color);\n",
              "      border-left-color: var(--fill-color);\n",
              "    }\n",
              "    20% {\n",
              "      border-color: transparent;\n",
              "      border-left-color: var(--fill-color);\n",
              "      border-top-color: var(--fill-color);\n",
              "    }\n",
              "    30% {\n",
              "      border-color: transparent;\n",
              "      border-left-color: var(--fill-color);\n",
              "      border-top-color: var(--fill-color);\n",
              "      border-right-color: var(--fill-color);\n",
              "    }\n",
              "    40% {\n",
              "      border-color: transparent;\n",
              "      border-right-color: var(--fill-color);\n",
              "      border-top-color: var(--fill-color);\n",
              "    }\n",
              "    60% {\n",
              "      border-color: transparent;\n",
              "      border-right-color: var(--fill-color);\n",
              "    }\n",
              "    80% {\n",
              "      border-color: transparent;\n",
              "      border-right-color: var(--fill-color);\n",
              "      border-bottom-color: var(--fill-color);\n",
              "    }\n",
              "    90% {\n",
              "      border-color: transparent;\n",
              "      border-bottom-color: var(--fill-color);\n",
              "    }\n",
              "  }\n",
              "</style>\n",
              "\n",
              "  <script>\n",
              "    async function quickchart(key) {\n",
              "      const quickchartButtonEl =\n",
              "        document.querySelector('#' + key + ' button');\n",
              "      quickchartButtonEl.disabled = true;  // To prevent multiple clicks.\n",
              "      quickchartButtonEl.classList.add('colab-df-spinner');\n",
              "      try {\n",
              "        const charts = await google.colab.kernel.invokeFunction(\n",
              "            'suggestCharts', [key], {});\n",
              "      } catch (error) {\n",
              "        console.error('Error during call to suggestCharts:', error);\n",
              "      }\n",
              "      quickchartButtonEl.classList.remove('colab-df-spinner');\n",
              "      quickchartButtonEl.classList.add('colab-df-quickchart-complete');\n",
              "    }\n",
              "    (() => {\n",
              "      let quickchartButtonEl =\n",
              "        document.querySelector('#df-eb503cb6-8cad-4928-a311-c2313e665320 button');\n",
              "      quickchartButtonEl.style.display =\n",
              "        google.colab.kernel.accessAllowed ? 'block' : 'none';\n",
              "    })();\n",
              "  </script>\n",
              "</div>\n",
              "\n",
              "    </div>\n",
              "  </div>\n"
            ],
            "application/vnd.google.colaboratory.intrinsic+json": {
              "type": "dataframe",
              "variable_name": "df",
              "summary": "{\n  \"name\": \"df\",\n  \"rows\": 3143,\n  \"fields\": [\n    {\n      \"column\": \"Age\",\n      \"properties\": {\n        \"dtype\": \"category\",\n        \"num_unique_values\": 4,\n        \"samples\": [\n          \"2a10\",\n          \"Plusde10\",\n          \"Moinsde1\"\n        ],\n        \"semantic_type\": \"\",\n        \"description\": \"\"\n      }\n    },\n    {\n      \"column\": \"Accommodation\",\n      \"properties\": {\n        \"dtype\": \"category\",\n        \"num_unique_values\": 4,\n        \"samples\": [\n          \"AAB\",\n          \"MI\",\n          \"ASB\"\n        ],\n        \"semantic_type\": \"\",\n        \"description\": \"\"\n      }\n    },\n    {\n      \"column\": \"Area\",\n      \"properties\": {\n        \"dtype\": \"category\",\n        \"num_unique_values\": 3,\n        \"samples\": [\n          \"U\",\n          \"R\",\n          \"PU\"\n        ],\n        \"semantic_type\": \"\",\n        \"description\": \"\"\n      }\n    },\n    {\n      \"column\": \"Outdoor\",\n      \"properties\": {\n        \"dtype\": \"number\",\n        \"std\": 1,\n        \"min\": 0,\n        \"max\": 4,\n        \"num_unique_values\": 5,\n        \"samples\": [\n          2,\n          4,\n          1\n        ],\n        \"semantic_type\": \"\",\n        \"description\": \"\"\n      }\n    },\n    {\n      \"column\": \"Obs\",\n      \"properties\": {\n        \"dtype\": \"number\",\n        \"std\": 0,\n        \"min\": 0,\n        \"max\": 3,\n        \"num_unique_values\": 4,\n        \"samples\": [\n          2,\n          1,\n          0\n        ],\n        \"semantic_type\": \"\",\n        \"description\": \"\"\n      }\n    },\n    {\n      \"column\": \"Abundance\",\n      \"properties\": {\n        \"dtype\": \"category\",\n        \"num_unique_values\": 4,\n        \"samples\": [\n          \"3\",\n          \"1\",\n          \"NSP\"\n        ],\n        \"semantic_type\": \"\",\n        \"description\": \"\"\n      }\n    },\n    {\n      \"column\": \"Predoiseau\",\n      \"properties\": {\n        \"dtype\": \"number\",\n        \"std\": 0,\n        \"min\": 0,\n        \"max\": 4,\n        \"num_unique_values\": 5,\n        \"samples\": [\n          0,\n          1,\n          3\n        ],\n        \"semantic_type\": \"\",\n        \"description\": \"\"\n      }\n    },\n    {\n      \"column\": \"Predmamm\",\n      \"properties\": {\n        \"dtype\": \"number\",\n        \"std\": 1,\n        \"min\": 0,\n        \"max\": 4,\n        \"num_unique_values\": 5,\n        \"samples\": [\n          0,\n          2,\n          1\n        ],\n        \"semantic_type\": \"\",\n        \"description\": \"\"\n      }\n    },\n    {\n      \"column\": \"Extraversion\",\n      \"properties\": {\n        \"dtype\": \"number\",\n        \"std\": 1.7772471013789346,\n        \"min\": 2.0999999999999996,\n        \"max\": 10.5,\n        \"num_unique_values\": 22,\n        \"samples\": [\n          2.0999999999999996,\n          8.4,\n          4.199999999999999\n        ],\n        \"semantic_type\": \"\",\n        \"description\": \"\"\n      }\n    },\n    {\n      \"column\": \"Dominance\",\n      \"properties\": {\n        \"dtype\": \"number\",\n        \"std\": 2.427403674600107,\n        \"min\": 2.6,\n        \"max\": 13.0,\n        \"num_unique_values\": 82,\n        \"samples\": [\n          9.0,\n          2.6,\n          6.6000000000000005\n        ],\n        \"semantic_type\": \"\",\n        \"description\": \"\"\n      }\n    },\n    {\n      \"column\": \"Neuroticism\",\n      \"properties\": {\n        \"dtype\": \"number\",\n        \"std\": 1.8006186458226836,\n        \"min\": 1.9999999999999998,\n        \"max\": 10.0,\n        \"num_unique_values\": 143,\n        \"samples\": [\n          3.6999999999999997,\n          5.499999999999999,\n          5.699999999999999\n        ],\n        \"semantic_type\": \"\",\n        \"description\": \"\"\n      }\n    },\n    {\n      \"column\": \"Agreeableness\",\n      \"properties\": {\n        \"dtype\": \"number\",\n        \"std\": 1.3502994498668,\n        \"min\": 1.7999999999999998,\n        \"max\": 9.0,\n        \"num_unique_values\": 94,\n        \"samples\": [\n          6.4,\n          6.3999999999999995,\n          6.3\n        ],\n        \"semantic_type\": \"\",\n        \"description\": \"\"\n      }\n    }\n  ]\n}"
            }
          },
          "metadata": {},
          "execution_count": 218
        }
      ]
    },
    {
      "cell_type": "markdown",
      "source": [
        "**Row Filtering**\n",
        "\n"
      ],
      "metadata": {
        "id": "_9ezRMkiAdmF"
      }
    },
    {
      "cell_type": "markdown",
      "source": [
        "### **Justifications for Removed Data**\n",
        "\n",
        "1. **NSP in `Abundance`:**  \n",
        "   Rows with `NSP` in `Abundance` were removed because they represent \"Not Specified\" values, contributing no meaningful information to the analysis and potentially introducing noise.\n",
        "\n",
        "2. **Cats Less Than 1 Year Old (`Moinsde1` in `Age`):**  \n",
        "   Cats under 1 year of age were removed as their hunting behaviors are likely underdeveloped, making their data less reliable for predicting predation behavior.\n",
        "\n",
        "3. **Rows with `Obs = 0`:**  \n",
        "   Rows where owners reported zero observation time were removed because no reliable data could be collected without adequate time spent observing the cat's behavior.\n",
        "\n",
        "4. **Rows with `Obs = 1`:**  \n",
        "   Rows with minimal observation time (1 hour or equivalent) were removed due to concerns about the accuracy and reliability of the reported behavior data.\n"
      ],
      "metadata": {
        "id": "psqplmR0BgzI"
      }
    },
    {
      "cell_type": "code",
      "source": [
        "# Check counts of 'NSP' Abundance and cats less than 1 year old\n",
        "print(\"Count of NSP in Abundance:\", df[df['Abundance'] == 'NSP'].shape[0])\n",
        "\n",
        "print(\"Count of cats less than 1 year old :\", df[df[\"Age\"] == \"Moinsde1\"].shape[0])\n",
        "# Count rows where Obs is 0 or 1\n",
        "obs_counts = df[\"Obs\"].value_counts()\n",
        "\n",
        "print(f\"Count of rows with Obs = 0: {obs_counts.get(0, 0)}\")\n",
        "print(f\"Count of rows with Obs = 1: {obs_counts.get(1, 0)}\")\n",
        "\n"
      ],
      "metadata": {
        "colab": {
          "base_uri": "https://localhost:8080/"
        },
        "id": "nlFT_KEqnzqI",
        "outputId": "81e3d1c1-c492-4fd8-faf5-233255297a10"
      },
      "execution_count": null,
      "outputs": [
        {
          "output_type": "stream",
          "name": "stdout",
          "text": [
            "Count of NSP in Abundance: 240\n",
            "Count of cats less than 1 year old : 610\n",
            "Count of rows with Obs = 0: 9\n",
            "Count of rows with Obs = 1: 323\n"
          ]
        }
      ]
    },
    {
      "cell_type": "code",
      "source": [
        "\n",
        "\n",
        "df = df[df['Abundance'] != 'NSP']\n",
        "\n",
        "df = df[df['Age'] != 'Moinsde1']\n",
        "\n",
        "\n",
        "df = df[~df['Obs'].isin([0, 1])]\n",
        "\n",
        "\n",
        "\n",
        "print(f\"Dataset size after filtering: {df.shape}\")\n"
      ],
      "metadata": {
        "colab": {
          "base_uri": "https://localhost:8080/"
        },
        "id": "2xAq7XG85seK",
        "outputId": "18ec28d4-eb51-4a20-a59c-9ed19fcfcbbc"
      },
      "execution_count": null,
      "outputs": [
        {
          "output_type": "stream",
          "name": "stdout",
          "text": [
            "Dataset size after filtering: (2075, 12)\n"
          ]
        }
      ]
    },
    {
      "cell_type": "code",
      "source": [
        "#now that we removed rows from owners with low time spent with their cats,\n",
        "# we can further simplify our dataset by removing the obs feature column\n",
        "\n",
        "df = df.drop(columns=['Obs'])\n",
        "\n",
        "df.shape"
      ],
      "metadata": {
        "colab": {
          "base_uri": "https://localhost:8080/"
        },
        "id": "1l_kLAIAGfAP",
        "outputId": "7178ce52-951c-45cb-b54b-476b8904cb7b"
      },
      "execution_count": null,
      "outputs": [
        {
          "output_type": "execute_result",
          "data": {
            "text/plain": [
              "(2075, 11)"
            ]
          },
          "metadata": {},
          "execution_count": 222
        }
      ]
    },
    {
      "cell_type": "code",
      "source": [
        "df.head()"
      ],
      "metadata": {
        "colab": {
          "base_uri": "https://localhost:8080/",
          "height": 204
        },
        "id": "kx2WT9S3HORa",
        "outputId": "f555f6d5-bcf7-42b5-e3ff-6e3b97430022"
      },
      "execution_count": null,
      "outputs": [
        {
          "output_type": "execute_result",
          "data": {
            "text/plain": [
              "         Age Accommodation Area  Outdoor Abundance  Predoiseau  Predmamm  \\\n",
              "4        1a2            MI    R        1         3           0         0   \n",
              "5   Plusde10            MI    R        1         3           0         0   \n",
              "7       2a10            MI    R        0         3           0         0   \n",
              "8       2a10            MI    R        0         3           0         0   \n",
              "11      2a10            MI    R        1         3           0         0   \n",
              "\n",
              "    Extraversion  Dominance  Neuroticism  Agreeableness  \n",
              "4            8.4        7.4          2.9            5.4  \n",
              "5            8.4        2.6          6.8            6.0  \n",
              "7            7.0        3.8          6.0            4.3  \n",
              "8            8.4        2.6          4.0            5.6  \n",
              "11          10.5        3.8          9.7            5.7  "
            ],
            "text/html": [
              "\n",
              "  <div id=\"df-9013f554-c26a-4b25-a558-83cb36c66d28\" class=\"colab-df-container\">\n",
              "    <div>\n",
              "<style scoped>\n",
              "    .dataframe tbody tr th:only-of-type {\n",
              "        vertical-align: middle;\n",
              "    }\n",
              "\n",
              "    .dataframe tbody tr th {\n",
              "        vertical-align: top;\n",
              "    }\n",
              "\n",
              "    .dataframe thead th {\n",
              "        text-align: right;\n",
              "    }\n",
              "</style>\n",
              "<table border=\"1\" class=\"dataframe\">\n",
              "  <thead>\n",
              "    <tr style=\"text-align: right;\">\n",
              "      <th></th>\n",
              "      <th>Age</th>\n",
              "      <th>Accommodation</th>\n",
              "      <th>Area</th>\n",
              "      <th>Outdoor</th>\n",
              "      <th>Abundance</th>\n",
              "      <th>Predoiseau</th>\n",
              "      <th>Predmamm</th>\n",
              "      <th>Extraversion</th>\n",
              "      <th>Dominance</th>\n",
              "      <th>Neuroticism</th>\n",
              "      <th>Agreeableness</th>\n",
              "    </tr>\n",
              "  </thead>\n",
              "  <tbody>\n",
              "    <tr>\n",
              "      <th>4</th>\n",
              "      <td>1a2</td>\n",
              "      <td>MI</td>\n",
              "      <td>R</td>\n",
              "      <td>1</td>\n",
              "      <td>3</td>\n",
              "      <td>0</td>\n",
              "      <td>0</td>\n",
              "      <td>8.4</td>\n",
              "      <td>7.4</td>\n",
              "      <td>2.9</td>\n",
              "      <td>5.4</td>\n",
              "    </tr>\n",
              "    <tr>\n",
              "      <th>5</th>\n",
              "      <td>Plusde10</td>\n",
              "      <td>MI</td>\n",
              "      <td>R</td>\n",
              "      <td>1</td>\n",
              "      <td>3</td>\n",
              "      <td>0</td>\n",
              "      <td>0</td>\n",
              "      <td>8.4</td>\n",
              "      <td>2.6</td>\n",
              "      <td>6.8</td>\n",
              "      <td>6.0</td>\n",
              "    </tr>\n",
              "    <tr>\n",
              "      <th>7</th>\n",
              "      <td>2a10</td>\n",
              "      <td>MI</td>\n",
              "      <td>R</td>\n",
              "      <td>0</td>\n",
              "      <td>3</td>\n",
              "      <td>0</td>\n",
              "      <td>0</td>\n",
              "      <td>7.0</td>\n",
              "      <td>3.8</td>\n",
              "      <td>6.0</td>\n",
              "      <td>4.3</td>\n",
              "    </tr>\n",
              "    <tr>\n",
              "      <th>8</th>\n",
              "      <td>2a10</td>\n",
              "      <td>MI</td>\n",
              "      <td>R</td>\n",
              "      <td>0</td>\n",
              "      <td>3</td>\n",
              "      <td>0</td>\n",
              "      <td>0</td>\n",
              "      <td>8.4</td>\n",
              "      <td>2.6</td>\n",
              "      <td>4.0</td>\n",
              "      <td>5.6</td>\n",
              "    </tr>\n",
              "    <tr>\n",
              "      <th>11</th>\n",
              "      <td>2a10</td>\n",
              "      <td>MI</td>\n",
              "      <td>R</td>\n",
              "      <td>1</td>\n",
              "      <td>3</td>\n",
              "      <td>0</td>\n",
              "      <td>0</td>\n",
              "      <td>10.5</td>\n",
              "      <td>3.8</td>\n",
              "      <td>9.7</td>\n",
              "      <td>5.7</td>\n",
              "    </tr>\n",
              "  </tbody>\n",
              "</table>\n",
              "</div>\n",
              "    <div class=\"colab-df-buttons\">\n",
              "\n",
              "  <div class=\"colab-df-container\">\n",
              "    <button class=\"colab-df-convert\" onclick=\"convertToInteractive('df-9013f554-c26a-4b25-a558-83cb36c66d28')\"\n",
              "            title=\"Convert this dataframe to an interactive table.\"\n",
              "            style=\"display:none;\">\n",
              "\n",
              "  <svg xmlns=\"http://www.w3.org/2000/svg\" height=\"24px\" viewBox=\"0 -960 960 960\">\n",
              "    <path d=\"M120-120v-720h720v720H120Zm60-500h600v-160H180v160Zm220 220h160v-160H400v160Zm0 220h160v-160H400v160ZM180-400h160v-160H180v160Zm440 0h160v-160H620v160ZM180-180h160v-160H180v160Zm440 0h160v-160H620v160Z\"/>\n",
              "  </svg>\n",
              "    </button>\n",
              "\n",
              "  <style>\n",
              "    .colab-df-container {\n",
              "      display:flex;\n",
              "      gap: 12px;\n",
              "    }\n",
              "\n",
              "    .colab-df-convert {\n",
              "      background-color: #E8F0FE;\n",
              "      border: none;\n",
              "      border-radius: 50%;\n",
              "      cursor: pointer;\n",
              "      display: none;\n",
              "      fill: #1967D2;\n",
              "      height: 32px;\n",
              "      padding: 0 0 0 0;\n",
              "      width: 32px;\n",
              "    }\n",
              "\n",
              "    .colab-df-convert:hover {\n",
              "      background-color: #E2EBFA;\n",
              "      box-shadow: 0px 1px 2px rgba(60, 64, 67, 0.3), 0px 1px 3px 1px rgba(60, 64, 67, 0.15);\n",
              "      fill: #174EA6;\n",
              "    }\n",
              "\n",
              "    .colab-df-buttons div {\n",
              "      margin-bottom: 4px;\n",
              "    }\n",
              "\n",
              "    [theme=dark] .colab-df-convert {\n",
              "      background-color: #3B4455;\n",
              "      fill: #D2E3FC;\n",
              "    }\n",
              "\n",
              "    [theme=dark] .colab-df-convert:hover {\n",
              "      background-color: #434B5C;\n",
              "      box-shadow: 0px 1px 3px 1px rgba(0, 0, 0, 0.15);\n",
              "      filter: drop-shadow(0px 1px 2px rgba(0, 0, 0, 0.3));\n",
              "      fill: #FFFFFF;\n",
              "    }\n",
              "  </style>\n",
              "\n",
              "    <script>\n",
              "      const buttonEl =\n",
              "        document.querySelector('#df-9013f554-c26a-4b25-a558-83cb36c66d28 button.colab-df-convert');\n",
              "      buttonEl.style.display =\n",
              "        google.colab.kernel.accessAllowed ? 'block' : 'none';\n",
              "\n",
              "      async function convertToInteractive(key) {\n",
              "        const element = document.querySelector('#df-9013f554-c26a-4b25-a558-83cb36c66d28');\n",
              "        const dataTable =\n",
              "          await google.colab.kernel.invokeFunction('convertToInteractive',\n",
              "                                                    [key], {});\n",
              "        if (!dataTable) return;\n",
              "\n",
              "        const docLinkHtml = 'Like what you see? Visit the ' +\n",
              "          '<a target=\"_blank\" href=https://colab.research.google.com/notebooks/data_table.ipynb>data table notebook</a>'\n",
              "          + ' to learn more about interactive tables.';\n",
              "        element.innerHTML = '';\n",
              "        dataTable['output_type'] = 'display_data';\n",
              "        await google.colab.output.renderOutput(dataTable, element);\n",
              "        const docLink = document.createElement('div');\n",
              "        docLink.innerHTML = docLinkHtml;\n",
              "        element.appendChild(docLink);\n",
              "      }\n",
              "    </script>\n",
              "  </div>\n",
              "\n",
              "\n",
              "<div id=\"df-29bfc954-5260-4375-8384-f7260b3e45f5\">\n",
              "  <button class=\"colab-df-quickchart\" onclick=\"quickchart('df-29bfc954-5260-4375-8384-f7260b3e45f5')\"\n",
              "            title=\"Suggest charts\"\n",
              "            style=\"display:none;\">\n",
              "\n",
              "<svg xmlns=\"http://www.w3.org/2000/svg\" height=\"24px\"viewBox=\"0 0 24 24\"\n",
              "     width=\"24px\">\n",
              "    <g>\n",
              "        <path d=\"M19 3H5c-1.1 0-2 .9-2 2v14c0 1.1.9 2 2 2h14c1.1 0 2-.9 2-2V5c0-1.1-.9-2-2-2zM9 17H7v-7h2v7zm4 0h-2V7h2v10zm4 0h-2v-4h2v4z\"/>\n",
              "    </g>\n",
              "</svg>\n",
              "  </button>\n",
              "\n",
              "<style>\n",
              "  .colab-df-quickchart {\n",
              "      --bg-color: #E8F0FE;\n",
              "      --fill-color: #1967D2;\n",
              "      --hover-bg-color: #E2EBFA;\n",
              "      --hover-fill-color: #174EA6;\n",
              "      --disabled-fill-color: #AAA;\n",
              "      --disabled-bg-color: #DDD;\n",
              "  }\n",
              "\n",
              "  [theme=dark] .colab-df-quickchart {\n",
              "      --bg-color: #3B4455;\n",
              "      --fill-color: #D2E3FC;\n",
              "      --hover-bg-color: #434B5C;\n",
              "      --hover-fill-color: #FFFFFF;\n",
              "      --disabled-bg-color: #3B4455;\n",
              "      --disabled-fill-color: #666;\n",
              "  }\n",
              "\n",
              "  .colab-df-quickchart {\n",
              "    background-color: var(--bg-color);\n",
              "    border: none;\n",
              "    border-radius: 50%;\n",
              "    cursor: pointer;\n",
              "    display: none;\n",
              "    fill: var(--fill-color);\n",
              "    height: 32px;\n",
              "    padding: 0;\n",
              "    width: 32px;\n",
              "  }\n",
              "\n",
              "  .colab-df-quickchart:hover {\n",
              "    background-color: var(--hover-bg-color);\n",
              "    box-shadow: 0 1px 2px rgba(60, 64, 67, 0.3), 0 1px 3px 1px rgba(60, 64, 67, 0.15);\n",
              "    fill: var(--button-hover-fill-color);\n",
              "  }\n",
              "\n",
              "  .colab-df-quickchart-complete:disabled,\n",
              "  .colab-df-quickchart-complete:disabled:hover {\n",
              "    background-color: var(--disabled-bg-color);\n",
              "    fill: var(--disabled-fill-color);\n",
              "    box-shadow: none;\n",
              "  }\n",
              "\n",
              "  .colab-df-spinner {\n",
              "    border: 2px solid var(--fill-color);\n",
              "    border-color: transparent;\n",
              "    border-bottom-color: var(--fill-color);\n",
              "    animation:\n",
              "      spin 1s steps(1) infinite;\n",
              "  }\n",
              "\n",
              "  @keyframes spin {\n",
              "    0% {\n",
              "      border-color: transparent;\n",
              "      border-bottom-color: var(--fill-color);\n",
              "      border-left-color: var(--fill-color);\n",
              "    }\n",
              "    20% {\n",
              "      border-color: transparent;\n",
              "      border-left-color: var(--fill-color);\n",
              "      border-top-color: var(--fill-color);\n",
              "    }\n",
              "    30% {\n",
              "      border-color: transparent;\n",
              "      border-left-color: var(--fill-color);\n",
              "      border-top-color: var(--fill-color);\n",
              "      border-right-color: var(--fill-color);\n",
              "    }\n",
              "    40% {\n",
              "      border-color: transparent;\n",
              "      border-right-color: var(--fill-color);\n",
              "      border-top-color: var(--fill-color);\n",
              "    }\n",
              "    60% {\n",
              "      border-color: transparent;\n",
              "      border-right-color: var(--fill-color);\n",
              "    }\n",
              "    80% {\n",
              "      border-color: transparent;\n",
              "      border-right-color: var(--fill-color);\n",
              "      border-bottom-color: var(--fill-color);\n",
              "    }\n",
              "    90% {\n",
              "      border-color: transparent;\n",
              "      border-bottom-color: var(--fill-color);\n",
              "    }\n",
              "  }\n",
              "</style>\n",
              "\n",
              "  <script>\n",
              "    async function quickchart(key) {\n",
              "      const quickchartButtonEl =\n",
              "        document.querySelector('#' + key + ' button');\n",
              "      quickchartButtonEl.disabled = true;  // To prevent multiple clicks.\n",
              "      quickchartButtonEl.classList.add('colab-df-spinner');\n",
              "      try {\n",
              "        const charts = await google.colab.kernel.invokeFunction(\n",
              "            'suggestCharts', [key], {});\n",
              "      } catch (error) {\n",
              "        console.error('Error during call to suggestCharts:', error);\n",
              "      }\n",
              "      quickchartButtonEl.classList.remove('colab-df-spinner');\n",
              "      quickchartButtonEl.classList.add('colab-df-quickchart-complete');\n",
              "    }\n",
              "    (() => {\n",
              "      let quickchartButtonEl =\n",
              "        document.querySelector('#df-29bfc954-5260-4375-8384-f7260b3e45f5 button');\n",
              "      quickchartButtonEl.style.display =\n",
              "        google.colab.kernel.accessAllowed ? 'block' : 'none';\n",
              "    })();\n",
              "  </script>\n",
              "</div>\n",
              "\n",
              "    </div>\n",
              "  </div>\n"
            ],
            "application/vnd.google.colaboratory.intrinsic+json": {
              "type": "dataframe",
              "variable_name": "df",
              "summary": "{\n  \"name\": \"df\",\n  \"rows\": 2075,\n  \"fields\": [\n    {\n      \"column\": \"Age\",\n      \"properties\": {\n        \"dtype\": \"category\",\n        \"num_unique_values\": 3,\n        \"samples\": [\n          \"1a2\",\n          \"Plusde10\",\n          \"2a10\"\n        ],\n        \"semantic_type\": \"\",\n        \"description\": \"\"\n      }\n    },\n    {\n      \"column\": \"Accommodation\",\n      \"properties\": {\n        \"dtype\": \"category\",\n        \"num_unique_values\": 4,\n        \"samples\": [\n          \"ML\",\n          \"AAB\",\n          \"MI\"\n        ],\n        \"semantic_type\": \"\",\n        \"description\": \"\"\n      }\n    },\n    {\n      \"column\": \"Area\",\n      \"properties\": {\n        \"dtype\": \"category\",\n        \"num_unique_values\": 3,\n        \"samples\": [\n          \"R\",\n          \"PU\",\n          \"U\"\n        ],\n        \"semantic_type\": \"\",\n        \"description\": \"\"\n      }\n    },\n    {\n      \"column\": \"Outdoor\",\n      \"properties\": {\n        \"dtype\": \"number\",\n        \"std\": 1,\n        \"min\": 0,\n        \"max\": 4,\n        \"num_unique_values\": 5,\n        \"samples\": [\n          0,\n          4,\n          2\n        ],\n        \"semantic_type\": \"\",\n        \"description\": \"\"\n      }\n    },\n    {\n      \"column\": \"Abundance\",\n      \"properties\": {\n        \"dtype\": \"category\",\n        \"num_unique_values\": 3,\n        \"samples\": [\n          \"3\",\n          \"2\",\n          \"1\"\n        ],\n        \"semantic_type\": \"\",\n        \"description\": \"\"\n      }\n    },\n    {\n      \"column\": \"Predoiseau\",\n      \"properties\": {\n        \"dtype\": \"number\",\n        \"std\": 0,\n        \"min\": 0,\n        \"max\": 4,\n        \"num_unique_values\": 5,\n        \"samples\": [\n          4,\n          1,\n          3\n        ],\n        \"semantic_type\": \"\",\n        \"description\": \"\"\n      }\n    },\n    {\n      \"column\": \"Predmamm\",\n      \"properties\": {\n        \"dtype\": \"number\",\n        \"std\": 1,\n        \"min\": 0,\n        \"max\": 4,\n        \"num_unique_values\": 5,\n        \"samples\": [\n          1,\n          2,\n          4\n        ],\n        \"semantic_type\": \"\",\n        \"description\": \"\"\n      }\n    },\n    {\n      \"column\": \"Extraversion\",\n      \"properties\": {\n        \"dtype\": \"number\",\n        \"std\": 1.7341481423455687,\n        \"min\": 2.0999999999999996,\n        \"max\": 10.5,\n        \"num_unique_values\": 22,\n        \"samples\": [\n          8.399999999999999,\n          7.7,\n          8.4\n        ],\n        \"semantic_type\": \"\",\n        \"description\": \"\"\n      }\n    },\n    {\n      \"column\": \"Dominance\",\n      \"properties\": {\n        \"dtype\": \"number\",\n        \"std\": 2.4448235335808537,\n        \"min\": 2.6,\n        \"max\": 13.0,\n        \"num_unique_values\": 81,\n        \"samples\": [\n          11.200000000000001,\n          7.4,\n          5.800000000000001\n        ],\n        \"semantic_type\": \"\",\n        \"description\": \"\"\n      }\n    },\n    {\n      \"column\": \"Neuroticism\",\n      \"properties\": {\n        \"dtype\": \"number\",\n        \"std\": 1.7865729372081087,\n        \"min\": 1.9999999999999998,\n        \"max\": 10.0,\n        \"num_unique_values\": 141,\n        \"samples\": [\n          6.4,\n          9.4,\n          6.3\n        ],\n        \"semantic_type\": \"\",\n        \"description\": \"\"\n      }\n    },\n    {\n      \"column\": \"Agreeableness\",\n      \"properties\": {\n        \"dtype\": \"number\",\n        \"std\": 1.3265037817069087,\n        \"min\": 1.7999999999999998,\n        \"max\": 9.0,\n        \"num_unique_values\": 93,\n        \"samples\": [\n          7.1,\n          5.8,\n          3.5999999999999996\n        ],\n        \"semantic_type\": \"\",\n        \"description\": \"\"\n      }\n    }\n  ]\n}"
            }
          },
          "metadata": {},
          "execution_count": 225
        }
      ]
    },
    {
      "cell_type": "markdown",
      "source": [
        "Final Step of Preprocessing:\n",
        "\n",
        "**One-hot encoding**\n",
        "\n",
        "We will do this for age, accomodation, area, and abundance,\n",
        "\n",
        "no need to do it for outdoor since it is already encoded in an ordinal encoding"
      ],
      "metadata": {
        "id": "LmHQoNXxHaiz"
      }
    },
    {
      "cell_type": "code",
      "source": [
        "# List of categorical columns to encode\n",
        "categorical_columns = ['Age', 'Accommodation', 'Area', 'Abundance']\n",
        "\n",
        "# Perform one-hot encoding\n",
        "df_encoded = pd.get_dummies(df, columns=categorical_columns, drop_first=True)\n",
        "\n"
      ],
      "metadata": {
        "id": "xWBPepDUCEzL"
      },
      "execution_count": null,
      "outputs": []
    },
    {
      "cell_type": "code",
      "source": [
        "df_encoded.head()"
      ],
      "metadata": {
        "colab": {
          "base_uri": "https://localhost:8080/",
          "height": 224
        },
        "id": "9wDYLSFtI-V2",
        "outputId": "e8b6c30b-9f51-448e-d889-18030ca28735"
      },
      "execution_count": null,
      "outputs": [
        {
          "output_type": "execute_result",
          "data": {
            "text/plain": [
              "    Outdoor  Predoiseau  Predmamm  Extraversion  Dominance  Neuroticism  \\\n",
              "4         1           0         0           8.4        7.4          2.9   \n",
              "5         1           0         0           8.4        2.6          6.8   \n",
              "7         0           0         0           7.0        3.8          6.0   \n",
              "8         0           0         0           8.4        2.6          4.0   \n",
              "11        1           0         0          10.5        3.8          9.7   \n",
              "\n",
              "    Agreeableness  Age_2a10  Age_Plusde10  Accommodation_ASB  \\\n",
              "4             5.4     False         False              False   \n",
              "5             6.0     False          True              False   \n",
              "7             4.3      True         False              False   \n",
              "8             5.6      True         False              False   \n",
              "11            5.7      True         False              False   \n",
              "\n",
              "    Accommodation_MI  Accommodation_ML  Area_R  Area_U  Abundance_2  \\\n",
              "4               True             False    True   False        False   \n",
              "5               True             False    True   False        False   \n",
              "7               True             False    True   False        False   \n",
              "8               True             False    True   False        False   \n",
              "11              True             False    True   False        False   \n",
              "\n",
              "    Abundance_3  \n",
              "4          True  \n",
              "5          True  \n",
              "7          True  \n",
              "8          True  \n",
              "11         True  "
            ],
            "text/html": [
              "\n",
              "  <div id=\"df-754bb075-ba55-49bc-af27-fc78495d3348\" class=\"colab-df-container\">\n",
              "    <div>\n",
              "<style scoped>\n",
              "    .dataframe tbody tr th:only-of-type {\n",
              "        vertical-align: middle;\n",
              "    }\n",
              "\n",
              "    .dataframe tbody tr th {\n",
              "        vertical-align: top;\n",
              "    }\n",
              "\n",
              "    .dataframe thead th {\n",
              "        text-align: right;\n",
              "    }\n",
              "</style>\n",
              "<table border=\"1\" class=\"dataframe\">\n",
              "  <thead>\n",
              "    <tr style=\"text-align: right;\">\n",
              "      <th></th>\n",
              "      <th>Outdoor</th>\n",
              "      <th>Predoiseau</th>\n",
              "      <th>Predmamm</th>\n",
              "      <th>Extraversion</th>\n",
              "      <th>Dominance</th>\n",
              "      <th>Neuroticism</th>\n",
              "      <th>Agreeableness</th>\n",
              "      <th>Age_2a10</th>\n",
              "      <th>Age_Plusde10</th>\n",
              "      <th>Accommodation_ASB</th>\n",
              "      <th>Accommodation_MI</th>\n",
              "      <th>Accommodation_ML</th>\n",
              "      <th>Area_R</th>\n",
              "      <th>Area_U</th>\n",
              "      <th>Abundance_2</th>\n",
              "      <th>Abundance_3</th>\n",
              "    </tr>\n",
              "  </thead>\n",
              "  <tbody>\n",
              "    <tr>\n",
              "      <th>4</th>\n",
              "      <td>1</td>\n",
              "      <td>0</td>\n",
              "      <td>0</td>\n",
              "      <td>8.4</td>\n",
              "      <td>7.4</td>\n",
              "      <td>2.9</td>\n",
              "      <td>5.4</td>\n",
              "      <td>False</td>\n",
              "      <td>False</td>\n",
              "      <td>False</td>\n",
              "      <td>True</td>\n",
              "      <td>False</td>\n",
              "      <td>True</td>\n",
              "      <td>False</td>\n",
              "      <td>False</td>\n",
              "      <td>True</td>\n",
              "    </tr>\n",
              "    <tr>\n",
              "      <th>5</th>\n",
              "      <td>1</td>\n",
              "      <td>0</td>\n",
              "      <td>0</td>\n",
              "      <td>8.4</td>\n",
              "      <td>2.6</td>\n",
              "      <td>6.8</td>\n",
              "      <td>6.0</td>\n",
              "      <td>False</td>\n",
              "      <td>True</td>\n",
              "      <td>False</td>\n",
              "      <td>True</td>\n",
              "      <td>False</td>\n",
              "      <td>True</td>\n",
              "      <td>False</td>\n",
              "      <td>False</td>\n",
              "      <td>True</td>\n",
              "    </tr>\n",
              "    <tr>\n",
              "      <th>7</th>\n",
              "      <td>0</td>\n",
              "      <td>0</td>\n",
              "      <td>0</td>\n",
              "      <td>7.0</td>\n",
              "      <td>3.8</td>\n",
              "      <td>6.0</td>\n",
              "      <td>4.3</td>\n",
              "      <td>True</td>\n",
              "      <td>False</td>\n",
              "      <td>False</td>\n",
              "      <td>True</td>\n",
              "      <td>False</td>\n",
              "      <td>True</td>\n",
              "      <td>False</td>\n",
              "      <td>False</td>\n",
              "      <td>True</td>\n",
              "    </tr>\n",
              "    <tr>\n",
              "      <th>8</th>\n",
              "      <td>0</td>\n",
              "      <td>0</td>\n",
              "      <td>0</td>\n",
              "      <td>8.4</td>\n",
              "      <td>2.6</td>\n",
              "      <td>4.0</td>\n",
              "      <td>5.6</td>\n",
              "      <td>True</td>\n",
              "      <td>False</td>\n",
              "      <td>False</td>\n",
              "      <td>True</td>\n",
              "      <td>False</td>\n",
              "      <td>True</td>\n",
              "      <td>False</td>\n",
              "      <td>False</td>\n",
              "      <td>True</td>\n",
              "    </tr>\n",
              "    <tr>\n",
              "      <th>11</th>\n",
              "      <td>1</td>\n",
              "      <td>0</td>\n",
              "      <td>0</td>\n",
              "      <td>10.5</td>\n",
              "      <td>3.8</td>\n",
              "      <td>9.7</td>\n",
              "      <td>5.7</td>\n",
              "      <td>True</td>\n",
              "      <td>False</td>\n",
              "      <td>False</td>\n",
              "      <td>True</td>\n",
              "      <td>False</td>\n",
              "      <td>True</td>\n",
              "      <td>False</td>\n",
              "      <td>False</td>\n",
              "      <td>True</td>\n",
              "    </tr>\n",
              "  </tbody>\n",
              "</table>\n",
              "</div>\n",
              "    <div class=\"colab-df-buttons\">\n",
              "\n",
              "  <div class=\"colab-df-container\">\n",
              "    <button class=\"colab-df-convert\" onclick=\"convertToInteractive('df-754bb075-ba55-49bc-af27-fc78495d3348')\"\n",
              "            title=\"Convert this dataframe to an interactive table.\"\n",
              "            style=\"display:none;\">\n",
              "\n",
              "  <svg xmlns=\"http://www.w3.org/2000/svg\" height=\"24px\" viewBox=\"0 -960 960 960\">\n",
              "    <path d=\"M120-120v-720h720v720H120Zm60-500h600v-160H180v160Zm220 220h160v-160H400v160Zm0 220h160v-160H400v160ZM180-400h160v-160H180v160Zm440 0h160v-160H620v160ZM180-180h160v-160H180v160Zm440 0h160v-160H620v160Z\"/>\n",
              "  </svg>\n",
              "    </button>\n",
              "\n",
              "  <style>\n",
              "    .colab-df-container {\n",
              "      display:flex;\n",
              "      gap: 12px;\n",
              "    }\n",
              "\n",
              "    .colab-df-convert {\n",
              "      background-color: #E8F0FE;\n",
              "      border: none;\n",
              "      border-radius: 50%;\n",
              "      cursor: pointer;\n",
              "      display: none;\n",
              "      fill: #1967D2;\n",
              "      height: 32px;\n",
              "      padding: 0 0 0 0;\n",
              "      width: 32px;\n",
              "    }\n",
              "\n",
              "    .colab-df-convert:hover {\n",
              "      background-color: #E2EBFA;\n",
              "      box-shadow: 0px 1px 2px rgba(60, 64, 67, 0.3), 0px 1px 3px 1px rgba(60, 64, 67, 0.15);\n",
              "      fill: #174EA6;\n",
              "    }\n",
              "\n",
              "    .colab-df-buttons div {\n",
              "      margin-bottom: 4px;\n",
              "    }\n",
              "\n",
              "    [theme=dark] .colab-df-convert {\n",
              "      background-color: #3B4455;\n",
              "      fill: #D2E3FC;\n",
              "    }\n",
              "\n",
              "    [theme=dark] .colab-df-convert:hover {\n",
              "      background-color: #434B5C;\n",
              "      box-shadow: 0px 1px 3px 1px rgba(0, 0, 0, 0.15);\n",
              "      filter: drop-shadow(0px 1px 2px rgba(0, 0, 0, 0.3));\n",
              "      fill: #FFFFFF;\n",
              "    }\n",
              "  </style>\n",
              "\n",
              "    <script>\n",
              "      const buttonEl =\n",
              "        document.querySelector('#df-754bb075-ba55-49bc-af27-fc78495d3348 button.colab-df-convert');\n",
              "      buttonEl.style.display =\n",
              "        google.colab.kernel.accessAllowed ? 'block' : 'none';\n",
              "\n",
              "      async function convertToInteractive(key) {\n",
              "        const element = document.querySelector('#df-754bb075-ba55-49bc-af27-fc78495d3348');\n",
              "        const dataTable =\n",
              "          await google.colab.kernel.invokeFunction('convertToInteractive',\n",
              "                                                    [key], {});\n",
              "        if (!dataTable) return;\n",
              "\n",
              "        const docLinkHtml = 'Like what you see? Visit the ' +\n",
              "          '<a target=\"_blank\" href=https://colab.research.google.com/notebooks/data_table.ipynb>data table notebook</a>'\n",
              "          + ' to learn more about interactive tables.';\n",
              "        element.innerHTML = '';\n",
              "        dataTable['output_type'] = 'display_data';\n",
              "        await google.colab.output.renderOutput(dataTable, element);\n",
              "        const docLink = document.createElement('div');\n",
              "        docLink.innerHTML = docLinkHtml;\n",
              "        element.appendChild(docLink);\n",
              "      }\n",
              "    </script>\n",
              "  </div>\n",
              "\n",
              "\n",
              "<div id=\"df-e1cfa081-b57b-4230-a1c7-27fe8dd2f17c\">\n",
              "  <button class=\"colab-df-quickchart\" onclick=\"quickchart('df-e1cfa081-b57b-4230-a1c7-27fe8dd2f17c')\"\n",
              "            title=\"Suggest charts\"\n",
              "            style=\"display:none;\">\n",
              "\n",
              "<svg xmlns=\"http://www.w3.org/2000/svg\" height=\"24px\"viewBox=\"0 0 24 24\"\n",
              "     width=\"24px\">\n",
              "    <g>\n",
              "        <path d=\"M19 3H5c-1.1 0-2 .9-2 2v14c0 1.1.9 2 2 2h14c1.1 0 2-.9 2-2V5c0-1.1-.9-2-2-2zM9 17H7v-7h2v7zm4 0h-2V7h2v10zm4 0h-2v-4h2v4z\"/>\n",
              "    </g>\n",
              "</svg>\n",
              "  </button>\n",
              "\n",
              "<style>\n",
              "  .colab-df-quickchart {\n",
              "      --bg-color: #E8F0FE;\n",
              "      --fill-color: #1967D2;\n",
              "      --hover-bg-color: #E2EBFA;\n",
              "      --hover-fill-color: #174EA6;\n",
              "      --disabled-fill-color: #AAA;\n",
              "      --disabled-bg-color: #DDD;\n",
              "  }\n",
              "\n",
              "  [theme=dark] .colab-df-quickchart {\n",
              "      --bg-color: #3B4455;\n",
              "      --fill-color: #D2E3FC;\n",
              "      --hover-bg-color: #434B5C;\n",
              "      --hover-fill-color: #FFFFFF;\n",
              "      --disabled-bg-color: #3B4455;\n",
              "      --disabled-fill-color: #666;\n",
              "  }\n",
              "\n",
              "  .colab-df-quickchart {\n",
              "    background-color: var(--bg-color);\n",
              "    border: none;\n",
              "    border-radius: 50%;\n",
              "    cursor: pointer;\n",
              "    display: none;\n",
              "    fill: var(--fill-color);\n",
              "    height: 32px;\n",
              "    padding: 0;\n",
              "    width: 32px;\n",
              "  }\n",
              "\n",
              "  .colab-df-quickchart:hover {\n",
              "    background-color: var(--hover-bg-color);\n",
              "    box-shadow: 0 1px 2px rgba(60, 64, 67, 0.3), 0 1px 3px 1px rgba(60, 64, 67, 0.15);\n",
              "    fill: var(--button-hover-fill-color);\n",
              "  }\n",
              "\n",
              "  .colab-df-quickchart-complete:disabled,\n",
              "  .colab-df-quickchart-complete:disabled:hover {\n",
              "    background-color: var(--disabled-bg-color);\n",
              "    fill: var(--disabled-fill-color);\n",
              "    box-shadow: none;\n",
              "  }\n",
              "\n",
              "  .colab-df-spinner {\n",
              "    border: 2px solid var(--fill-color);\n",
              "    border-color: transparent;\n",
              "    border-bottom-color: var(--fill-color);\n",
              "    animation:\n",
              "      spin 1s steps(1) infinite;\n",
              "  }\n",
              "\n",
              "  @keyframes spin {\n",
              "    0% {\n",
              "      border-color: transparent;\n",
              "      border-bottom-color: var(--fill-color);\n",
              "      border-left-color: var(--fill-color);\n",
              "    }\n",
              "    20% {\n",
              "      border-color: transparent;\n",
              "      border-left-color: var(--fill-color);\n",
              "      border-top-color: var(--fill-color);\n",
              "    }\n",
              "    30% {\n",
              "      border-color: transparent;\n",
              "      border-left-color: var(--fill-color);\n",
              "      border-top-color: var(--fill-color);\n",
              "      border-right-color: var(--fill-color);\n",
              "    }\n",
              "    40% {\n",
              "      border-color: transparent;\n",
              "      border-right-color: var(--fill-color);\n",
              "      border-top-color: var(--fill-color);\n",
              "    }\n",
              "    60% {\n",
              "      border-color: transparent;\n",
              "      border-right-color: var(--fill-color);\n",
              "    }\n",
              "    80% {\n",
              "      border-color: transparent;\n",
              "      border-right-color: var(--fill-color);\n",
              "      border-bottom-color: var(--fill-color);\n",
              "    }\n",
              "    90% {\n",
              "      border-color: transparent;\n",
              "      border-bottom-color: var(--fill-color);\n",
              "    }\n",
              "  }\n",
              "</style>\n",
              "\n",
              "  <script>\n",
              "    async function quickchart(key) {\n",
              "      const quickchartButtonEl =\n",
              "        document.querySelector('#' + key + ' button');\n",
              "      quickchartButtonEl.disabled = true;  // To prevent multiple clicks.\n",
              "      quickchartButtonEl.classList.add('colab-df-spinner');\n",
              "      try {\n",
              "        const charts = await google.colab.kernel.invokeFunction(\n",
              "            'suggestCharts', [key], {});\n",
              "      } catch (error) {\n",
              "        console.error('Error during call to suggestCharts:', error);\n",
              "      }\n",
              "      quickchartButtonEl.classList.remove('colab-df-spinner');\n",
              "      quickchartButtonEl.classList.add('colab-df-quickchart-complete');\n",
              "    }\n",
              "    (() => {\n",
              "      let quickchartButtonEl =\n",
              "        document.querySelector('#df-e1cfa081-b57b-4230-a1c7-27fe8dd2f17c button');\n",
              "      quickchartButtonEl.style.display =\n",
              "        google.colab.kernel.accessAllowed ? 'block' : 'none';\n",
              "    })();\n",
              "  </script>\n",
              "</div>\n",
              "\n",
              "    </div>\n",
              "  </div>\n"
            ],
            "application/vnd.google.colaboratory.intrinsic+json": {
              "type": "dataframe",
              "variable_name": "df_encoded",
              "summary": "{\n  \"name\": \"df_encoded\",\n  \"rows\": 2075,\n  \"fields\": [\n    {\n      \"column\": \"Outdoor\",\n      \"properties\": {\n        \"dtype\": \"number\",\n        \"std\": 1,\n        \"min\": 0,\n        \"max\": 4,\n        \"num_unique_values\": 5,\n        \"samples\": [\n          0,\n          4,\n          2\n        ],\n        \"semantic_type\": \"\",\n        \"description\": \"\"\n      }\n    },\n    {\n      \"column\": \"Predoiseau\",\n      \"properties\": {\n        \"dtype\": \"number\",\n        \"std\": 0,\n        \"min\": 0,\n        \"max\": 4,\n        \"num_unique_values\": 5,\n        \"samples\": [\n          4,\n          1,\n          3\n        ],\n        \"semantic_type\": \"\",\n        \"description\": \"\"\n      }\n    },\n    {\n      \"column\": \"Predmamm\",\n      \"properties\": {\n        \"dtype\": \"number\",\n        \"std\": 1,\n        \"min\": 0,\n        \"max\": 4,\n        \"num_unique_values\": 5,\n        \"samples\": [\n          1,\n          2,\n          4\n        ],\n        \"semantic_type\": \"\",\n        \"description\": \"\"\n      }\n    },\n    {\n      \"column\": \"Extraversion\",\n      \"properties\": {\n        \"dtype\": \"number\",\n        \"std\": 1.7341481423455687,\n        \"min\": 2.0999999999999996,\n        \"max\": 10.5,\n        \"num_unique_values\": 22,\n        \"samples\": [\n          8.399999999999999,\n          7.7,\n          8.4\n        ],\n        \"semantic_type\": \"\",\n        \"description\": \"\"\n      }\n    },\n    {\n      \"column\": \"Dominance\",\n      \"properties\": {\n        \"dtype\": \"number\",\n        \"std\": 2.4448235335808537,\n        \"min\": 2.6,\n        \"max\": 13.0,\n        \"num_unique_values\": 81,\n        \"samples\": [\n          11.200000000000001,\n          7.4,\n          5.800000000000001\n        ],\n        \"semantic_type\": \"\",\n        \"description\": \"\"\n      }\n    },\n    {\n      \"column\": \"Neuroticism\",\n      \"properties\": {\n        \"dtype\": \"number\",\n        \"std\": 1.7865729372081087,\n        \"min\": 1.9999999999999998,\n        \"max\": 10.0,\n        \"num_unique_values\": 141,\n        \"samples\": [\n          6.4,\n          9.4,\n          6.3\n        ],\n        \"semantic_type\": \"\",\n        \"description\": \"\"\n      }\n    },\n    {\n      \"column\": \"Agreeableness\",\n      \"properties\": {\n        \"dtype\": \"number\",\n        \"std\": 1.3265037817069087,\n        \"min\": 1.7999999999999998,\n        \"max\": 9.0,\n        \"num_unique_values\": 93,\n        \"samples\": [\n          7.1,\n          5.8,\n          3.5999999999999996\n        ],\n        \"semantic_type\": \"\",\n        \"description\": \"\"\n      }\n    },\n    {\n      \"column\": \"Age_2a10\",\n      \"properties\": {\n        \"dtype\": \"boolean\",\n        \"num_unique_values\": 2,\n        \"samples\": [\n          true,\n          false\n        ],\n        \"semantic_type\": \"\",\n        \"description\": \"\"\n      }\n    },\n    {\n      \"column\": \"Age_Plusde10\",\n      \"properties\": {\n        \"dtype\": \"boolean\",\n        \"num_unique_values\": 2,\n        \"samples\": [\n          true,\n          false\n        ],\n        \"semantic_type\": \"\",\n        \"description\": \"\"\n      }\n    },\n    {\n      \"column\": \"Accommodation_ASB\",\n      \"properties\": {\n        \"dtype\": \"boolean\",\n        \"num_unique_values\": 2,\n        \"samples\": [\n          true,\n          false\n        ],\n        \"semantic_type\": \"\",\n        \"description\": \"\"\n      }\n    },\n    {\n      \"column\": \"Accommodation_MI\",\n      \"properties\": {\n        \"dtype\": \"boolean\",\n        \"num_unique_values\": 2,\n        \"samples\": [\n          false,\n          true\n        ],\n        \"semantic_type\": \"\",\n        \"description\": \"\"\n      }\n    },\n    {\n      \"column\": \"Accommodation_ML\",\n      \"properties\": {\n        \"dtype\": \"boolean\",\n        \"num_unique_values\": 2,\n        \"samples\": [\n          true,\n          false\n        ],\n        \"semantic_type\": \"\",\n        \"description\": \"\"\n      }\n    },\n    {\n      \"column\": \"Area_R\",\n      \"properties\": {\n        \"dtype\": \"boolean\",\n        \"num_unique_values\": 2,\n        \"samples\": [\n          false,\n          true\n        ],\n        \"semantic_type\": \"\",\n        \"description\": \"\"\n      }\n    },\n    {\n      \"column\": \"Area_U\",\n      \"properties\": {\n        \"dtype\": \"boolean\",\n        \"num_unique_values\": 2,\n        \"samples\": [\n          true,\n          false\n        ],\n        \"semantic_type\": \"\",\n        \"description\": \"\"\n      }\n    },\n    {\n      \"column\": \"Abundance_2\",\n      \"properties\": {\n        \"dtype\": \"boolean\",\n        \"num_unique_values\": 2,\n        \"samples\": [\n          true,\n          false\n        ],\n        \"semantic_type\": \"\",\n        \"description\": \"\"\n      }\n    },\n    {\n      \"column\": \"Abundance_3\",\n      \"properties\": {\n        \"dtype\": \"boolean\",\n        \"num_unique_values\": 2,\n        \"samples\": [\n          false,\n          true\n        ],\n        \"semantic_type\": \"\",\n        \"description\": \"\"\n      }\n    }\n  ]\n}"
            }
          },
          "metadata": {},
          "execution_count": 228
        }
      ]
    },
    {
      "cell_type": "markdown",
      "source": [
        "\n",
        "**Lets make sure our work is done by double checking everything**"
      ],
      "metadata": {
        "id": "CkfkgOQ9Jbtu"
      }
    },
    {
      "cell_type": "code",
      "source": [
        "df_encoded.shape"
      ],
      "metadata": {
        "colab": {
          "base_uri": "https://localhost:8080/"
        },
        "id": "8cZz5vrBLS5k",
        "outputId": "7eb02777-ded7-44b6-e950-32abbd40e580"
      },
      "execution_count": null,
      "outputs": [
        {
          "output_type": "execute_result",
          "data": {
            "text/plain": [
              "(2075, 16)"
            ]
          },
          "metadata": {},
          "execution_count": 239
        }
      ]
    },
    {
      "cell_type": "code",
      "source": [
        "print(\"Missing values per column:\")\n",
        "print(df_encoded.isnull().sum())\n",
        "\n",
        "#no missing valuues\n"
      ],
      "metadata": {
        "colab": {
          "base_uri": "https://localhost:8080/"
        },
        "id": "Hr148gIZJCm6",
        "outputId": "a178e495-5e28-448d-d8fc-3db97f7867a6"
      },
      "execution_count": null,
      "outputs": [
        {
          "output_type": "stream",
          "name": "stdout",
          "text": [
            "Missing values per column:\n",
            "Outdoor              0\n",
            "Predoiseau           0\n",
            "Predmamm             0\n",
            "Extraversion         0\n",
            "Dominance            0\n",
            "Neuroticism          0\n",
            "Agreeableness        0\n",
            "Age_2a10             0\n",
            "Age_Plusde10         0\n",
            "Accommodation_ASB    0\n",
            "Accommodation_MI     0\n",
            "Accommodation_ML     0\n",
            "Area_R               0\n",
            "Area_U               0\n",
            "Abundance_2          0\n",
            "Abundance_3          0\n",
            "dtype: int64\n"
          ]
        }
      ]
    },
    {
      "cell_type": "code",
      "source": [
        "print(df_encoded.dtypes)\n",
        "#correct data types\n"
      ],
      "metadata": {
        "colab": {
          "base_uri": "https://localhost:8080/"
        },
        "id": "9janvbENJXeu",
        "outputId": "702da117-5b95-4b7f-9164-d20969c09e1c"
      },
      "execution_count": null,
      "outputs": [
        {
          "output_type": "stream",
          "name": "stdout",
          "text": [
            "Outdoor                int64\n",
            "Predoiseau             int64\n",
            "Predmamm               int64\n",
            "Extraversion         float64\n",
            "Dominance            float64\n",
            "Neuroticism          float64\n",
            "Agreeableness        float64\n",
            "Age_2a10                bool\n",
            "Age_Plusde10            bool\n",
            "Accommodation_ASB       bool\n",
            "Accommodation_MI        bool\n",
            "Accommodation_ML        bool\n",
            "Area_R                  bool\n",
            "Area_U                  bool\n",
            "Abundance_2             bool\n",
            "Abundance_3             bool\n",
            "dtype: object\n"
          ]
        }
      ]
    },
    {
      "cell_type": "code",
      "source": [
        "# Check class distribution for Predoiseau\n",
        "print(\"Class distribution for Predoiseau:\")\n",
        "print(df_encoded['Predoiseau'].value_counts(normalize=True) * 100)  # Display percentages\n",
        "\n",
        "\n"
      ],
      "metadata": {
        "colab": {
          "base_uri": "https://localhost:8080/"
        },
        "id": "y_vMncsVJY0k",
        "outputId": "8575eb8d-aeaa-4f1c-bc5a-9a794b1f45a6"
      },
      "execution_count": null,
      "outputs": [
        {
          "output_type": "stream",
          "name": "stdout",
          "text": [
            "Class distribution for Predoiseau:\n",
            "Predoiseau\n",
            "0    68.048193\n",
            "1    19.036145\n",
            "2     6.843373\n",
            "3     4.096386\n",
            "4     1.975904\n",
            "Name: proportion, dtype: float64\n"
          ]
        }
      ]
    },
    {
      "cell_type": "code",
      "source": [
        "# Check class distribution for Predmamm\n",
        "print(\"\\nClass distribution for Predmamm:\")\n",
        "print(df_encoded['Predmamm'].value_counts(normalize=True) * 100)  # Display percentages"
      ],
      "metadata": {
        "colab": {
          "base_uri": "https://localhost:8080/"
        },
        "id": "5EXqQl-RKC61",
        "outputId": "299d53b5-b3a4-4eb8-c943-03d7e1f0c183"
      },
      "execution_count": null,
      "outputs": [
        {
          "output_type": "stream",
          "name": "stdout",
          "text": [
            "\n",
            "Class distribution for Predmamm:\n",
            "Predmamm\n",
            "0    63.614458\n",
            "1    15.325301\n",
            "2     7.277108\n",
            "4     7.228916\n",
            "3     6.554217\n",
            "Name: proportion, dtype: float64\n"
          ]
        }
      ]
    },
    {
      "cell_type": "code",
      "source": [
        "\n",
        "print(df_encoded['Outdoor'].value_counts(normalize=True) * 100)  # Display percentages"
      ],
      "metadata": {
        "colab": {
          "base_uri": "https://localhost:8080/"
        },
        "id": "4XgYeaYvJpEe",
        "outputId": "19fa5cc1-2cbc-49f1-f3de-05d77d7407c2"
      },
      "execution_count": null,
      "outputs": [
        {
          "output_type": "stream",
          "name": "stdout",
          "text": [
            "Outdoor\n",
            "0    35.084337\n",
            "2    29.831325\n",
            "1    21.638554\n",
            "3    12.771084\n",
            "4     0.674699\n",
            "Name: proportion, dtype: float64\n"
          ]
        }
      ]
    },
    {
      "cell_type": "markdown",
      "source": [
        "We run into problems with class imabalance have to decide as team what to do"
      ],
      "metadata": {
        "id": "Qz9TWHTWLcgq"
      }
    },
    {
      "cell_type": "code",
      "source": [
        "# Save the DataFrame as a CSV file\n",
        "df_encoded.to_csv('processed_dataset.csv', index=False)\n",
        "\n",
        "# If using Google Colab, download the file\n",
        "from google.colab import files\n",
        "files.download('processed_dataset.csv')\n"
      ],
      "metadata": {
        "colab": {
          "base_uri": "https://localhost:8080/",
          "height": 17
        },
        "id": "UEyMpR5nK5YX",
        "outputId": "96be153e-6915-4c87-ade9-d972c27e4342"
      },
      "execution_count": null,
      "outputs": [
        {
          "output_type": "display_data",
          "data": {
            "text/plain": [
              "<IPython.core.display.Javascript object>"
            ],
            "application/javascript": [
              "\n",
              "    async function download(id, filename, size) {\n",
              "      if (!google.colab.kernel.accessAllowed) {\n",
              "        return;\n",
              "      }\n",
              "      const div = document.createElement('div');\n",
              "      const label = document.createElement('label');\n",
              "      label.textContent = `Downloading \"${filename}\": `;\n",
              "      div.appendChild(label);\n",
              "      const progress = document.createElement('progress');\n",
              "      progress.max = size;\n",
              "      div.appendChild(progress);\n",
              "      document.body.appendChild(div);\n",
              "\n",
              "      const buffers = [];\n",
              "      let downloaded = 0;\n",
              "\n",
              "      const channel = await google.colab.kernel.comms.open(id);\n",
              "      // Send a message to notify the kernel that we're ready.\n",
              "      channel.send({})\n",
              "\n",
              "      for await (const message of channel.messages) {\n",
              "        // Send a message to notify the kernel that we're ready.\n",
              "        channel.send({})\n",
              "        if (message.buffers) {\n",
              "          for (const buffer of message.buffers) {\n",
              "            buffers.push(buffer);\n",
              "            downloaded += buffer.byteLength;\n",
              "            progress.value = downloaded;\n",
              "          }\n",
              "        }\n",
              "      }\n",
              "      const blob = new Blob(buffers, {type: 'application/binary'});\n",
              "      const a = document.createElement('a');\n",
              "      a.href = window.URL.createObjectURL(blob);\n",
              "      a.download = filename;\n",
              "      div.appendChild(a);\n",
              "      a.click();\n",
              "      div.remove();\n",
              "    }\n",
              "  "
            ]
          },
          "metadata": {}
        },
        {
          "output_type": "display_data",
          "data": {
            "text/plain": [
              "<IPython.core.display.Javascript object>"
            ],
            "application/javascript": [
              "download(\"download_4486a2a1-fd99-4cfe-9ffc-17f86fc7f710\", \"processed_dataset.csv\", 192125)"
            ]
          },
          "metadata": {}
        }
      ]
    },
    {
      "cell_type": "code",
      "source": [],
      "metadata": {
        "id": "7If_ODL4LpuN"
      },
      "execution_count": null,
      "outputs": []
    }
  ]
}